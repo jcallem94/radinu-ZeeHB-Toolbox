{
 "cells": [
  {
   "cell_type": "markdown",
   "metadata": {},
   "source": [
    "#  Modelo de ZeeHB"
   ]
  },
  {
   "cell_type": "markdown",
   "metadata": {},
   "source": [
    "Sample of notebook for specific model"
   ]
  },
  {
   "cell_type": "code",
   "execution_count": 1,
   "metadata": {
    "collapsed": false
   },
   "outputs": [
    {
     "name": "stdout",
     "output_type": "stream",
     "text": [
      "Populating the interactive namespace from numpy and matplotlib\n"
     ]
    }
   ],
   "source": [
    "%pylab inline"
   ]
  },
  {
   "cell_type": "code",
   "execution_count": 2,
   "metadata": {
    "collapsed": false
   },
   "outputs": [],
   "source": [
    "import pandas as pd\n",
    "import numpy as np\n",
    "import os, sys, inspect\n",
    "import commands\n",
    "import hep as hp"
   ]
  },
  {
   "cell_type": "code",
   "execution_count": 3,
   "metadata": {
    "collapsed": true
   },
   "outputs": [],
   "source": [
    "def func(s2phi, M1, M2, MAo, Mho, MHo, v, lam2, lam3, lam6, lam7, lam8, lam9, lam10, lamh):\n",
    "    M12 = M1*M1; M22 = M2*M2; MAo2 = MAo*MAo; Mho2 = Mho*Mho; MHo2 = MHo*MHo;\n",
    "    k = s2phi*np.log(M22/M12)/(4.*np.pi)**2\n",
    "    phi = 0.5*np.arcsin(s2phi)\n",
    "    Mu  = (M22-M12)*s2phi/(np.sqrt(2.0)*v)\n",
    "    MH2 = M12*(np.sin(phi))**2+M22*(np.cos(phi))**2\n",
    "    M332 = M12*(np.cos(phi))**2+M22*(np.sin(phi))**2\n",
    "    lam1 = 0.5*(MHo2+Mho2-np.sqrt((MHo2-Mho2)**2-4.0*v**4*lam6**2))/(v**2)\n",
    "    Mu22 = MH2-0.5*lam3*(v**2)\n",
    "    Muh2 = M332-0.5*lam8*(v**2)\n",
    "    lam4 = 0.5*(np.sqrt((MHo2-Mho2)**2-4.0*v**4*lam6**2)+MHo2+Mho2+2.0*(MAo2-2.0*MH2))/(v**2)\n",
    "    lam5 = 0.5*(np.sqrt((MHo2-Mho2)**2-4.0*v**4*lam6**2)+MHo2+Mho2-2.0*MAo2)/(v**2)    \n",
    "    return k, Mu, Muh2, Mu22, lam1, lam4, lam5"
   ]
  },
  {
   "cell_type": "code",
   "execution_count": 10,
   "metadata": {
    "collapsed": false
   },
   "outputs": [],
   "source": [
    "import hep as hp\n",
    "def Kappa(s2phi,M1,M2):\n",
    "    return s2phi*np.log(M2**2/M1**2)/(4.*np.pi)**2\n",
    "\n",
    "def Inverse_Zee_Matrix(kappa,t12,t13,t23,ml,IH=False,sgnm2=-1,sgnml=1):\n",
    "    \"\"\"Inverse neutrino mass matrix normalized by kappa from\n",
    "        Mnu_diag=U^T.(kappa Y).U\n",
    "        ,\n",
    "        (Inverse_Zee_Matrix) = U. Mnu_diag.U^T/kappa\n",
    "        sgnm2=-1 guarantees real Yukawa couplings\n",
    "        \n",
    "    requires hep.py:\n",
    "       https://github.com/restrepo/BSM-Toolbox/blob/master/tests/hep.py\n",
    "    \"\"\"\n",
    "    if not IH:\n",
    "        mltmp,Dm21_2,Dm3l_2,theta12,theta23,theta13,delta=hp.neutrino_data(CL=3,IH=False,mnu1in=1E-5*1E-9)\n",
    "        theta12[1] = t12\n",
    "        theta13[1] = t13\n",
    "        theta23[1] = t23\n",
    "        U=hp.UPMNS(theta12[1],theta13[1],theta23[1])\n",
    "        m1=ml; m2=sgnm2*np.sqrt(Dm21_2[1]+m1**2); m3=sgnml*np.sqrt(Dm3l_2[1]+m1**2)\n",
    "    else:\n",
    "        mltmp,Dm21_2,Dm3l_2,theta12,theta23,theta13,delta=hp.neutrino_data(CL=3,IH=True,mnu1in=1E-5*1E-9)\n",
    "        #DEBUG signs\n",
    "        m3=ml; m2=sgnm2*np.sqrt(-Dm3l_2[1]+m3**2); m1=sgnml*np.sqrt(m2**2-Dm21_2[1])\n",
    "        theta12[1] = t12\n",
    "        theta13[1] = t13\n",
    "        theta23[1] = t23\n",
    "        U=hp.UPMNS(theta12[1],theta13[1],theta23[1])\n",
    "        \n",
    "    return np.dot( np.dot( U,np.diag([m1,m2,m3]) ), U.transpose() )/kappa\n",
    "\n",
    "def get_yukawas(X,q00=1e-03,q01=1e-3,q11=1e-3,q20=1e-3,q21=-1e-3,q22=0,m_e=0.5109989461e-3,m_mu=0.1056583745,m_tau=1.77686):\n",
    "    \"\"\"\n",
    "    Get the O and f full Yukawa mass matrices which define the neutrino mass matrix in the Zee model\n",
    "      Mnu=kappa*(O.M_lep.f^T+f.M_lep.O^T)\n",
    "    where M_lep is the diagonal matrix with the charged leptons\n",
    "    \n",
    "    The input X is the output of the `def Inverse_Zee_Matrix(...)` in this module\n",
    "    \"\"\"\n",
    "    import numpy.lib.scimath as sc # .sqrt -> returns complex for sqrt(negative real)\n",
    "    ml=np.array([m_e,m_mu,m_tau])\n",
    "    Q=np.zeros((3,3))\n",
    "    f=np.zeros((3,3))\n",
    "    \n",
    "    Q[0,0]=q00; Q[0,1]=q01; Q[1,1]=q11; Q[2,0]=q20; Q[2,1]=q21; Q[2,2]=q22\n",
    "    \n",
    "    \n",
    "    f[0,1] = (ml[0]*(Q[0,1]*Q[2,0]-Q[0,0]*Q[2,1])*X[0,0]+ml[2]*(Q[2,1]*(Q[2,2]*X[0,0]-2*Q[0,2]*X[0,2])+Q[0,1]*Q[0,2]*X[2,2]))/\\\n",
    "    (2.*ml[1]*(ml[0]*Q[0,1]*(Q[0,1]*Q[2,0]-Q[0,0]*Q[2,1])+ml[2]*Q[2,1]*(-(Q[0,2]*Q[2,1])+Q[0,1]*Q[2,2])))\n",
    "\n",
    "    f[0,2] = (Q[2,1]**2*X[0,0]-2*Q[0,1]*Q[2,1]*X[0,2]+Q[0,1]**2*X[2,2])/\\\n",
    "    (2.*(ml[0]*Q[0,1]*(-(Q[0,1]*Q[2,0]) + Q[0,0]*Q[2,1])+ml[2]*Q[2,1]*(Q[0,2]*Q[2,1] - Q[0,1]*Q[2,2])))\n",
    "\n",
    "    f[1,2] = (ml[2]*(Q[0,2]*Q[2,1]-Q[0,1]*Q[2,2])*X[2,2]+ml[0]*(Q[2,0]*(Q[2,1]*X[0,0]-2*Q[0,1]*X[0,2])+Q[0,0]*Q[0,1]*X[2,2]))/\\\n",
    "    (2.*ml[1]*(ml[0]*Q[0,1]*(Q[0,1]*Q[2,0]-Q[0,0]*Q[2,1])+ml[2]*Q[2,1]*(-(Q[0,2]*Q[2,1])+Q[0,1]*Q[2,2])))\n",
    "\n",
    "    Q[1,0] = -((ml[0]**3*Q[0,0]*(-(Q[0,1]*Q[2,0])+Q[0,0]*Q[2,1])*X[0,0]*(Q[2,0]*(Q[2,1]*X[0,0]-2*Q[0,1]*X[0,2])+\\\n",
    "    Q[0,0]*Q[0,1]*X[2,2])+ml[2]*(Q[0,2]*Q[2,1]-Q[0,1]*Q[2,2])*(ml[2]**2*Q[0,2]*(Q[0,2]*Q[2,1]-\\\n",
    "    Q[0,1]*Q[2,2])*X[2,2]**2+ml[1]**2*Q[2,1]*X[1,1]*(Q[2,1]**2*X[0,0] - 2*Q[0,1]*Q[2,1]*X[0,2]+\\\n",
    "    Q[0,1]**2*X[2,2])+ml[1]*ml[2]*X[2,2]*(2*Q[2,1]*(Q[0,2]*Q[2,1]-Q[0,1]*Q[2,2])*X[0,1]+Q[1,1]*(Q[2,1]*(Q[2,2]*X[0,0]-\\\n",
    "    2*Q[0,2]*X[0,2])+Q[0,1]*Q[0,2]*X[2,2])))+ml[0]**2*(ml[1]*(Q[0,1]*Q[2,0]-Q[0,0]*Q[2,1])*(-(Q[1,1]*X[0,0])+\\\n",
    "    2*Q[0,1]*X[0,1])*(Q[2,0]*(-(Q[2,1]*X[0,0])+2*Q[0,1]*X[0,2])-Q[0,0]*Q[0,1]*X[2,2])+\\\n",
    "    ml[2]*(Q[0,0]*Q[2,2]*X[0,0]*(-2*Q[0,0]*Q[0,1]*Q[2,1]*X[2,2]+Q[2,0]*(-(Q[2,1]**2*X[0,0])+2*Q[0,1]*Q[2,1]*X[0,2]+\\\n",
    "    Q[0,1]**2*X[2,2]))+Q[0,2]*(Q[2,0]**2*(Q[2,1]*X[0,0]-2*Q[0,1]*X[0,2])**2+Q[0,0]**2*Q[2,1]*(Q[2,1]*X[0,0]+\\\n",
    "    2*Q[0,1]*X[0,2])*X[2,2]-2*Q[0,0]*Q[2,0]*X[0,2]*(-(Q[2,1]**2*X[0,0]) + 2*Q[0,1]*Q[2,1]*X[0,2]+\\\n",
    "    Q[0,1]**2*X[2,2]))))-ml[0]*(ml[1]**2*Q[0,1]*(Q[0,1]*Q[2,0]-Q[0,0]*Q[2,1])*X[1,1]*(Q[2,1]**2*X[0,0]-\\\n",
    "    2*Q[0,1]*Q[2,1]*X[0,2]+Q[0,1]**2*X[2,2])-ml[2]**2*(Q[0,2]*Q[2,1]-Q[0,1]*Q[2,2])*X[2,2]*\\\n",
    "    (-(Q[0,0]*Q[2,1]*Q[2,2]*X[0,0])+Q[0,2]*(2*Q[2,0]*(Q[2,1]*X[0,0]-2*Q[0,1]*X[0,2])+\\\n",
    "    Q[0,0]*(2*Q[2,1]*X[0,2]+Q[0,1]*X[2,2])))+ml[1]*ml[2]*(-2*(Q[0,2]*Q[2,1]-Q[0,1]*Q[2,2])*X[0,1]*\\\n",
    "    (2*Q[0,0]*Q[0,1]*Q[2,1]*X[2,2]+Q[2,0]*(Q[2,1]**2*X[0,0]-2*Q[0,1]*Q[2,1]*X[0,2]-Q[0,1]**2*X[2,2]))+\\\n",
    "    Q[1,1]*(Q[0,0]*X[2,2]*(-2*Q[0,1]*Q[2,1]*Q[2,2]*X[0,0]+Q[0,2]*(Q[2,1]**2*X[0,0]+2*Q[0,1]*Q[2,1]*X[0,2]-\\\n",
    "    Q[0,1]**2*X[2,2]))+Q[2,0]*(Q[2,1]**2*X[0,0]*(-(Q[2,2]*X[0,0])+2*Q[0,2]*X[0,2])+Q[0,1]**2*(Q[2,2]*X[0,0]+\\\n",
    "    2*Q[0,2]*X[0,2])*X[2,2]+2*Q[0,1]*Q[2,1]*(Q[2,2]*X[0,0]*X[0,2]-Q[0,2]*(2*X[0,2]**2+X[0,0]*X[2,2])))))))/\\\n",
    "    (ml[0]*ml[1]*(Q[2,1]**2*X[0,0]-2*Q[0,1]*Q[2,1]*X[0,2]+Q[0,1]**2*X[2,2])*(ml[0]*(-(Q[0,1]*Q[2,0])+\\\n",
    "    Q[0,0]*Q[2,1])*X[0,0]-ml[2]*(Q[2,1]*(Q[2,2]*X[0,0]-2*Q[0,2]*X[0,2])+Q[0,1]*Q[0,2]*X[2,2]))))\n",
    "\n",
    "    Q[1,2] = (ml[0]**2*Q[0,0]*(-(Q[0,1]*Q[2,0])+Q[0,0]*Q[2,1])*X[0,0]+ml[0]*(-(ml[1]*(Q[0,1]*Q[2,0]-\\\n",
    "    Q[0,0]*Q[2,1])*(-(Q[1,1]*X[0,0])+2*Q[0,1]*X[0,1]))+ml[2]*(-(Q[0,0]*Q[2,1]*Q[2,2]*X[0,0])+\\\n",
    "    Q[0,2]*(2*Q[0,0]*Q[2,1]*X[0,2]+Q[2,0]*(Q[2,1]*X[0,0]-2*Q[0,1]*X[0,2]))))+\\\n",
    "    ml[2]*(ml[2]*Q[0,2]*(Q[0,2]*Q[2,1]-Q[0,1]*Q[2,2])*X[2,2]+ml[1]*(2*Q[2,1]*(Q[0,2]*Q[2,1]-\\\n",
    "    Q[0,1]*Q[2,2])*X[0,1]+Q[1,1]*(Q[2,1]*(Q[2,2]*X[0,0]-2*Q[0,2]*X[0,2])+Q[0,1]*Q[0,2]*X[2,2]))))/\\\n",
    "    (ml[1]*ml[2]*(Q[2,1]**2*X[0,0] - 2*Q[0,1]*Q[2,1]*X[0,2] + Q[0,1]**2*X[2,2]))\n",
    "\n",
    "    Q[0,2] = (ml[2]**2*Q[2,2]*X[0,2]*X[2,2]+ml[2]*(2*X[0,2]*(ml[0]*Q[2,0]*X[0,2]+ml[1]*Q[2,1]*X[1,2])-\\\n",
    "    (ml[0]*(Q[2,0]*X[0,0]+Q[0,0]*X[0,2])+ml[1]*(Q[2,1]*X[0,1] + Q[0,1]*X[1,2]))*X[2,2])+\\\n",
    "    np.sqrt(ml[2]**2*((-2*X[0,2]*(ml[0]*Q[2,0]*X[0,2]+ml[1]*Q[2,1]*X[1,2])+(ml[0]*Q[2,0]*X[0,0]+\\\n",
    "    (ml[0]*Q[0,0] - ml[2]*Q[2,2])*X[0,2]+ml[1]*(Q[2,1]*X[0,1]+Q[0,1]*X[1,2]))*X[2,2])**2-\\\n",
    "    X[2,2]**2*(ml[2]**2*Q[2,2]**2*X[0,0]*X[2,2]+ml[0]**2*X[0,0]*(Q[2,0]**2*X[0,0]-2*Q[0,0]*Q[2,0]*X[0,2]+\\\n",
    "    Q[0,0]**2*X[2,2])+ml[1]**2*X[1,1]*(Q[2,1]**2*X[0,0]-2*Q[0,1]*Q[2,1]*X[0,2]+Q[0,1]**2*X[2,2])+\\\n",
    "    2*ml[1]*ml[2]*Q[2,2]*(Q[2,1]*X[0,0]*X[1,2]-Q[0,1]*X[0,1]*X[2,2])+2*ml[0]*(ml[2]*Q[2,2]*X[0,0]*(Q[2,0]*X[0,2]-\\\n",
    "    Q[0,0]*X[2,2])+ml[1]*(Q[2,0]*(X[0,1]*(Q[2,1]*X[0,0]-2*Q[0,1]*X[0,2])+Q[0,1]*X[0,0]*X[1,2])+\\\n",
    "    Q[0,0]*(-(Q[2,1]*X[0,0]*X[1,2])+Q[0,1]*X[0,1]*X[2,2])))))))/(ml[2]**2*X[2,2]**2)    \n",
    "    \n",
    "    f[1,0]=-f[0,1]; f[2,0]=-f[0,2]; f[2,1]=-f[1,2]\n",
    "    \n",
    "    return Q,f\n",
    "\n",
    "def test_Zee(q00,q01,q11,q20,q21,q22):\n",
    "    m_e=0.5109989461e-3;m_mu=0.1056583745;m_tau=1.77686\n",
    "    mlep=np.diag([m_e,m_mu,m_tau])\n",
    "    m1=0 # lightest neutrino\n",
    "    s2phi=0.014; M1=200.; M2=300.\n",
    "    t12=33.56*180.0/np.pi\n",
    "    t13=8.49*180.0/np.pi\n",
    "    t23=41.6*180.0/np.pi\n",
    "    X=Inverse_Zee_Matrix(Kappa(s2phi,M1,M2),t12,t13,t23,m1)\n",
    "    O,f=get_yukawas(X,q00,q01,q11,q20,q21,q22) #Use default input values\n",
    "    Mnu=Kappa(s2phi,M1,M2)*( np.dot( np.dot(O,mlep),f.transpose() )+np.dot( np.dot(f,mlep),O.transpose()) )\n",
    "    Mnu_diag,U=np.linalg.eig(Mnu)\n",
    "    lo=np.argsort(np.abs(Mnu_diag))\n",
    "    Mnu_diag=np.array([Mnu_diag[lo[0]],Mnu_diag[lo[1]],Mnu_diag[lo[2]]])\n",
    "    U=np.matrix(U)\n",
    "    U=np.asarray(np.hstack((U[:,lo[0]],U[:,lo[1]],U[:,lo[2]])))\n",
    "    \n",
    "    mltmp,Dm21_2,Dm3l_2,theta12,theta23,theta13,delta=hp.neutrino_data(CL=3,IH=False,mnu1in=1E-5*1E-9)\n",
    "    m2=np.sqrt(Dm21_2[1]+m1**2); m3=np.sqrt(Dm3l_2[1]+m1**2)\n",
    "    theta12[1] = t12\n",
    "    theta13[1] = t13\n",
    "    theta23[1] = t23\n",
    "    \n",
    "    np.testing.assert_array_almost_equal(np.abs(U),\\\n",
    "        np.abs( hp.UPMNS(theta12[1],theta13[1],theta23[1]) ) )\n",
    "    \n",
    "    return np.testing.assert_almost_equal( np.abs(Mnu_diag),np.abs([m1,m2,m3]) ) "
   ]
  },
  {
   "cell_type": "code",
   "execution_count": 13,
   "metadata": {
    "collapsed": false
   },
   "outputs": [
    {
     "ename": "AssertionError",
     "evalue": "\nArrays are not almost equal to 6 decimals\n\n(mismatch 100.0%)\n x: array([[ 0.001128,  0.026256,  0.999655],\n       [ 0.651431,  0.758427,  0.020655],\n       [ 0.758707,  0.651229,  0.016248]])\n y: array([[ 0.858821,  0.166644,  0.484414],\n       [ 0.282197,  0.6353  ,  0.718859],\n       [ 0.427542,  0.754072,  0.498582]])",
     "output_type": "error",
     "traceback": [
      "\u001b[0;31m---------------------------------------------------------------------------\u001b[0m",
      "\u001b[0;31mAssertionError\u001b[0m                            Traceback (most recent call last)",
      "\u001b[0;32m<ipython-input-13-3c0d92f8ac2d>\u001b[0m in \u001b[0;36m<module>\u001b[0;34m()\u001b[0m\n\u001b[0;32m----> 1\u001b[0;31m \u001b[0mtest_Zee\u001b[0m\u001b[0;34m(\u001b[0m\u001b[0mq00\u001b[0m\u001b[0;34m=\u001b[0m\u001b[0;34m-\u001b[0m\u001b[0;36m4.255172e-03\u001b[0m\u001b[0;34m,\u001b[0m\u001b[0mq01\u001b[0m\u001b[0;34m=\u001b[0m\u001b[0;36m2.412983e-05\u001b[0m\u001b[0;34m,\u001b[0m\u001b[0mq11\u001b[0m\u001b[0;34m=\u001b[0m\u001b[0;36m3.109212e-11\u001b[0m\u001b[0;34m,\u001b[0m\u001b[0mq20\u001b[0m\u001b[0;34m=\u001b[0m\u001b[0;34m-\u001b[0m\u001b[0;36m4.987462e-04\u001b[0m\u001b[0;34m,\u001b[0m\u001b[0mq21\u001b[0m\u001b[0;34m=\u001b[0m\u001b[0;34m-\u001b[0m\u001b[0;36m2.227795e-05\u001b[0m\u001b[0;34m,\u001b[0m\u001b[0mq22\u001b[0m\u001b[0;34m=\u001b[0m\u001b[0;36m3.246787e-08\u001b[0m\u001b[0;34m)\u001b[0m\u001b[0;34m\u001b[0m\u001b[0m\n\u001b[0m",
      "\u001b[0;32m<ipython-input-10-ed67f2608de3>\u001b[0m in \u001b[0;36mtest_Zee\u001b[0;34m(q00, q01, q11, q20, q21, q22)\u001b[0m\n\u001b[1;32m     86\u001b[0m     \u001b[0mtheta23\u001b[0m\u001b[0;34m[\u001b[0m\u001b[0;36m1\u001b[0m\u001b[0;34m]\u001b[0m \u001b[0;34m=\u001b[0m \u001b[0mt23\u001b[0m\u001b[0;34m\u001b[0m\u001b[0m\n\u001b[1;32m     87\u001b[0m \u001b[0;34m\u001b[0m\u001b[0m\n\u001b[0;32m---> 88\u001b[0;31m     \u001b[0mnp\u001b[0m\u001b[0;34m.\u001b[0m\u001b[0mtesting\u001b[0m\u001b[0;34m.\u001b[0m\u001b[0massert_array_almost_equal\u001b[0m\u001b[0;34m(\u001b[0m\u001b[0mnp\u001b[0m\u001b[0;34m.\u001b[0m\u001b[0mabs\u001b[0m\u001b[0;34m(\u001b[0m\u001b[0mU\u001b[0m\u001b[0;34m)\u001b[0m\u001b[0;34m,\u001b[0m        \u001b[0mnp\u001b[0m\u001b[0;34m.\u001b[0m\u001b[0mabs\u001b[0m\u001b[0;34m(\u001b[0m \u001b[0mhp\u001b[0m\u001b[0;34m.\u001b[0m\u001b[0mUPMNS\u001b[0m\u001b[0;34m(\u001b[0m\u001b[0mtheta12\u001b[0m\u001b[0;34m[\u001b[0m\u001b[0;36m1\u001b[0m\u001b[0;34m]\u001b[0m\u001b[0;34m,\u001b[0m\u001b[0mtheta13\u001b[0m\u001b[0;34m[\u001b[0m\u001b[0;36m1\u001b[0m\u001b[0;34m]\u001b[0m\u001b[0;34m,\u001b[0m\u001b[0mtheta23\u001b[0m\u001b[0;34m[\u001b[0m\u001b[0;36m1\u001b[0m\u001b[0;34m]\u001b[0m\u001b[0;34m)\u001b[0m \u001b[0;34m)\u001b[0m \u001b[0;34m)\u001b[0m\u001b[0;34m\u001b[0m\u001b[0m\n\u001b[0m\u001b[1;32m     89\u001b[0m \u001b[0;34m\u001b[0m\u001b[0m\n\u001b[1;32m     90\u001b[0m     \u001b[0;32mreturn\u001b[0m \u001b[0mnp\u001b[0m\u001b[0;34m.\u001b[0m\u001b[0mtesting\u001b[0m\u001b[0;34m.\u001b[0m\u001b[0massert_almost_equal\u001b[0m\u001b[0;34m(\u001b[0m \u001b[0mnp\u001b[0m\u001b[0;34m.\u001b[0m\u001b[0mabs\u001b[0m\u001b[0;34m(\u001b[0m\u001b[0mMnu_diag\u001b[0m\u001b[0;34m)\u001b[0m\u001b[0;34m,\u001b[0m\u001b[0mnp\u001b[0m\u001b[0;34m.\u001b[0m\u001b[0mabs\u001b[0m\u001b[0;34m(\u001b[0m\u001b[0;34m[\u001b[0m\u001b[0mm1\u001b[0m\u001b[0;34m,\u001b[0m\u001b[0mm2\u001b[0m\u001b[0;34m,\u001b[0m\u001b[0mm3\u001b[0m\u001b[0;34m]\u001b[0m\u001b[0;34m)\u001b[0m \u001b[0;34m)\u001b[0m\u001b[0;34m\u001b[0m\u001b[0m\n",
      "\u001b[0;32m/usr/local/lib/python2.7/dist-packages/numpy/testing/utils.pyc\u001b[0m in \u001b[0;36massert_array_almost_equal\u001b[0;34m(x, y, decimal, err_msg, verbose)\u001b[0m\n\u001b[1;32m    916\u001b[0m     assert_array_compare(compare, x, y, err_msg=err_msg, verbose=verbose,\n\u001b[1;32m    917\u001b[0m              \u001b[0mheader\u001b[0m\u001b[0;34m=\u001b[0m\u001b[0;34m(\u001b[0m\u001b[0;34m'Arrays are not almost equal to %d decimals'\u001b[0m \u001b[0;34m%\u001b[0m \u001b[0mdecimal\u001b[0m\u001b[0;34m)\u001b[0m\u001b[0;34m,\u001b[0m\u001b[0;34m\u001b[0m\u001b[0m\n\u001b[0;32m--> 918\u001b[0;31m              precision=decimal)\n\u001b[0m\u001b[1;32m    919\u001b[0m \u001b[0;34m\u001b[0m\u001b[0m\n\u001b[1;32m    920\u001b[0m \u001b[0;34m\u001b[0m\u001b[0m\n",
      "\u001b[0;32m/usr/local/lib/python2.7/dist-packages/numpy/testing/utils.pyc\u001b[0m in \u001b[0;36massert_array_compare\u001b[0;34m(comparison, x, y, err_msg, verbose, header, precision)\u001b[0m\n\u001b[1;32m    737\u001b[0m                                 names=('x', 'y'), precision=precision)\n\u001b[1;32m    738\u001b[0m             \u001b[0;32mif\u001b[0m \u001b[0;32mnot\u001b[0m \u001b[0mcond\u001b[0m\u001b[0;34m:\u001b[0m\u001b[0;34m\u001b[0m\u001b[0m\n\u001b[0;32m--> 739\u001b[0;31m                 \u001b[0;32mraise\u001b[0m \u001b[0mAssertionError\u001b[0m\u001b[0;34m(\u001b[0m\u001b[0mmsg\u001b[0m\u001b[0;34m)\u001b[0m\u001b[0;34m\u001b[0m\u001b[0m\n\u001b[0m\u001b[1;32m    740\u001b[0m     \u001b[0;32mexcept\u001b[0m \u001b[0mValueError\u001b[0m\u001b[0;34m:\u001b[0m\u001b[0;34m\u001b[0m\u001b[0m\n\u001b[1;32m    741\u001b[0m         \u001b[0;32mimport\u001b[0m \u001b[0mtraceback\u001b[0m\u001b[0;34m\u001b[0m\u001b[0m\n",
      "\u001b[0;31mAssertionError\u001b[0m: \nArrays are not almost equal to 6 decimals\n\n(mismatch 100.0%)\n x: array([[ 0.001128,  0.026256,  0.999655],\n       [ 0.651431,  0.758427,  0.020655],\n       [ 0.758707,  0.651229,  0.016248]])\n y: array([[ 0.858821,  0.166644,  0.484414],\n       [ 0.282197,  0.6353  ,  0.718859],\n       [ 0.427542,  0.754072,  0.498582]])"
     ]
    }
   ],
   "source": [
    "test_Zee(q00=-4.255172e-03,q01=2.412983e-05,q11=3.109212e-11,q20=-4.987462e-04,q21=-2.227795e-05,q22=3.246787e-08)"
   ]
  },
  {
   "cell_type": "code",
   "execution_count": 14,
   "metadata": {
    "collapsed": false
   },
   "outputs": [
    {
     "data": {
      "text/plain": [
       "(1.0000000000000002e-14,\n",
       " array([  7.03000000e-23,   7.50000000e-23,   8.09000000e-23]),\n",
       " array([ -2.39900000e-21,  -2.51400000e-21,  -2.63500000e-21]),\n",
       " array([ 0.54768432,  0.5857325 ,  0.628144  ]),\n",
       " array([ 0.67718775,  0.87266463,  0.92676983]),\n",
       " array([ 0.14014994,  0.14817845,  0.1558579 ]),\n",
       " array([ 2.53072742,  4.83456203,  6.82423738]))"
      ]
     },
     "execution_count": 14,
     "metadata": {},
     "output_type": "execute_result"
    }
   ],
   "source": [
    "hp.neutrino_data(IH=True)"
   ]
  },
  {
   "cell_type": "code",
   "execution_count": 15,
   "metadata": {
    "collapsed": true
   },
   "outputs": [],
   "source": [
    "import numpy.lib.scimath as sc"
   ]
  },
  {
   "cell_type": "code",
   "execution_count": 16,
   "metadata": {
    "collapsed": false
   },
   "outputs": [],
   "source": [
    "s2phi=0.014; M1=200.; M2=300.\n",
    "kappa=Kappa(s2phi,M1,M2)"
   ]
  },
  {
   "cell_type": "code",
   "execution_count": 20,
   "metadata": {
    "collapsed": false
   },
   "outputs": [
    {
     "data": {
      "text/plain": [
       "array([[  1.60643366e-07,  -2.56089533e-07,   1.53632126e-07],\n",
       "       [ -2.56089533e-07,   3.12494370e-07,  -3.08166110e-07],\n",
       "       [  1.53632126e-07,  -3.08166110e-07,   1.05217268e-07]])"
      ]
     },
     "execution_count": 20,
     "metadata": {},
     "output_type": "execute_result"
    }
   ],
   "source": [
    "m3=1E-15\n",
    "t12=33.56*180.0/np.pi\n",
    "t13=8.49*180.0/np.pi\n",
    "t23=41.6*180.0/np.pi\n",
    "X=Inverse_Zee_Matrix(Kappa(s2phi,M1,M2),t12,t13,t23,m3)\n",
    "X"
   ]
  },
  {
   "cell_type": "code",
   "execution_count": 23,
   "metadata": {
    "collapsed": false
   },
   "outputs": [],
   "source": [
    "O,f=get_yukawas(X,q00=-4.255172e-03,q01=2.412983e-05,q11=3.109212e-11,q20=-4.987462e-04,q21=-2.227795e-05,q22=3.246787e-08)"
   ]
  },
  {
   "cell_type": "code",
   "execution_count": 24,
   "metadata": {
    "collapsed": false
   },
   "outputs": [],
   "source": [
    "m_e=0.5109989461e-3;m_mu=0.1056583745;m_tau=1.77686\n",
    "mlep=np.diag([m_e,m_mu,m_tau])\n",
    "Mnu=Kappa(s2phi,M1,M2)*( np.dot( np.dot(O,mlep),f.transpose() )+np.dot( np.dot(f,mlep),O.transpose()) )\n",
    "Mnu_diag,U=np.linalg.eig(Mnu)"
   ]
  },
  {
   "cell_type": "code",
   "execution_count": 25,
   "metadata": {
    "collapsed": false
   },
   "outputs": [],
   "source": [
    "lo=np.argsort(np.abs(Mnu_diag))\n",
    "Mnu_diag=np.array([Mnu_diag[lo[1]],Mnu_diag[lo[2]],Mnu_diag[lo[0]]])\n",
    "U=np.matrix(U)\n",
    "U=np.asarray(np.hstack((U[:,lo[1]],U[:,lo[2]],U[:,lo[0]])))"
   ]
  },
  {
   "cell_type": "code",
   "execution_count": 26,
   "metadata": {
    "collapsed": false
   },
   "outputs": [
    {
     "data": {
      "text/plain": [
       "array([  6.36630929e-11,   7.48812271e-10,  -3.41055336e-11])"
      ]
     },
     "execution_count": 26,
     "metadata": {},
     "output_type": "execute_result"
    }
   ],
   "source": [
    "Mnu_diag # m"
   ]
  },
  {
   "cell_type": "code",
   "execution_count": 27,
   "metadata": {
    "collapsed": false
   },
   "outputs": [
    {
     "data": {
      "text/plain": [
       "array([[ 0.02625653,  0.9996546 ,  0.00112815],\n",
       "       [-0.75842889,  0.02065576, -0.6514284 ],\n",
       "       [-0.6512267 ,  0.01624863,  0.75870928]])"
      ]
     },
     "execution_count": 27,
     "metadata": {},
     "output_type": "execute_result"
    }
   ],
   "source": [
    "U"
   ]
  },
  {
   "cell_type": "code",
   "execution_count": 28,
   "metadata": {
    "collapsed": false
   },
   "outputs": [
    {
     "data": {
      "text/plain": [
       "array([[ 0.8241757 ,  0.54675204,  0.14763679],\n",
       "       [ 0.44958339,  0.47311888,  0.75764986],\n",
       "       [ 0.34439685,  0.69081165,  0.63574372]])"
      ]
     },
     "execution_count": 28,
     "metadata": {},
     "output_type": "execute_result"
    }
   ],
   "source": [
    "mltmp,Dm21_2,Dm3l_2,theta12,theta23,theta13,delta=hp.neutrino_data(IH=True)\n",
    "#m2=np.sqrt(Dm21_2[1]+m1**2); m3=np.sqrt(Dm3l_2[1]+m1**2)\n",
    "np.abs( hp.UPMNS(theta12[1],theta13[1],theta23[1]) )"
   ]
  },
  {
   "cell_type": "markdown",
   "metadata": {},
   "source": [
    "[![Home](http://www.incredimail.com/images/nav%20bar/home-icon.png)](./) \n",
    "[Jupyter home](./draft.pdf)"
   ]
  }
 ],
 "metadata": {
  "kernelspec": {
   "display_name": "Python 2",
   "language": "python",
   "name": "python2"
  },
  "language_info": {
   "codemirror_mode": {
    "name": "ipython",
    "version": 2
   },
   "file_extension": ".py",
   "mimetype": "text/x-python",
   "name": "python",
   "nbconvert_exporter": "python",
   "pygments_lexer": "ipython2",
   "version": "2.7.12"
  }
 },
 "nbformat": 4,
 "nbformat_minor": 0
}
