{
 "cells": [
  {
   "cell_type": "markdown",
   "metadata": {},
   "source": [
    "#  Modelo de ZeeHB"
   ]
  },
  {
   "cell_type": "markdown",
   "metadata": {},
   "source": [
    "Sample of notebook for specific model"
   ]
  },
  {
   "cell_type": "code",
   "execution_count": null,
   "metadata": {
    "collapsed": false
   },
   "outputs": [],
   "source": [
    "%pylab inline"
   ]
  },
  {
   "cell_type": "code",
   "execution_count": null,
   "metadata": {
    "collapsed": false
   },
   "outputs": [],
   "source": [
    "import pandas as pd\n",
    "import numpy as np\n",
    "import os, sys, inspect\n",
    "import commands\n",
    "import hep as hp\n",
    "from matplotlib.colors import LogNorm"
   ]
  },
  {
   "cell_type": "code",
   "execution_count": null,
   "metadata": {
    "collapsed": true
   },
   "outputs": [],
   "source": [
    "def func(s2phi, M1, M2, MAo, Mho, MHo, v, lam2, lam3, lam6, lam7, lam8, lam9, lam10, lamh):\n",
    "    M12 = M1*M1; M22 = M2*M2; MAo2 = MAo*MAo; Mho2 = Mho*Mho; MHo2 = MHo*MHo;\n",
    "    k = s2phi*np.log(M22/M12)/(4.*np.pi)**2\n",
    "    phi = 0.5*np.arcsin(s2phi)\n",
    "    Mu  = (M22-M12)*s2phi/(np.sqrt(2.0)*v)\n",
    "    MH2 = M12*(np.sin(phi))**2+M22*(np.cos(phi))**2\n",
    "    M332 = M12*(np.cos(phi))**2+M22*(np.sin(phi))**2\n",
    "    lam1 = 0.5*(MHo2+Mho2-np.sqrt((MHo2-Mho2)**2-4.0*v**4*lam6**2))/(v**2)\n",
    "    Mu22 = MH2-0.5*lam3*(v**2)\n",
    "    Muh2 = M332-0.5*lam8*(v**2)\n",
    "    lam4 = 0.5*(np.sqrt((MHo2-Mho2)**2-4.0*v**4*lam6**2)+MHo2+Mho2+2.0*(MAo2-2.0*MH2))/(v**2)\n",
    "    lam5 = 0.5*(np.sqrt((MHo2-Mho2)**2-4.0*v**4*lam6**2)+MHo2+Mho2-2.0*MAo2)/(v**2)    \n",
    "    return k, Mu, Muh2, Mu22, lam1, lam4, lam5"
   ]
  },
  {
   "cell_type": "code",
   "execution_count": null,
   "metadata": {
    "collapsed": false
   },
   "outputs": [],
   "source": [
    "import hep as hp\n",
    "def Kappa(s2phi,M1,M2):\n",
    "    return s2phi*np.log(M2**2/M1**2)/(4.*np.pi)**2\n",
    "\n",
    "def Inverse_Zee_Matrix(kappa,t12,t13,t23,ml,IH=False,sgnm2=-1,sgnml=1):\n",
    "    \"\"\"Inverse neutrino mass matrix normalized by kappa from\n",
    "        Mnu_diag=U^T.(kappa Y).U\n",
    "        ,\n",
    "        (Inverse_Zee_Matrix) = U. Mnu_diag.U^T/kappa\n",
    "        sgnm2=-1 guarantees real Yukawa couplings\n",
    "        \n",
    "    requires hep.py:\n",
    "       https://github.com/restrepo/BSM-Toolbox/blob/master/tests/hep.py\n",
    "    \"\"\"\n",
    "    if not IH:\n",
    "        mltmp,Dm21_2,Dm3l_2,theta12,theta23,theta13,delta=hp.neutrino_data(CL=3,IH=False,mnu1in=1E-5*1E-9)\n",
    "        theta12[1] = t12\n",
    "        theta13[1] = t13\n",
    "        theta23[1] = t23\n",
    "        U=hp.UPMNS(theta12[1],theta13[1],theta23[1])\n",
    "        m1=ml; m2=sgnm2*np.sqrt(Dm21_2[1]+m1**2); m3=sgnml*np.sqrt(Dm3l_2[1]+m1**2)\n",
    "    else:\n",
    "        mltmp,Dm21_2,Dm3l_2,theta12,theta23,theta13,delta=hp.neutrino_data(CL=3,IH=True,mnu1in=1E-5*1E-9)\n",
    "        #DEBUG signs\n",
    "        m3=ml; m2=sgnm2*np.sqrt(-Dm3l_2[1]+m3**2); m1=sgnml*np.sqrt(m2**2-Dm21_2[1])\n",
    "        theta12[1] = t12\n",
    "        theta13[1] = t13\n",
    "        theta23[1] = t23\n",
    "        U=hp.UPMNS(theta12[1],theta13[1],theta23[1])\n",
    "        \n",
    "    return np.dot( np.dot( U,np.diag([m1,m2,m3]) ), U.transpose() )/kappa\n",
    "\n",
    "def get_yukawas(X,q01=1e-3,q02=1e-6,q10=200e-3,q12=0.0,q21=-1e-5,q22=0,m_e=0.5109989461e-3,m_mu=0.1056583745,m_tau=1.77686):\n",
    "    \"\"\"\n",
    "    Get the O and f full Yukawa mass matrices which define the neutrino mass matrix in the Zee model\n",
    "      Mnu=kappa*(O.M_lep.f^T+f.M_lep.O^T)\n",
    "    where M_lep is the diagonal matrix with the charged leptons\n",
    "    \n",
    "    The input X is the output of the `def Inverse_Zee_Matrix(...)` in this module\n",
    "    \"\"\"\n",
    "    import numpy.lib.scimath as sc # .sqrt -> returns complex for sqrt(negative real)\n",
    "    ml=np.array([m_e,m_mu,m_tau])\n",
    "    Q=np.zeros((3,3))\n",
    "    f=np.zeros((3,3))\n",
    "    Q[0,1]=q01;Q[0,2]=q02;Q[1,0]=q10;Q[1,2]=q12;Q[2,1]=q21;Q[2,2]=q22\n",
    "    Q[2,0]=( -(ml[0]**3*Q[1,0]**2*X[0,0]**2*(ml[1]*Q[2,1]*X[0,1] + ml[2]*Q[0,2]*X[2,2])) -\\\n",
    "      ml[0]*(ml[1]*Q[2,1]*X[1,1] + ml[2]*Q[1,2]*X[2,2])*(ml[1]*Q[0,1]*((ml[1]*Q[0,1]*X[0,1] +\\\n",
    "      ml[2]*Q[0,2]*X[0,2])*X[1,1] + ml[2]*Q[1,2]*X[0,0]*X[1,2]) +\\\n",
    "      ml[2]**2*Q[0,2]*Q[1,2]*X[0,0]*X[2,2]) + ml[0]**2*Q[1,0]*X[0,0]*(-(ml[1]*Q[2,1]*((2*ml[1]*Q[0,1]*X[0,1] +\\\n",
    "      ml[2]*Q[0,2]*X[0,2])*X[1,1] + ml[2]*Q[1,2]*X[0,0]*X[1,2])) -\\\n",
    "      ml[2]*(2*ml[2]*Q[0,2]*Q[1,2]*X[0,2] + ml[1]*Q[0,1]*(Q[1,2]*X[0,1] + Q[0,2]*X[1,1]))*X[2,2]) +\\\n",
    "      sc.sqrt( -(ml[0]**2*ml[1]**2*(ml[0]*Q[1,0]*Q[2,1]*X[0,0] + Q[0,1]*(ml[1]*Q[2,1]*X[1,1] +\\\n",
    "      ml[2]*Q[1,2]*X[2,2]))**2*(ml[0]**2*Q[1,0]**2*X[0,0]**2*(-X[0,1]**2 + X[0,0]*X[1,1]) +\\\n",
    "      ml[1]**2*Q[0,1]**2*X[1,1]**2*(-X[0,1]**2 + X[0,0]*X[1,1]) +\\\n",
    "      2*ml[1]*ml[2]*Q[0,1]*X[1,1]*((Q[1,2]*X[0,0] - Q[0,2]*X[0,1])*X[0,2]*X[1,1] + X[0,0]*(-(Q[1,2]*X[0,1]) +\\\n",
    "      Q[0,2]*X[1,1])*X[1,2]) + 2*ml[0]*Q[1,0]*X[0,0]*(X[1,1]*(ml[2]*(Q[1,2]*X[0,0] - Q[0,2]*X[0,1])*X[0,2] +\\\n",
    "      ml[1]*Q[0,1]*(-X[0,1]**2 + X[0,0]*X[1,1])) + ml[2]*X[0,0]*(-(Q[1,2]*X[0,1]) + Q[0,2]*X[1,1])*X[1,2]) +\\\n",
    "      ml[2]**2*(-(Q[0,2]*X[0,2]*X[1,1] - Q[1,2]*X[0,0]*X[1,2])**2 + X[0,0]*X[1,1]*(Q[1,2]**2*X[0,0] -\\\n",
    "      2*Q[0,2]*Q[1,2]*X[0,1] + Q[0,2]**2*X[1,1])*X[2,2])))    )   )/\\\n",
    "      (ml[0]**2*X[0,0]*((ml[0]*Q[1,0]*X[0,0] + ml[1]*Q[0,1]*X[1,1])*(ml[0]*Q[1,0]*X[0,0] +\\\n",
    "       2*ml[2]*Q[1,2]*X[0,2] + ml[1]*Q[0,1]*X[1,1]) + ml[2]**2*Q[1,2]**2*X[0,0]*X[2,2]))\n",
    "\n",
    "    Q[0,0]=(ml[0]**2*Q[0,1]*Q[1,0]*Q[2,0]*X[0,0] - ml[2]*(Q[0,2]*Q[2,1] -\\\n",
    "        Q[0,1]*Q[2,2])*(ml[1]*Q[2,1]*X[1,1] + ml[2]*Q[1,2]*X[2,2]) +\\\n",
    "        ml[0]*(ml[1]*Q[0,1]**2*Q[2,0]*X[1,1] + ml[2]*(Q[1,2]*Q[2,0]*(-(Q[2,1]*X[0,0]) +\\\n",
    "        2*Q[0,1]*X[0,2]) + Q[1,0]*(Q[2,1]*(Q[2,2]*X[0,0] - 2*Q[0,2]*X[0,2]) +\\\n",
    "        Q[0,1]*Q[0,2]*X[2,2]))))/(ml[0]*(ml[0]*Q[1,0]*Q[2,1]*X[0,0] +\\\n",
    "        Q[0,1]*(ml[1]*Q[2,1]*X[1,1] + ml[2]*Q[1,2]*X[2,2])))\n",
    "    \n",
    "    Q[1,1]=(ml[0]**3*Q[1,0]*Q[2,0]*(Q[0,1]*Q[1,2]*Q[2,0] - Q[0,2]*Q[1,0]*Q[2,1])*X[0,0]**2 +\\\n",
    "        ml[0]*(2*ml[1]*Q[0,1]*(Q[0,1]*Q[1,2]*Q[2,0]*X[0,1] + Q[1,0]*Q[2,1]*(Q[1,2]*X[0,0] -\\\n",
    "        Q[0,2]*X[0,1])) + ml[2]*(Q[0,1]*Q[1,2]*Q[2,0]*Q[2,2]*X[0,0] -\\\n",
    "        2*Q[0,2]**2*Q[1,0]*Q[2,1]*X[0,2] + Q[0,2]*(Q[1,0]*Q[2,1]*Q[2,2]*X[0,0] +\\\n",
    "        2*Q[1,2]*Q[2,0]*(-(Q[2,1]*X[0,0]) + Q[0,1]*X[0,2]))))*(ml[1]*Q[2,1]*X[1,1] +\\\n",
    "        ml[2]*Q[1,2]*X[2,2]) + (ml[1]*Q[0,1]**2*Q[1,2] + ml[2]*Q[0,2]*(-(Q[0,2]*Q[2,1]) +\\\n",
    "        Q[0,1]*Q[2,2]))*(ml[1]*Q[2,1]*X[1,1] + ml[2]*Q[1,2]*X[2,2])**2 +\\\n",
    "        ml[0]**2*X[0,0]*(ml[1]*(Q[1,0]**2*Q[2,1]**2*(Q[1,2]*X[0,0] - 2*Q[0,2]*X[0,1]) +\\\n",
    "        Q[0,1]**2*Q[1,2]*Q[2,0]**2*X[1,1] + Q[0,1]*Q[1,0]*Q[2,0]*Q[2,1]*(2*Q[1,2]*X[0,1] -\\\n",
    "        Q[0,2]*X[1,1])) + ml[2]*(Q[1,2]**2*Q[2,0]**2*(-(Q[2,1]*X[0,0]) + 2*Q[0,1]*X[0,2]) -\\\n",
    "        Q[0,2]**2*Q[1,0]**2*Q[2,1]*X[2,2] + Q[1,0]*Q[1,2]*Q[2,0]*(Q[2,1]*(Q[2,2]*X[0,0] -\\\n",
    "        2*Q[0,2]*X[0,2]) + Q[0,1]*Q[0,2]*X[2,2]))))/\\\n",
    "        (ml[1]*(ml[0]*Q[1,0]*Q[2,1]*X[0,0] + Q[0,1]*(ml[1]*Q[2,1]*X[1,1] +\\\n",
    "         ml[2]*Q[1,2]*X[2,2]))*(ml[0]*Q[1,2]*Q[2,0]*X[0,0] + Q[0,2]*(ml[1]*Q[2,1]*X[1,1] +\\\n",
    "         ml[2]*Q[1,2]*X[2,2])))    \n",
    "        \n",
    "    f[0,1]=(ml[0]*Q[1,2]*Q[2,0]*X[0,0] + ml[1]*Q[0,2]*Q[2,1]*X[1,1] + ml[2]*Q[0,2]*Q[1,2]*X[2,2])/\\\n",
    "       (2*ml[0]*ml[1]*Q[0,1]*Q[1,2]*Q[2,0] - 2*ml[0]*ml[1]*Q[0,2]*Q[1,0]*Q[2,1])\n",
    "    f[0,2]=-((ml[0]*Q[1,0]*Q[2,1]*X[0,0] + ml[1]*Q[0,1]*Q[2,1]*X[1,1] + ml[2]*Q[0,1]*Q[1,2]*X[2,2])/\\\n",
    "        (2*ml[0]*ml[2]*Q[0,1]*Q[1,2]*Q[2,0] - 2*ml[0]*ml[2]*Q[0,2]*Q[1,0]*Q[2,1]))\n",
    "    f[1,2]=(ml[0]*Q[1,0]*Q[2,0]*X[0,0] + ml[1]*Q[0,1]*Q[2,0]*X[1,1] + ml[2]*Q[0,2]*Q[1,0]*X[2,2])/\\\n",
    "       (2*ml[1]*ml[2]*Q[0,1]*Q[1,2]*Q[2,0] - 2*ml[1]*ml[2]*Q[0,2]*Q[1,0]*Q[2,1])\n",
    "    f[1,0]=-f[0,1]; f[2,0]=-f[0,2]; f[2,1]=-f[1,2]\n",
    "    \n",
    "    return Q,f\n",
    "\n",
    "def test_Zee():\n",
    "    m_e=0.5109989461e-3;m_mu=0.1056583745;m_tau=1.77686\n",
    "    mlep=np.diag([m_e,m_mu,m_tau])\n",
    "    m1=0 # lightest neutrino\n",
    "    s2phi=0.014; M1=200.; M2=300.\n",
    "    t12=33.56*180.0/np.pi\n",
    "    t13=8.49*180.0/np.pi\n",
    "    t23=41.6*180.0/np.pi\n",
    "    X=Inverse_Zee_Matrix(Kappa(s2phi,M1,M2),t12,t13,t23,m1)\n",
    "    O,f=get_yukawas(X) #Use default input values\n",
    "    Mnu=Kappa(s2phi,M1,M2)*( np.dot( np.dot(O,mlep),f.transpose() )+np.dot( np.dot(f,mlep),O.transpose()) )\n",
    "    Mnu_diag,U=np.linalg.eig(Mnu)\n",
    "    lo=np.argsort(np.abs(Mnu_diag))\n",
    "    Mnu_diag=np.array([Mnu_diag[lo[0]],Mnu_diag[lo[1]],Mnu_diag[lo[2]]])\n",
    "    U=np.matrix(U)\n",
    "    U=np.asarray(np.hstack((U[:,lo[0]],U[:,lo[1]],U[:,lo[2]])))\n",
    "    \n",
    "    mltmp,Dm21_2,Dm3l_2,theta12,theta23,theta13,delta=hp.neutrino_data(CL=3,IH=False,mnu1in=1E-5*1E-9)\n",
    "    m2=np.sqrt(Dm21_2[1]+m1**2); m3=np.sqrt(Dm3l_2[1]+m1**2)\n",
    "    theta12[1] = t12\n",
    "    theta13[1] = t13\n",
    "    theta23[1] = t23\n",
    "    \n",
    "    np.testing.assert_array_almost_equal(np.abs(U),\\\n",
    "        np.abs( hp.UPMNS(theta12[1],theta13[1],theta23[1]) ) )\n",
    "    \n",
    "    return np.testing.assert_almost_equal( np.abs(Mnu_diag),np.abs([m1,m2,m3]) ) "
   ]
  },
  {
   "cell_type": "code",
   "execution_count": null,
   "metadata": {
    "collapsed": false
   },
   "outputs": [],
   "source": [
    "test_Zee()"
   ]
  },
  {
   "cell_type": "code",
   "execution_count": null,
   "metadata": {
    "collapsed": true
   },
   "outputs": [],
   "source": [
    "muegamma = 5.7E-13\n",
    "tauegamma = 3.3E-08\n",
    "taumugamma = 4.4E-08\n",
    "mu3e = 1.0E-12\n",
    "tau3mu = 2.1E-08\n",
    "tauemumu = 2.7E-08\n",
    "taumuee = 1.8E-08\n",
    "tau3e = 2.7E-08\n",
    "mueTi = 4.3E-12\n",
    "mueAu = 7.0E-13\n",
    "\n",
    "LFV = np.array([muegamma, tauegamma, taumugamma, mu3e, tau3mu, tauemumu, taumuee, tau3e, mueTi, mueAu])"
   ]
  },
  {
   "cell_type": "markdown",
   "metadata": {},
   "source": [
    "\n",
    "## Check one point"
   ]
  },
  {
   "cell_type": "code",
   "execution_count": null,
   "metadata": {
    "collapsed": false
   },
   "outputs": [],
   "source": [
    "a=hp.hep(MODEL='radinuZeeHB')"
   ]
  },
  {
   "cell_type": "markdown",
   "metadata": {},
   "source": [
    "`a-object` is an object with many attributes and methods. Use the tab to explore them. Some of them are\n",
    "* a.Series: [pandas](http://pandas.pydata.org/) Series object with the \"relevant\" variables \n",
    "* a.LHA: Input LesHouces file as [pyslha](https://pypi.python.org/pypi/pyslha/) object\n",
    "* a.runSPheno() -> a.LHA_out: return LHA output files as [pyslha](https://pypi.python.org/pypi/pyslha/) object\n",
    "* a.runmicromegas() -> a.runSPheno() -> Updated the `a-object`  with micrOMEGAS \"relevant\" output"
   ]
  },
  {
   "cell_type": "code",
   "execution_count": null,
   "metadata": {
    "collapsed": false
   },
   "outputs": [],
   "source": [
    "pd.Series(a.LHA.blocks['MINPAR'].entries)"
   ]
  },
  {
   "cell_type": "markdown",
   "metadata": {},
   "source": [
    "for i in something...."
   ]
  },
  {
   "cell_type": "code",
   "execution_count": null,
   "metadata": {
    "collapsed": false
   },
   "outputs": [],
   "source": [
    "df = pd.DataFrame()\n",
    "\n",
    "Me   = 0.5109989461e-3     #Masa Electron en GeV\n",
    "Mmu  = 0.1056583745        #Masa Muon en GeV\n",
    "Mtau = 1.77686             #Masa Tauon en GeV\n",
    "\n",
    "v = a.vev\n",
    "s2phi = 0.014\n",
    "M1 = 800.0\n",
    "M2 = 1000.0\n",
    "MAo = 810.0\n",
    "Mho = 125.0\n",
    "MHo = 805.0\n",
    "lam2 = 1.3000000E-01    # lambda2Input\n",
    "lam3 = 1.0000000E-03    # lambda3Input\n",
    "lam6 = 1.000000E-03     # lambda6Inputd \n",
    "lam7 = 0.000000E+00     # lambda7Input\n",
    "lam8 = 0.0000000E-01    # lambda8Input\n",
    "lam9 = 0.000000E+00     # lambda9Input\n",
    "lam10 = 0.000000E+00    # lambda10Input\n",
    "lamh = 0.000000E+00     # lambdahInput\n",
    "\n",
    "\n",
    "k, Mu, Muh2, Mu22, lam1, lam4, lam5 = func(s2phi, M1, M2, MAo, Mho, MHo, v, lam2, lam3, lam6, lam7, lam8, lam9, lam10, lamh)\n",
    "\n",
    "devnull=commands.getoutput('rm -f SPheno.spc.%s' %a.MODEL)\n",
    "\n",
    "a.LHA.blocks['SPHENOINPUT'].entries[55]='0               # Calculate one loop masses'\n",
    "a.LHA.blocks['MINPAR'][1]='%0.8E       #lambda1Input' %lam1\n",
    "a.LHA.blocks['MINPAR'][2]='%0.8E       #lambda2Input' %lam2\n",
    "a.LHA.blocks['MINPAR'][3]='%0.8E       #lambda3Input' %lam3\n",
    "a.LHA.blocks['MINPAR'][4]='%0.8E       #lambda4Input' %lam4\n",
    "a.LHA.blocks['MINPAR'][5]='%0.8E       #lambda5Input' %lam5\n",
    "a.LHA.blocks['MINPAR'][6]='%0.8E       #lambda6Input' %lam6\n",
    "a.LHA.blocks['MINPAR'][7]='%0.8E       #lambda7Input' %lam7\n",
    "a.LHA.blocks['MINPAR'][8]='%0.8E       #lambda8Input' %lam8\n",
    "a.LHA.blocks['MINPAR'][9]='%0.8E       #lambda9Input' %lam9\n",
    "a.LHA.blocks['MINPAR'][10]='%0.8E      #lambda10Input'%lam10\n",
    "a.LHA.blocks['MINPAR'][11]='%0.8E      #lambdahInput' %lamh\n",
    "a.LHA.blocks['MINPAR'][12]='%0.8E      #MhInput'      %Muh2\n",
    "a.LHA.blocks['MINPAR'][13]='%0.8E      #MuInput'      %Mu\n",
    "a.LHA.blocks['MINPAR'][14]='%0.8E      #mEt2Input'    %Mu22\n",
    "\n",
    "m3= 0.0  # lightest neutrino\n",
    "t12=33.56*180.0/np.pi\n",
    "t13=8.49*180.0/np.pi\n",
    "t23=41.6*180.0/np.pi\n",
    "X=Inverse_Zee_Matrix(k,t12,t13,t23,m3,IH=True,sgnm2=-1,sgnml=1)\n",
    "O,f=get_yukawas(X) #Use default input values\n",
    "    \n",
    "Yh12 = f[0,1]     # Yh(1,2)\n",
    "Yh13 = f[0,2]     # Yh(1,3)\n",
    "Yh21 = f[1,0]     # Yh(2,1)\n",
    "Yh23 = f[1,2]     # Yh(2,3)\n",
    "Yh31 = f[2,0]     # Yh(3,1)\n",
    "Yh32 = f[2,1]     # Yh(3,2)\n",
    "\n",
    "a.LHA.blocks['YHIN'][(1,2)]='%0.8E      # Yh(1,2)'    %Yh12\n",
    "a.LHA.blocks['YHIN'][(1,3)]='%0.8E      # Yh(1,3)'    %Yh13\n",
    "a.LHA.blocks['YHIN'][(2,1)]='%0.8E      # Yh(2,1)'    %Yh21\n",
    "a.LHA.blocks['YHIN'][(2,3)]='%0.8E      # Yh(2,3)'    %Yh23\n",
    "a.LHA.blocks['YHIN'][(3,1)]='%0.8E      # Yh(3,1)'    %Yh31\n",
    "a.LHA.blocks['YHIN'][(3,2)]='%0.8E      # Yh(3,2)'    %Yh32\n",
    "\n",
    "epsE11 = O[0,0]          # epsE(1,1)\n",
    "epsE12 = O[0,1]          # epsE(1,2)\n",
    "epsE13 = O[0,2]          # epsE(1,3)\n",
    "epsE21 = O[1,0]          # epsE(2,1)\n",
    "epsE22 = O[1,1]          # epsE(2,2)\n",
    "epsE23 = O[1,2]          # epsE(2,3)\n",
    "epsE31 = O[2,0]          # epsE(3,1)\n",
    "epsE32 = O[2,1]          # epsE(3,2)\n",
    "epsE33 = O[2,2]          # epsE(3,3)\n",
    "\n",
    "a.LHA.blocks['EPSEIN'][(1,1)]='%0.8E      # epsE(1,1)'    %epsE11\n",
    "a.LHA.blocks['EPSEIN'][(1,2)]='%0.8E      # epsE(1,2)'    %epsE12\n",
    "a.LHA.blocks['EPSEIN'][(1,3)]='%0.8E      # epsE(1,3)'    %epsE13\n",
    "a.LHA.blocks['EPSEIN'][(2,1)]='%0.8E      # epsE(2,1)'    %epsE21\n",
    "a.LHA.blocks['EPSEIN'][(2,2)]='%0.8E      # epsE(2,2)'    %epsE22\n",
    "a.LHA.blocks['EPSEIN'][(2,3)]='%0.8E      # epsE(2,3)'    %epsE23\n",
    "a.LHA.blocks['EPSEIN'][(3,1)]='%0.8E      # epsE(3,1)'    %epsE31\n",
    "a.LHA.blocks['EPSEIN'][(3,2)]='%0.8E      # epsE(3,2)'    %epsE32\n",
    "a.LHA.blocks['EPSEIN'][(3,3)]='%0.8E      # epsE(3,3)'    %epsE33\n",
    "    \n",
    "tanbetha = 1.0\n",
    "\n",
    "Yd33 = 0.0240086062\n",
    "Yu33 = 0.996529469\n",
    "epsD33 = Yd33*tanbetha\n",
    "epsU33 = Yu33*tanbetha \n",
    "    \n",
    "a.LHA.blocks['EPSDIN'][(3,3)]='%0.8E      # epsD(3,3)'    %epsD33\n",
    "a.LHA.blocks['EPSUIN'][(3,3)]='%0.8E      # epsU(3,3)'    %epsU33\n",
    "\n",
    "moc=a.runSPheno() \n",
    "\n",
    "a.Series=a.Series.append(hp.block_to_series(a.LHA_out_with_comments.blocks['MASS']))\n",
    "a.branchings(a.LHA_out.decays,min_pdg=25)\n",
    "a.Series=a.Series.append(a.Br_names)\n",
    "a.Series=a.Series.append(hp.block_to_series(a.LHA_out_with_comments.blocks['FLAVORKITLFV']))\n",
    "\n",
    "df=df.append(a.Series,ignore_index=True)\n",
    "df=df.fillna(0)"
   ]
  },
  {
   "cell_type": "code",
   "execution_count": null,
   "metadata": {
    "collapsed": false
   },
   "outputs": [],
   "source": [
    "a.LHA_out_with_comments.blocks['MASS'].entries"
   ]
  },
  {
   "cell_type": "code",
   "execution_count": null,
   "metadata": {
    "collapsed": false
   },
   "outputs": [],
   "source": [
    "pd.Series(a.LHA_out_with_comments.blocks['FLAVORKITLFV'].entries)"
   ]
  },
  {
   "cell_type": "markdown",
   "metadata": {},
   "source": [
    "# Normal Hierarchy"
   ]
  },
  {
   "cell_type": "code",
   "execution_count": null,
   "metadata": {
    "collapsed": true
   },
   "outputs": [],
   "source": [
    "# def check_real(x):\n",
    "    ab=np.unique(np.isnan(x)) #np.unique( np.equal( np.imag(x),np.zeros(x.shape) ) )\n",
    "    chr=False\n",
    "    #if ab.shape[0]==1 and ab[0]:\n",
    "    if ab.shape[0]==1 and not ab[0]:\n",
    "        chr=True\n",
    "    return chr\n",
    "\n",
    "def rndm_sgn():\n",
    "    return np.random.choice([1,-1])\n",
    "\n",
    "df=pd.DataFrame()\n",
    "npoints=100000\n",
    "omin=1E-16;omax=3\n",
    "m1min=1E-27;m1max=1E-11\n",
    "for i in range(npoints):\n",
    "    O=pd.Series({'s2phi':0.014,'M1':800,'M2':1000,'m1':0,(1,2):1e-3,(1,3):1e-6,(2,1):200e-3,(2,3):0,(3,2):-1e-5,(3,3):0})\n",
    "    for ij in [(1,2),(1,3),(2,1),(2,3),(3,2),(3,3)]:\n",
    "        O[ij]=rndm_sgn()*np.exp(np.random.uniform(np.log(omin),np.log(omax)))\n",
    "                \n",
    "    t12=np.exp(np.random.uniform(np.log(31.38*np.pi/180.0),np.log(35.99*np.pi/180.0)))\n",
    "    t13=np.exp(np.random.uniform(np.log(7.99*np.pi/180.0),np.log(8.90*np.pi/180.0)))\n",
    "    t23=np.exp(np.random.uniform(np.log(38.4*np.pi/180.0),np.log(52.8*np.pi/180.0)))\n",
    "    O['Theta12']=t12\n",
    "    O['Theta13']=t13\n",
    "    O['Theta23']=t23\n",
    "    O.m1=rndm_sgn()*np.exp(np.random.uniform(np.log(m1min),np.log(m1max))) #in GeV\n",
    "    kappa=Kappa(O.s2phi,O.M1,O.M2)\n",
    "    O['kappa']=kappa\n",
    "    sgnm2=rndm_sgn()\n",
    "    sgnml=rndm_sgn()\n",
    "    X=Inverse_Zee_Matrix(kappa,t12,t13,t23,O.m1,IH=False,sgnm2=sgnm2,sgnml=sgnml)\n",
    "    Q,f=get_yukawas(X,q01=O[1,2],q02=O[1,3],q10=O[2,1],q12=O[2,3],q21=O[3,2],q22=O[3,3])\n",
    "    if check_real(Q) and check_real(f) and np.abs(np.append(Q,f)).max()<=omax:\n",
    "        O=O.append(pd.Series({(1,1):Q[0,0],(2,2):Q[1,1],(3,1):Q[2,0],'f12':f[0,1],'f13':f[0,2],'f23':f[1,2],\\\n",
    "                            'sgnm2':sgnm2,'sgnml':sgnml,'Q':Q,'f':f}))\n",
    "        df=df.append(O,ignore_index=True)\n",
    "    \n",
    "df.shape"
   ]
  },
  {
   "cell_type": "code",
   "execution_count": null,
   "metadata": {
    "collapsed": false
   },
   "outputs": [],
   "source": [
    "if df.shape[0]==1:\n",
    "    print 'Test'\n",
    "    m_e=0.5109989461e-3;m_mu=0.1056583745;m_tau=1.77686\n",
    "    mlep=np.diag([m_e,m_mu,m_tau])\n",
    "\n",
    "    Mnu=Kappa(s2phi,M1,M2)*( np.dot( np.dot(Q,mlep),f.transpose() )+np.dot( np.dot(f,mlep),Q.transpose()) )\n",
    "    Mnu_diag,U=np.linalg.eig(Mnu)\n",
    "    lo=np.argsort(np.abs(Mnu_diag))\n",
    "    Mnu_diag=np.array([Mnu_diag[lo[1]],Mnu_diag[lo[2]],Mnu_diag[lo[0]]])\n",
    "    U=np.matrix(U)\n",
    "    U=np.asarray(np.hstack((U[:,lo[1]],U[:,lo[2]],U[:,lo[0]])))\n",
    "    mltmp,Dm21_2,Dm3l_2,theta12,theta23,theta13,delta=hp.neutrino_data(CL=3,IH=False,mnu1in=1E-5*1E-9)  \n",
    "    m2=np.sqrt(O.m3**2-Dm3l_2[1]); m1=np.sqrt(m2**2-Dm21_2[1])\n",
    "    theta12[1]=df.Theta12\n",
    "    theta13[1]=df.Theta13\n",
    "    theta23[1]=df.Theta23\n",
    "    \n",
    "    np.testing.assert_array_almost_equal(np.abs(U),\\\n",
    "        np.abs( hp.UPMNS(theta12[1],theta13[1],theta23[1]) ) )\n",
    "    \n",
    "    np.testing.assert_almost_equal( np.abs(Mnu_diag)*1E11,np.abs([O.m1,m2,m3])*1E11 )"
   ]
  },
  {
   "cell_type": "code",
   "execution_count": null,
   "metadata": {
    "collapsed": true
   },
   "outputs": [],
   "source": [
    "N = df.f.shape[0]\n",
    "\n",
    "df1=pd.DataFrame()\n",
    "\n",
    "for i in range(N):   \n",
    "    Yh12 = df.f[i][0,1]     # Yh(1,2)\n",
    "    Yh13 = df.f[i][0,2]     # Yh(1,3)\n",
    "    Yh21 = df.f[i][1,0]     # Yh(2,1)\n",
    "    Yh23 = df.f[i][1,2]     # Yh(2,3)\n",
    "    Yh31 = df.f[i][2,0]     # Yh(3,1)\n",
    "    Yh32 = df.f[i][2,1]     # Yh(3,2)\n",
    "\n",
    "    a.LHA.blocks['YHIN'][(1,2)]='%0.8E      # Yh(1,2)'    %Yh12\n",
    "    a.LHA.blocks['YHIN'][(1,3)]='%0.8E      # Yh(1,3)'    %Yh13\n",
    "    a.LHA.blocks['YHIN'][(2,1)]='%0.8E      # Yh(2,1)'    %Yh21\n",
    "    a.LHA.blocks['YHIN'][(2,3)]='%0.8E      # Yh(2,3)'    %Yh23\n",
    "    a.LHA.blocks['YHIN'][(3,1)]='%0.8E      # Yh(3,1)'    %Yh31\n",
    "    a.LHA.blocks['YHIN'][(3,2)]='%0.8E      # Yh(3,2)'    %Yh32\n",
    "\n",
    "    epsE11 = df.Q[i][0,0]          # epsE(1,1)\n",
    "    epsE12 = df.Q[i][0,1]          # epsE(1,2)\n",
    "    epsE13 = df.Q[i][0,2]          # epsE(1,3)\n",
    "    epsE21 = df.Q[i][1,0]          # epsE(2,1)\n",
    "    epsE22 = df.Q[i][1,1]          # epsE(2,2)\n",
    "    epsE23 = df.Q[i][1,2]          # epsE(2,3)\n",
    "    epsE31 = df.Q[i][2,0]          # epsE(3,1)\n",
    "    epsE32 = df.Q[i][2,1]          # epsE(3,2)\n",
    "    epsE33 = df.Q[i][2,2]          # epsE(3,3)\n",
    "\n",
    "    a.LHA.blocks['EPSEIN'][(1,1)]='%0.8E      # epsE(1,1)'    %epsE11\n",
    "    a.LHA.blocks['EPSEIN'][(1,2)]='%0.8E      # epsE(1,2)'    %epsE12\n",
    "    a.LHA.blocks['EPSEIN'][(1,3)]='%0.8E      # epsE(1,3)'    %epsE13\n",
    "    a.LHA.blocks['EPSEIN'][(2,1)]='%0.8E      # epsE(2,1)'    %epsE21\n",
    "    a.LHA.blocks['EPSEIN'][(2,2)]='%0.8E      # epsE(2,2)'    %epsE22\n",
    "    a.LHA.blocks['EPSEIN'][(2,3)]='%0.8E      # epsE(2,3)'    %epsE23\n",
    "    a.LHA.blocks['EPSEIN'][(3,1)]='%0.8E      # epsE(3,1)'    %epsE31\n",
    "    a.LHA.blocks['EPSEIN'][(3,2)]='%0.8E      # epsE(3,2)'    %epsE32\n",
    "    a.LHA.blocks['EPSEIN'][(3,3)]='%0.8E      # epsE(3,3)'    %epsE33\n",
    "    \n",
    "    tanbetha = 1.0\n",
    "\n",
    "    Yd33 = 0.0240086062\n",
    "    Yu33 = 0.996529469\n",
    "    epsD33 = Yd33*tanbetha\n",
    "    epsU33 = Yu33*tanbetha \n",
    "    \n",
    "    a.LHA.blocks['EPSDIN'][(3,3)]='%0.8E      # epsD(3,3)'    %epsD33\n",
    "    a.LHA.blocks['EPSUIN'][(3,3)]='%0.8E      # epsU(3,3)'    %epsU33\n",
    "\n",
    "    moc=a.runSPheno() \n",
    "\n",
    "    Brmuegamma = a.LHA_out.blocks['FLAVORKITLFV'][701]     #BR(mu->e gamma)\n",
    "    Brtauegamma = a.LHA_out.blocks['FLAVORKITLFV'][702]    #BR(tau->e gamma)\n",
    "    Brtaumugamma = a.LHA_out.blocks['FLAVORKITLFV'][703]   #BR(tau->mu gamma)     \n",
    "    Brmu3e = a.LHA_out.blocks['FLAVORKITLFV'][901]         #BR(mu->3e)\n",
    "    Brtau3mu = a.LHA_out.blocks['FLAVORKITLFV'][903]       #BR(tau->3mu)    \n",
    "    Brtauemumu = a.LHA_out.blocks['FLAVORKITLFV'][904]     #BR(tau- -> e- mu+ mu-) \n",
    "    Brtaumuee = a.LHA_out.blocks['FLAVORKITLFV'][905]      #BR(tau- -> mu- e+ e-)\n",
    "    Brtau3e = a.LHA_out.blocks['FLAVORKITLFV'][902]        #BR(tau->3e)\n",
    "    CrmueTi = a.LHA_out.blocks['FLAVORKITLFV'][801]        #CR(mu-e, Ti) \n",
    "    CrmueAu = a.LHA_out.blocks['FLAVORKITLFV'][804]        #CR(mu-e, Au)    \n",
    "    \n",
    "    FLFV = np.array([Brmuegamma, Brtauegamma, Brtaumugamma, Brmu3e, Brtau3mu, Brtauemumu, Brtaumuee, Brtau3e, CrmueTi, CrmueAu])\n",
    "    #print FLFV\n",
    "    if np.all(FLFV < LFV):    \n",
    "        a.Series=a.Series.append(hp.block_to_series(a.LHA_out_with_comments.blocks['MASS']))\n",
    "        a.branchings(a.LHA_out.decays,min_pdg=25)\n",
    "        a.Series=a.Series.append(a.Br_names)\n",
    "        a.Series=a.Series.append(hp.block_to_series(a.LHA_out_with_comments.blocks['FLAVORKITLFV']))\n",
    "        a.Series=a.Series.append(hp.block_to_series(a.LHA_out_with_comments.blocks['EPSE']))\n",
    "        a.Series=a.Series.append(hp.block_to_series(a.LHA_out_with_comments.blocks['EPSD']))\n",
    "        a.Series=a.Series.append(hp.block_to_series(a.LHA_out_with_comments.blocks['EPSU']))\n",
    "        a.Series=a.Series.append(hp.block_to_series(a.LHA_out_with_comments.blocks['YH']))\n",
    "    \n",
    "        df1=df1.append(a.Series,ignore_index=True)\n",
    "        df1=df1.fillna(0)\n",
    "        \n",
    "df1.shape"
   ]
  },
  {
   "cell_type": "code",
   "execution_count": null,
   "metadata": {
    "collapsed": true
   },
   "outputs": [],
   "source": [
    "plt.hexbin(np.sqrt(df1.epsE11**2+df1.epsE12**2+df1.epsE13**2),\\\n",
    "           np.sqrt(df1.epsE21**2+df1.epsE22**2+df1.epsE23**2),\\\n",
    "           np.sqrt(df1.epsE31**2+df1.epsE32**2+df1.epsE33**2),xscale='log',yscale='log',norm=LogNorm())\n",
    "plt.colorbar()"
   ]
  },
  {
   "cell_type": "code",
   "execution_count": null,
   "metadata": {
    "collapsed": true
   },
   "outputs": [],
   "source": [
    "plt.hexbin(np.sqrt(df1.epsE11**2+df1.epsE12**2+df1.epsE13**2),\\\n",
    "           np.sqrt(df1.epsE31**2+df1.epsE32**2+df1.epsE33**2),\\\n",
    "           np.fabs(df1.Fv1),xscale='log',yscale='log',norm=LogNorm())\n",
    "plt.colorbar()"
   ]
  },
  {
   "cell_type": "code",
   "execution_count": null,
   "metadata": {
    "collapsed": true
   },
   "outputs": [],
   "source": [
    "plt.hexbin(np.abs(df1.Yh12),np.abs(df1.Yh13),np.abs(df1.Yh23),xscale='log',yscale='log',norm=LogNorm())\n",
    "plt.colorbar()"
   ]
  },
  {
   "cell_type": "code",
   "execution_count": null,
   "metadata": {
    "collapsed": false
   },
   "outputs": [],
   "source": [
    "plt.hexbin(np.abs(df.Theta13*180.0/np.pi),np.abs(df.Theta12*180.0/np.pi),np.abs(df[3,3]),norm=LogNorm())\n",
    "plt.colorbar()"
   ]
  },
  {
   "cell_type": "code",
   "execution_count": null,
   "metadata": {
    "collapsed": false
   },
   "outputs": [],
   "source": [
    "df2 = df[df[3,3]>1.0E-05]\n",
    "df3 = df[df[3,3]>1.0E-03]\n",
    "plt.hexbin(np.abs(df2.Theta13*180.0/np.pi),np.abs(df2.Theta12*180.0/np.pi),np.abs(df2[3,3]),norm=LogNorm())\n",
    "plt.plot(np.abs(df3.Theta13*180.0/np.pi),np.abs(df3.Theta12*180.0/np.pi),'ro')\n",
    "plt.colorbar()\n",
    "df1.shape"
   ]
  },
  {
   "cell_type": "code",
   "execution_count": null,
   "metadata": {
    "collapsed": false
   },
   "outputs": [],
   "source": [
    "npoints = 300000\n",
    "omin=1E-15;omax=3\n",
    "o33min=1E-2;o33max=3\n",
    "m1min=1E-27;m1max=1E-11\n",
    "for i in range(npoints):\n",
    "    O=pd.Series({'s2phi':0.014,'M1':800,'M2':1000,'m1':0,(1,2):1e-3,(1,3):1e-6,(2,1):200e-3,(2,3):0,(3,2):-1e-5,(3,3):0})\n",
    "    for ij in [(1,2),(1,3),(2,1),(2,3),(3,2),(3,3)]:\n",
    "        if (ij==(3,3)):\n",
    "            O[ij]=rndm_sgn()*np.exp(np.random.uniform(np.log(o33min),np.log(o33max)))\n",
    "        else:\n",
    "            O[ij]=rndm_sgn()*np.exp(np.random.uniform(np.log(omin),np.log(omax)))\n",
    "\n",
    "    t12=np.exp(np.random.uniform(np.log(31.38*np.pi/180.0),np.log(35.99*np.pi/180.0)))\n",
    "    t13=np.exp(np.random.uniform(np.log(8.03*np.pi/180.0),np.log(8.93*np.pi/180.0)))\n",
    "    t23=np.exp(np.random.uniform(np.log(38.8*np.pi/180.0),np.log(53.1*np.pi/180.0)))\n",
    "    O['Theta12']=t12\n",
    "    O['Theta13']=t13\n",
    "    O['Theta23']=t23\n",
    "    O.m1=rndm_sgn()*np.exp(np.random.uniform(np.log(m1min),np.log(m1max))) #in GeV\n",
    "    kappa=Kappa(O.s2phi,O.M1,O.M2)\n",
    "    O['kappa']=kappa\n",
    "    sgnm2=rndm_sgn()\n",
    "    sgnml=rndm_sgn()\n",
    "    X=Inverse_Zee_Matrix(kappa,t12,t13,t23,O.m1,IH=False,sgnm2=sgnm2,sgnml=sgnml)\n",
    "    Q,f=get_yukawas(X,q01=O[1,2],q02=O[1,3],q10=O[2,1],q12=O[2,3],q21=O[3,2],q22=O[3,3])\n",
    "    if check_real(Q) and check_real(f) and np.abs(np.append(Q,f)).max()<=omax:\n",
    "        O=O.append(pd.Series({(1,1):Q[0,0],(2,2):Q[1,1],(3,1):Q[2,0],'f12':f[0,1],'f13':f[0,2],'f23':f[1,2],\\\n",
    "                            'sgnm2':sgnm2,'sgnml':sgnml,'Q':Q,'f':f}))\n",
    "        df=df.append(O,ignore_index=True)\n",
    "    \n",
    "df.shape"
   ]
  },
  {
   "cell_type": "code",
   "execution_count": null,
   "metadata": {
    "collapsed": true
   },
   "outputs": [],
   "source": [
    "if df.shape[0]==1:\n",
    "    print 'Test'\n",
    "    m_e=0.5109989461e-3;m_mu=0.1056583745;m_tau=1.77686\n",
    "    mlep=np.diag([m_e,m_mu,m_tau])\n",
    "\n",
    "    Mnu=Kappa(s2phi,M1,M2)*( np.dot( np.dot(Q,mlep),f.transpose() )+np.dot( np.dot(f,mlep),Q.transpose()) )\n",
    "    Mnu_diag,U=np.linalg.eig(Mnu)\n",
    "    lo=np.argsort(np.abs(Mnu_diag))\n",
    "    Mnu_diag=np.array([Mnu_diag[lo[1]],Mnu_diag[lo[2]],Mnu_diag[lo[0]]])\n",
    "    U=np.matrix(U)\n",
    "    U=np.asarray(np.hstack((U[:,lo[1]],U[:,lo[2]],U[:,lo[0]])))\n",
    "    mltmp,Dm21_2,Dm3l_2,theta12,theta23,theta13,delta=hp.neutrino_data(CL=3,IH=False,mnu1in=1E-5*1E-9)  \n",
    "    theta12[1]=df.Theta12\n",
    "    theta13[1]=df.Theta13\n",
    "    theta23[1]=df.Theta23\n",
    "    m2=np.sqrt(O.m3**2-Dm3l_2[1]); m1=np.sqrt(m2**2-Dm21_2[1])\n",
    "    \n",
    "    np.testing.assert_array_almost_equal(np.abs(U),\\\n",
    "        np.abs( hp.UPMNS(theta12[1],theta13[1],theta23[1]) ) )\n",
    "    \n",
    "    np.testing.assert_almost_equal( np.abs(Mnu_diag)*1E11,np.abs([O.m1,m2,m3])*1E11 )"
   ]
  },
  {
   "cell_type": "code",
   "execution_count": null,
   "metadata": {
    "collapsed": false
   },
   "outputs": [],
   "source": [
    "df2 = df[df[3,3]>1.0E-05]\n",
    "df3 = df[df[3,3]>1.0E-03]"
   ]
  },
  {
   "cell_type": "code",
   "execution_count": null,
   "metadata": {
    "collapsed": true
   },
   "outputs": [],
   "source": [
    "N = df3.f.shape[0]\n",
    "\n",
    "df4=pd.DataFrame()\n",
    "\n",
    "for i in range(N):   \n",
    "    Yh12 = df3.f[i][0,1]     # Yh(1,2)\n",
    "    Yh13 = df3.f[i][0,2]     # Yh(1,3)\n",
    "    Yh21 = df3.f[i][1,0]     # Yh(2,1)\n",
    "    Yh23 = df3.f[i][1,2]     # Yh(2,3)\n",
    "    Yh31 = df3.f[i][2,0]     # Yh(3,1)\n",
    "    Yh32 = df3.f[i][2,1]     # Yh(3,2)\n",
    "\n",
    "    a.LHA.blocks['YHIN'][(1,2)]='%0.8E      # Yh(1,2)'    %Yh12\n",
    "    a.LHA.blocks['YHIN'][(1,3)]='%0.8E      # Yh(1,3)'    %Yh13\n",
    "    a.LHA.blocks['YHIN'][(2,1)]='%0.8E      # Yh(2,1)'    %Yh21\n",
    "    a.LHA.blocks['YHIN'][(2,3)]='%0.8E      # Yh(2,3)'    %Yh23\n",
    "    a.LHA.blocks['YHIN'][(3,1)]='%0.8E      # Yh(3,1)'    %Yh31\n",
    "    a.LHA.blocks['YHIN'][(3,2)]='%0.8E      # Yh(3,2)'    %Yh32\n",
    "\n",
    "    epsE11 = df3.Q[i][0,0]          # epsE(1,1)\n",
    "    epsE12 = df3.Q[i][0,1]          # epsE(1,2)\n",
    "    epsE13 = df3.Q[i][0,2]          # epsE(1,3)\n",
    "    epsE21 = df3.Q[i][1,0]          # epsE(2,1)\n",
    "    epsE22 = df3.Q[i][1,1]          # epsE(2,2)\n",
    "    epsE23 = df3.Q[i][1,2]          # epsE(2,3)\n",
    "    epsE31 = df3.Q[i][2,0]          # epsE(3,1)\n",
    "    epsE32 = df3.Q[i][2,1]          # epsE(3,2)\n",
    "    epsE33 = df3.Q[i][2,2]          # epsE(3,3)\n",
    "\n",
    "    a.LHA.blocks['EPSEIN'][(1,1)]='%0.8E      # epsE(1,1)'    %epsE11\n",
    "    a.LHA.blocks['EPSEIN'][(1,2)]='%0.8E      # epsE(1,2)'    %epsE12\n",
    "    a.LHA.blocks['EPSEIN'][(1,3)]='%0.8E      # epsE(1,3)'    %epsE13\n",
    "    a.LHA.blocks['EPSEIN'][(2,1)]='%0.8E      # epsE(2,1)'    %epsE21\n",
    "    a.LHA.blocks['EPSEIN'][(2,2)]='%0.8E      # epsE(2,2)'    %epsE22\n",
    "    a.LHA.blocks['EPSEIN'][(2,3)]='%0.8E      # epsE(2,3)'    %epsE23\n",
    "    a.LHA.blocks['EPSEIN'][(3,1)]='%0.8E      # epsE(3,1)'    %epsE31\n",
    "    a.LHA.blocks['EPSEIN'][(3,2)]='%0.8E      # epsE(3,2)'    %epsE32\n",
    "    a.LHA.blocks['EPSEIN'][(3,3)]='%0.8E      # epsE(3,3)'    %epsE33\n",
    "    \n",
    "    tanbetha = 1.0\n",
    "\n",
    "    Yd33 = 0.0240086062\n",
    "    Yu33 = 0.996529469\n",
    "    epsD33 = Yd33*tanbetha\n",
    "    epsU33 = Yu33*tanbetha \n",
    "    \n",
    "    a.LHA.blocks['EPSDIN'][(3,3)]='%0.8E      # epsD(3,3)'    %epsD33\n",
    "    a.LHA.blocks['EPSUIN'][(3,3)]='%0.8E      # epsU(3,3)'    %epsU33\n",
    "\n",
    "    moc=a.runSPheno() \n",
    "\n",
    "    Brmuegamma = a.LHA_out.blocks['FLAVORKITLFV'][701]     #BR(mu->e gamma)\n",
    "    Brtauegamma = a.LHA_out.blocks['FLAVORKITLFV'][702]    #BR(tau->e gamma)\n",
    "    Brtaumugamma = a.LHA_out.blocks['FLAVORKITLFV'][703]   #BR(tau->mu gamma)     \n",
    "    Brmu3e = a.LHA_out.blocks['FLAVORKITLFV'][901]         #BR(mu->3e)\n",
    "    Brtau3mu = a.LHA_out.blocks['FLAVORKITLFV'][903]       #BR(tau->3mu)    \n",
    "    Brtauemumu = a.LHA_out.blocks['FLAVORKITLFV'][904]     #BR(tau- -> e- mu+ mu-) \n",
    "    Brtaumuee = a.LHA_out.blocks['FLAVORKITLFV'][905]      #BR(tau- -> mu- e+ e-)\n",
    "    Brtau3e = a.LHA_out.blocks['FLAVORKITLFV'][902]        #BR(tau->3e)\n",
    "    CrmueTi = a.LHA_out.blocks['FLAVORKITLFV'][801]        #CR(mu-e, Ti) \n",
    "    CrmueAu = a.LHA_out.blocks['FLAVORKITLFV'][804]        #CR(mu-e, Au)    \n",
    "    \n",
    "    FLFV = np.array([Brmuegamma, Brtauegamma, Brtaumugamma, Brmu3e, Brtau3mu, Brtauemumu, Brtaumuee, Brtau3e, CrmueTi, CrmueAu])\n",
    "    #print FLFV\n",
    "    if np.all(FLFV < LFV):    \n",
    "        a.Series=a.Series.append(hp.block_to_series(a.LHA_out_with_comments.blocks['MASS']))\n",
    "        a.branchings(a.LHA_out.decays,min_pdg=25)\n",
    "        a.Series=a.Series.append(a.Br_names)\n",
    "        a.Series=a.Series.append(hp.block_to_series(a.LHA_out_with_comments.blocks['FLAVORKITLFV']))\n",
    "        a.Series=a.Series.append(hp.block_to_series(a.LHA_out_with_comments.blocks['EPSE']))\n",
    "        a.Series=a.Series.append(hp.block_to_series(a.LHA_out_with_comments.blocks['EPSD']))\n",
    "        a.Series=a.Series.append(hp.block_to_series(a.LHA_out_with_comments.blocks['EPSU']))\n",
    "        a.Series=a.Series.append(hp.block_to_series(a.LHA_out_with_comments.blocks['YH']))\n",
    "    \n",
    "        df4=df4.append(a.Series,ignore_index=True)\n",
    "        df4=df4.fillna(0)\n",
    "        \n",
    "df4.shape"
   ]
  },
  {
   "cell_type": "code",
   "execution_count": null,
   "metadata": {
    "collapsed": true
   },
   "outputs": [],
   "source": [
    "plt.hexbin(np.abs(df4.Theta13*180.0/np.pi),np.abs(df4.Theta12*180.0/np.pi),np.abs(df4[3,3]),norm=LogNorm())\n",
    "plt.colorbar()"
   ]
  },
  {
   "cell_type": "code",
   "execution_count": null,
   "metadata": {
    "collapsed": false
   },
   "outputs": [],
   "source": [
    "plt.hexbin(np.abs(df4.Theta13*180.0/np.pi),np.abs(df4[3,3]),np.abs(df4.Theta12*180.0/np.pi),yscale='log',norm=LogNorm())\n",
    "plt.colorbar()"
   ]
  },
  {
   "cell_type": "code",
   "execution_count": null,
   "metadata": {
    "collapsed": false
   },
   "outputs": [],
   "source": [
    "plt.hexbin(np.abs(df4.Theta12*180.0/np.pi),np.abs(df4[3,3]),np.abs(df4.Theta13*180.0/np.pi),yscale='log',norm=LogNorm())\n",
    "plt.colorbar()"
   ]
  },
  {
   "cell_type": "markdown",
   "metadata": {},
   "source": [
    "# Inverse Hierarchy"
   ]
  },
  {
   "cell_type": "code",
   "execution_count": null,
   "metadata": {
    "collapsed": true
   },
   "outputs": [],
   "source": [
    "# def check_real(x):\n",
    "    ab=np.unique(np.isnan(x)) #np.unique( np.equal( np.imag(x),np.zeros(x.shape) ) )\n",
    "    chr=False\n",
    "    #if ab.shape[0]==1 and ab[0]:\n",
    "    if ab.shape[0]==1 and not ab[0]:\n",
    "        chr=True\n",
    "    return chr\n",
    "\n",
    "def rndm_sgn():\n",
    "    return np.random.choice([1,-1])\n",
    "\n",
    "dfi=pd.DataFrame()\n",
    "npoints=100000\n",
    "omin=1E-16;omax=3\n",
    "m3min=1E-27;m3max=1E-11\n",
    "for i in range(npoints):\n",
    "    O=pd.Series({'s2phi':0.014,'M1':800,'M2':1000,'m3':0,(1,2):1e-3,(1,3):1e-6,(2,1):200e-3,(2,3):0,(3,2):-1e-5,(3,3):0})\n",
    "    for ij in [(1,2),(1,3),(2,1),(2,3),(3,2),(3,3)]:\n",
    "        O[ij]=rndm_sgn()*np.exp(np.random.uniform(np.log(omin),np.log(omax)))\n",
    "                \n",
    "    t12=np.exp(np.random.uniform(np.log(31.38*np.pi/180.0),np.log(35.99*np.pi/180.0)))\n",
    "    t13=np.exp(np.random.uniform(np.log(7.99*np.pi/180.0),np.log(8.90*np.pi/180.0)))\n",
    "    t23=np.exp(np.random.uniform(np.log(38.4*np.pi/180.0),np.log(52.8*np.pi/180.0)))\n",
    "    O['Theta12']=t12\n",
    "    O['Theta13']=t13\n",
    "    O['Theta23']=t23\n",
    "    O.m3=rndm_sgn()*np.exp(np.random.uniform(np.log(m1min),np.log(m1max))) #in GeV\n",
    "    kappa=Kappa(O.s2phi,O.M1,O.M2)\n",
    "    O['kappa']=kappa\n",
    "    sgnm2=rndm_sgn()\n",
    "    sgnml=rndm_sgn()\n",
    "    X=Inverse_Zee_Matrix(kappa,t12,t13,t23,O.m3,IH=True,sgnm2=sgnm2,sgnml=sgnml)\n",
    "    Q,f=get_yukawas(X,q01=O[1,2],q02=O[1,3],q10=O[2,1],q12=O[2,3],q21=O[3,2],q22=O[3,3])\n",
    "    if check_real(Q) and check_real(f) and np.abs(np.append(Q,f)).max()<=omax:\n",
    "        O=O.append(pd.Series({(1,1):Q[0,0],(2,2):Q[1,1],(3,1):Q[2,0],'f12':f[0,1],'f13':f[0,2],'f23':f[1,2],\\\n",
    "                            'sgnm2':sgnm2,'sgnml':sgnml,'Q':Q,'f':f}))\n",
    "        dfi=dfi.append(O,ignore_index=True)\n",
    "    \n",
    "dfi.shape"
   ]
  },
  {
   "cell_type": "code",
   "execution_count": null,
   "metadata": {
    "collapsed": true
   },
   "outputs": [],
   "source": [
    "if dfi.shape[0]==1:\n",
    "    print 'Test'\n",
    "    m_e=0.5109989461e-3;m_mu=0.1056583745;m_tau=1.77686\n",
    "    mlep=np.diag([m_e,m_mu,m_tau])\n",
    "\n",
    "    Mnu=Kappa(s2phi,M1,M2)*( np.dot( np.dot(Q,mlep),f.transpose() )+np.dot( np.dot(f,mlep),Q.transpose()) )\n",
    "    Mnu_diag,U=np.linalg.eig(Mnu)\n",
    "    lo=np.argsort(np.abs(Mnu_diag))\n",
    "    Mnu_diag=np.array([Mnu_diag[lo[1]],Mnu_diag[lo[2]],Mnu_diag[lo[0]]])\n",
    "    U=np.matrix(U)\n",
    "    U=np.asarray(np.hstack((U[:,lo[1]],U[:,lo[2]],U[:,lo[0]])))\n",
    "    mltmp,Dm21_2,Dm3l_2,theta12,theta23,theta13,delta=hp.neutrino_data(CL=3,IH=True,mnu1in=1E-5*1E-9)  \n",
    "    m2=np.sqrt(O.m3**2-Dm3l_2[1]); m1=np.sqrt(m2**2-Dm21_2[1])\n",
    "    theta12[1]=df.Theta12\n",
    "    theta13[1]=df.Theta13\n",
    "    theta23[1]=df.Theta23\n",
    "    \n",
    "    np.testing.assert_array_almost_equal(np.abs(U),\\\n",
    "        np.abs( hp.UPMNS(theta12[1],theta13[1],theta23[1]) ) )\n",
    "    \n",
    "    np.testing.assert_almost_equal( np.abs(Mnu_diag)*1E11,np.abs([O.m1,m2,m3])*1E11 )"
   ]
  },
  {
   "cell_type": "code",
   "execution_count": null,
   "metadata": {
    "collapsed": true
   },
   "outputs": [],
   "source": [
    "N = dfi.f.shape[0]\n",
    "\n",
    "dfi1=pd.DataFrame()\n",
    "\n",
    "for i in range(N):   \n",
    "    Yh12 = dfi.f[i][0,1]     # Yh(1,2)\n",
    "    Yh13 = dfi.f[i][0,2]     # Yh(1,3)\n",
    "    Yh21 = dfi.f[i][1,0]     # Yh(2,1)\n",
    "    Yh23 = dfi.f[i][1,2]     # Yh(2,3)\n",
    "    Yh31 = dfi.f[i][2,0]     # Yh(3,1)\n",
    "    Yh32 = dfi.f[i][2,1]     # Yh(3,2)\n",
    "\n",
    "    a.LHA.blocks['YHIN'][(1,2)]='%0.8E      # Yh(1,2)'    %Yh12\n",
    "    a.LHA.blocks['YHIN'][(1,3)]='%0.8E      # Yh(1,3)'    %Yh13\n",
    "    a.LHA.blocks['YHIN'][(2,1)]='%0.8E      # Yh(2,1)'    %Yh21\n",
    "    a.LHA.blocks['YHIN'][(2,3)]='%0.8E      # Yh(2,3)'    %Yh23\n",
    "    a.LHA.blocks['YHIN'][(3,1)]='%0.8E      # Yh(3,1)'    %Yh31\n",
    "    a.LHA.blocks['YHIN'][(3,2)]='%0.8E      # Yh(3,2)'    %Yh32\n",
    "\n",
    "    epsE11 = dfi.Q[i][0,0]          # epsE(1,1)\n",
    "    epsE12 = dfi.Q[i][0,1]          # epsE(1,2)\n",
    "    epsE13 = dfi.Q[i][0,2]          # epsE(1,3)\n",
    "    epsE21 = dfi.Q[i][1,0]          # epsE(2,1)\n",
    "    epsE22 = dfi.Q[i][1,1]          # epsE(2,2)\n",
    "    epsE23 = dfi.Q[i][1,2]          # epsE(2,3)\n",
    "    epsE31 = dfi.Q[i][2,0]          # epsE(3,1)\n",
    "    epsE32 = dfi.Q[i][2,1]          # epsE(3,2)\n",
    "    epsE33 = dfi.Q[i][2,2]          # epsE(3,3)\n",
    "\n",
    "    a.LHA.blocks['EPSEIN'][(1,1)]='%0.8E      # epsE(1,1)'    %epsE11\n",
    "    a.LHA.blocks['EPSEIN'][(1,2)]='%0.8E      # epsE(1,2)'    %epsE12\n",
    "    a.LHA.blocks['EPSEIN'][(1,3)]='%0.8E      # epsE(1,3)'    %epsE13\n",
    "    a.LHA.blocks['EPSEIN'][(2,1)]='%0.8E      # epsE(2,1)'    %epsE21\n",
    "    a.LHA.blocks['EPSEIN'][(2,2)]='%0.8E      # epsE(2,2)'    %epsE22\n",
    "    a.LHA.blocks['EPSEIN'][(2,3)]='%0.8E      # epsE(2,3)'    %epsE23\n",
    "    a.LHA.blocks['EPSEIN'][(3,1)]='%0.8E      # epsE(3,1)'    %epsE31\n",
    "    a.LHA.blocks['EPSEIN'][(3,2)]='%0.8E      # epsE(3,2)'    %epsE32\n",
    "    a.LHA.blocks['EPSEIN'][(3,3)]='%0.8E      # epsE(3,3)'    %epsE33\n",
    "    \n",
    "    tanbetha = 1.0\n",
    "\n",
    "    Yd33 = 0.0240086062\n",
    "    Yu33 = 0.996529469\n",
    "    epsD33 = Yd33*tanbetha\n",
    "    epsU33 = Yu33*tanbetha \n",
    "    \n",
    "    a.LHA.blocks['EPSDIN'][(3,3)]='%0.8E      # epsD(3,3)'    %epsD33\n",
    "    a.LHA.blocks['EPSUIN'][(3,3)]='%0.8E      # epsU(3,3)'    %epsU33\n",
    "\n",
    "    moc=a.runSPheno() \n",
    "\n",
    "    Brmuegamma = a.LHA_out.blocks['FLAVORKITLFV'][701]     #BR(mu->e gamma)\n",
    "    Brtauegamma = a.LHA_out.blocks['FLAVORKITLFV'][702]    #BR(tau->e gamma)\n",
    "    Brtaumugamma = a.LHA_out.blocks['FLAVORKITLFV'][703]   #BR(tau->mu gamma)     \n",
    "    Brmu3e = a.LHA_out.blocks['FLAVORKITLFV'][901]         #BR(mu->3e)\n",
    "    Brtau3mu = a.LHA_out.blocks['FLAVORKITLFV'][903]       #BR(tau->3mu)    \n",
    "    Brtauemumu = a.LHA_out.blocks['FLAVORKITLFV'][904]     #BR(tau- -> e- mu+ mu-) \n",
    "    Brtaumuee = a.LHA_out.blocks['FLAVORKITLFV'][905]      #BR(tau- -> mu- e+ e-)\n",
    "    Brtau3e = a.LHA_out.blocks['FLAVORKITLFV'][902]        #BR(tau->3e)\n",
    "    CrmueTi = a.LHA_out.blocks['FLAVORKITLFV'][801]        #CR(mu-e, Ti) \n",
    "    CrmueAu = a.LHA_out.blocks['FLAVORKITLFV'][804]        #CR(mu-e, Au)    \n",
    "    \n",
    "    FLFV = np.array([Brmuegamma, Brtauegamma, Brtaumugamma, Brmu3e, Brtau3mu, Brtauemumu, Brtaumuee, Brtau3e, CrmueTi, CrmueAu])\n",
    "    #print FLFV\n",
    "    if np.all(FLFV < LFV):    \n",
    "        a.Series=a.Series.append(hp.block_to_series(a.LHA_out_with_comments.blocks['MASS']))\n",
    "        a.branchings(a.LHA_out.decays,min_pdg=25)\n",
    "        a.Series=a.Series.append(a.Br_names)\n",
    "        a.Series=a.Series.append(hp.block_to_series(a.LHA_out_with_comments.blocks['FLAVORKITLFV']))\n",
    "        a.Series=a.Series.append(hp.block_to_series(a.LHA_out_with_comments.blocks['EPSE']))\n",
    "        a.Series=a.Series.append(hp.block_to_series(a.LHA_out_with_comments.blocks['EPSD']))\n",
    "        a.Series=a.Series.append(hp.block_to_series(a.LHA_out_with_comments.blocks['EPSU']))\n",
    "        a.Series=a.Series.append(hp.block_to_series(a.LHA_out_with_comments.blocks['YH']))\n",
    "    \n",
    "        dfi1=dfi1.append(a.Series,ignore_index=True)\n",
    "        dfi1=dfi1.fillna(0)\n",
    "        \n",
    "dfi1.shape"
   ]
  },
  {
   "cell_type": "code",
   "execution_count": null,
   "metadata": {
    "collapsed": true
   },
   "outputs": [],
   "source": [
    "plt.hexbin(np.sqrt(dfi1.epsE11**2+dfi1.epsE12**2+dfi1.epsE13**2),\\\n",
    "           np.sqrt(dfi1.epsE21**2+dfi1.epsE22**2+dfi1.epsE23**2),\\\n",
    "           np.sqrt(dfi1.epsE31**2+dfi1.epsE32**2+dfi1.epsE33**2),xscale='log',yscale='log',norm=LogNorm())\n",
    "plt.colorbar()"
   ]
  },
  {
   "cell_type": "code",
   "execution_count": null,
   "metadata": {
    "collapsed": true
   },
   "outputs": [],
   "source": [
    "plt.hexbin(np.sqrt(dfi1.epsE11**2+dfi1.epsE12**2+dfi1.epsE13**2),\\\n",
    "           np.sqrt(dfi1.epsE31**2+dfi1.epsE32**2+dfi1.epsE33**2),\\\n",
    "           np.fabs(dfi1.Fv1),xscale='log',yscale='log',norm=LogNorm())\n",
    "plt.colorbar()"
   ]
  },
  {
   "cell_type": "code",
   "execution_count": null,
   "metadata": {
    "collapsed": true
   },
   "outputs": [],
   "source": [
    "plt.hexbin(np.abs(dfi1.Yh12),np.abs(dfi1.Yh13),np.abs(dfi1.Yh23),xscale='log',yscale='log',norm=LogNorm())\n",
    "plt.colorbar()"
   ]
  },
  {
   "cell_type": "code",
   "execution_count": null,
   "metadata": {
    "collapsed": false
   },
   "outputs": [],
   "source": [
    "plt.hexbin(np.abs(dfi1.Theta13*180.0/np.pi),np.abs(dfi1.Theta12*180.0/np.pi),np.abs(dfi1[3,3]),norm=LogNorm())\n",
    "plt.colorbar()"
   ]
  },
  {
   "cell_type": "code",
   "execution_count": null,
   "metadata": {
    "collapsed": false
   },
   "outputs": [],
   "source": [
    "dfi2 = dfi[dfi[3,3]>1.0E-05]\n",
    "dfi3 = dfi[dfi[3,3]>1.0E-03]\n",
    "plt.hexbin(np.abs(dfi2.Theta13*180.0/np.pi),np.abs(dfi2.Theta12*180.0/np.pi),np.abs(dfi2[3,3]),norm=LogNorm())\n",
    "plt.plot(np.abs(dfi3.Theta13*180.0/np.pi),np.abs(dfi3.Theta12*180.0/np.pi),'ro')\n",
    "plt.colorbar()\n",
    "dfi2.shape"
   ]
  },
  {
   "cell_type": "code",
   "execution_count": null,
   "metadata": {
    "collapsed": false
   },
   "outputs": [],
   "source": [
    "npoints = 300000\n",
    "omin=1E-15;omax=3\n",
    "o33min=1E-2;o33max=3\n",
    "m3min=1E-27;m3max=1E-11\n",
    "for i in range(npoints):\n",
    "    O=pd.Series({'s2phi':0.014,'M1':800,'M2':1000,'m1':0,(1,2):1e-3,(1,3):1e-6,(2,1):200e-3,(2,3):0,(3,2):-1e-5,(3,3):0})\n",
    "    for ij in [(1,2),(1,3),(2,1),(2,3),(3,2),(3,3)]:\n",
    "        if (ij==(3,3)):\n",
    "            O[ij]=rndm_sgn()*np.exp(np.random.uniform(np.log(o33min),np.log(o33max)))\n",
    "        else:\n",
    "            O[ij]=rndm_sgn()*np.exp(np.random.uniform(np.log(omin),np.log(omax)))\n",
    "\n",
    "    t12=np.exp(np.random.uniform(np.log(31.38*np.pi/180.0),np.log(35.99*np.pi/180.0)))\n",
    "    t13=np.exp(np.random.uniform(np.log(8.03*np.pi/180.0),np.log(8.93*np.pi/180.0)))\n",
    "    t23=np.exp(np.random.uniform(np.log(38.8*np.pi/180.0),np.log(53.1*np.pi/180.0)))\n",
    "    O['Theta12']=t12\n",
    "    O['Theta13']=t13\n",
    "    O['Theta23']=t23\n",
    "    O.m3=rndm_sgn()*np.exp(np.random.uniform(np.log(m3min),np.log(m3max))) #in GeV\n",
    "    kappa=Kappa(O.s2phi,O.M1,O.M2)\n",
    "    O['kappa']=kappa\n",
    "    sgnm2=rndm_sgn()\n",
    "    sgnml=rndm_sgn()\n",
    "    X=Inverse_Zee_Matrix(kappa,t12,t13,t23,O.m1,IH=True,sgnm2=sgnm2,sgnml=sgnml)\n",
    "    Q,f=get_yukawas(X,q01=O[1,2],q02=O[1,3],q10=O[2,1],q12=O[2,3],q21=O[3,2],q22=O[3,3])\n",
    "    if check_real(Q) and check_real(f) and np.abs(np.append(Q,f)).max()<=omax:\n",
    "        O=O.append(pd.Series({(1,1):Q[0,0],(2,2):Q[1,1],(3,1):Q[2,0],'f12':f[0,1],'f13':f[0,2],'f23':f[1,2],\\\n",
    "                            'sgnm2':sgnm2,'sgnml':sgnml,'Q':Q,'f':f}))\n",
    "        dfi=dfi.append(O,ignore_index=True)\n",
    "    \n",
    "dfi.shape"
   ]
  },
  {
   "cell_type": "code",
   "execution_count": null,
   "metadata": {
    "collapsed": true
   },
   "outputs": [],
   "source": [
    "if dfi.shape[0]==1:\n",
    "    print 'Test'\n",
    "    m_e=0.5109989461e-3;m_mu=0.1056583745;m_tau=1.77686\n",
    "    mlep=np.diag([m_e,m_mu,m_tau])\n",
    "\n",
    "    Mnu=Kappa(s2phi,M1,M2)*( np.dot( np.dot(Q,mlep),f.transpose() )+np.dot( np.dot(f,mlep),Q.transpose()) )\n",
    "    Mnu_diag,U=np.linalg.eig(Mnu)\n",
    "    lo=np.argsort(np.abs(Mnu_diag))\n",
    "    Mnu_diag=np.array([Mnu_diag[lo[1]],Mnu_diag[lo[2]],Mnu_diag[lo[0]]])\n",
    "    U=np.matrix(U)\n",
    "    U=np.asarray(np.hstack((U[:,lo[1]],U[:,lo[2]],U[:,lo[0]])))\n",
    "    mltmp,Dm21_2,Dm3l_2,theta12,theta23,theta13,delta=hp.neutrino_data(CL=3,IH=False,mnu1in=1E-5*1E-9)  \n",
    "    theta12[1]=df.Theta12\n",
    "    theta13[1]=df.Theta13\n",
    "    theta23[1]=df.Theta23\n",
    "    m2=np.sqrt(O.m3**2-Dm3l_2[1]); m1=np.sqrt(m2**2-Dm21_2[1])\n",
    "    \n",
    "    np.testing.assert_array_almost_equal(np.abs(U),\\\n",
    "        np.abs( hp.UPMNS(theta12[1],theta13[1],theta23[1]) ) )\n",
    "    \n",
    "    np.testing.assert_almost_equal( np.abs(Mnu_diag)*1E11,np.abs([O.m1,m2,m3])*1E11 )"
   ]
  },
  {
   "cell_type": "code",
   "execution_count": null,
   "metadata": {
    "collapsed": false
   },
   "outputs": [],
   "source": [
    "dfi2 = dfi[dfi[3,3]>1.0E-05]\n",
    "dfi3 = dfi[dfi[3,3]>1.0E-03]"
   ]
  },
  {
   "cell_type": "code",
   "execution_count": null,
   "metadata": {
    "collapsed": true
   },
   "outputs": [],
   "source": [
    "N = dfi3.f.shape[0]\n",
    "\n",
    "dfi4=pd.DataFrame()\n",
    "\n",
    "for i in range(N):   \n",
    "    Yh12 = dfi3.f[i][0,1]     # Yh(1,2)\n",
    "    Yh13 = dfi3.f[i][0,2]     # Yh(1,3)\n",
    "    Yh21 = dfi3.f[i][1,0]     # Yh(2,1)\n",
    "    Yh23 = dfi3.f[i][1,2]     # Yh(2,3)\n",
    "    Yh31 = dfi3.f[i][2,0]     # Yh(3,1)\n",
    "    Yh32 = dfi3.f[i][2,1]     # Yh(3,2)\n",
    "\n",
    "    a.LHA.blocks['YHIN'][(1,2)]='%0.8E      # Yh(1,2)'    %Yh12\n",
    "    a.LHA.blocks['YHIN'][(1,3)]='%0.8E      # Yh(1,3)'    %Yh13\n",
    "    a.LHA.blocks['YHIN'][(2,1)]='%0.8E      # Yh(2,1)'    %Yh21\n",
    "    a.LHA.blocks['YHIN'][(2,3)]='%0.8E      # Yh(2,3)'    %Yh23\n",
    "    a.LHA.blocks['YHIN'][(3,1)]='%0.8E      # Yh(3,1)'    %Yh31\n",
    "    a.LHA.blocks['YHIN'][(3,2)]='%0.8E      # Yh(3,2)'    %Yh32\n",
    "\n",
    "    epsE11 = dfi3.Q[i][0,0]          # epsE(1,1)\n",
    "    epsE12 = dfi3.Q[i][0,1]          # epsE(1,2)\n",
    "    epsE13 = dfi3.Q[i][0,2]          # epsE(1,3)\n",
    "    epsE21 = dfi3.Q[i][1,0]          # epsE(2,1)\n",
    "    epsE22 = dfi3.Q[i][1,1]          # epsE(2,2)\n",
    "    epsE23 = dfi3.Q[i][1,2]          # epsE(2,3)\n",
    "    epsE31 = dfi3.Q[i][2,0]          # epsE(3,1)\n",
    "    epsE32 = dfi3.Q[i][2,1]          # epsE(3,2)\n",
    "    epsE33 = dfi3.Q[i][2,2]          # epsE(3,3)\n",
    "\n",
    "    a.LHA.blocks['EPSEIN'][(1,1)]='%0.8E      # epsE(1,1)'    %epsE11\n",
    "    a.LHA.blocks['EPSEIN'][(1,2)]='%0.8E      # epsE(1,2)'    %epsE12\n",
    "    a.LHA.blocks['EPSEIN'][(1,3)]='%0.8E      # epsE(1,3)'    %epsE13\n",
    "    a.LHA.blocks['EPSEIN'][(2,1)]='%0.8E      # epsE(2,1)'    %epsE21\n",
    "    a.LHA.blocks['EPSEIN'][(2,2)]='%0.8E      # epsE(2,2)'    %epsE22\n",
    "    a.LHA.blocks['EPSEIN'][(2,3)]='%0.8E      # epsE(2,3)'    %epsE23\n",
    "    a.LHA.blocks['EPSEIN'][(3,1)]='%0.8E      # epsE(3,1)'    %epsE31\n",
    "    a.LHA.blocks['EPSEIN'][(3,2)]='%0.8E      # epsE(3,2)'    %epsE32\n",
    "    a.LHA.blocks['EPSEIN'][(3,3)]='%0.8E      # epsE(3,3)'    %epsE33\n",
    "    \n",
    "    tanbetha = 1.0\n",
    "\n",
    "    Yd33 = 0.0240086062\n",
    "    Yu33 = 0.996529469\n",
    "    epsD33 = Yd33*tanbetha\n",
    "    epsU33 = Yu33*tanbetha \n",
    "    \n",
    "    a.LHA.blocks['EPSDIN'][(3,3)]='%0.8E      # epsD(3,3)'    %epsD33\n",
    "    a.LHA.blocks['EPSUIN'][(3,3)]='%0.8E      # epsU(3,3)'    %epsU33\n",
    "\n",
    "    moc=a.runSPheno() \n",
    "\n",
    "    Brmuegamma = a.LHA_out.blocks['FLAVORKITLFV'][701]     #BR(mu->e gamma)\n",
    "    Brtauegamma = a.LHA_out.blocks['FLAVORKITLFV'][702]    #BR(tau->e gamma)\n",
    "    Brtaumugamma = a.LHA_out.blocks['FLAVORKITLFV'][703]   #BR(tau->mu gamma)     \n",
    "    Brmu3e = a.LHA_out.blocks['FLAVORKITLFV'][901]         #BR(mu->3e)\n",
    "    Brtau3mu = a.LHA_out.blocks['FLAVORKITLFV'][903]       #BR(tau->3mu)    \n",
    "    Brtauemumu = a.LHA_out.blocks['FLAVORKITLFV'][904]     #BR(tau- -> e- mu+ mu-) \n",
    "    Brtaumuee = a.LHA_out.blocks['FLAVORKITLFV'][905]      #BR(tau- -> mu- e+ e-)\n",
    "    Brtau3e = a.LHA_out.blocks['FLAVORKITLFV'][902]        #BR(tau->3e)\n",
    "    CrmueTi = a.LHA_out.blocks['FLAVORKITLFV'][801]        #CR(mu-e, Ti) \n",
    "    CrmueAu = a.LHA_out.blocks['FLAVORKITLFV'][804]        #CR(mu-e, Au)    \n",
    "    \n",
    "    FLFV = np.array([Brmuegamma, Brtauegamma, Brtaumugamma, Brmu3e, Brtau3mu, Brtauemumu, Brtaumuee, Brtau3e, CrmueTi, CrmueAu])\n",
    "    #print FLFV\n",
    "    if np.all(FLFV < LFV):    \n",
    "        a.Series=a.Series.append(hp.block_to_series(a.LHA_out_with_comments.blocks['MASS']))\n",
    "        a.branchings(a.LHA_out.decays,min_pdg=25)\n",
    "        a.Series=a.Series.append(a.Br_names)\n",
    "        a.Series=a.Series.append(hp.block_to_series(a.LHA_out_with_comments.blocks['FLAVORKITLFV']))\n",
    "        a.Series=a.Series.append(hp.block_to_series(a.LHA_out_with_comments.blocks['EPSE']))\n",
    "        a.Series=a.Series.append(hp.block_to_series(a.LHA_out_with_comments.blocks['EPSD']))\n",
    "        a.Series=a.Series.append(hp.block_to_series(a.LHA_out_with_comments.blocks['EPSU']))\n",
    "        a.Series=a.Series.append(hp.block_to_series(a.LHA_out_with_comments.blocks['YH']))\n",
    "    \n",
    "        dfi4=dfi4.append(a.Series,ignore_index=True)\n",
    "        dfi4=dfi4.fillna(0)\n",
    "        \n",
    "dfi4.shape"
   ]
  },
  {
   "cell_type": "code",
   "execution_count": null,
   "metadata": {
    "collapsed": true
   },
   "outputs": [],
   "source": [
    "plt.hexbin(np.abs(dfi4.Theta13*180.0/np.pi),np.abs(dfi4.Theta12*180.0/np.pi),np.abs(dfi4[3,3]),norm=LogNorm())\n",
    "plt.colorbar()\n",
    "df1.shape"
   ]
  },
  {
   "cell_type": "code",
   "execution_count": null,
   "metadata": {
    "collapsed": false
   },
   "outputs": [],
   "source": [
    "plt.hexbin(np.abs(dfi4.Theta13*180.0/np.pi),np.abs(dfi4[3,3]),np.abs(dfi4.Theta12*180.0/np.pi),yscale='log',norm=LogNorm())\n",
    "plt.colorbar()"
   ]
  },
  {
   "cell_type": "code",
   "execution_count": null,
   "metadata": {
    "collapsed": false
   },
   "outputs": [],
   "source": [
    "plt.hexbin(np.abs(dfi4.Theta12*180.0/np.pi),np.abs(dfi4[3,3]),np.abs(dfi4.Theta13*180.0/np.pi),yscale='log',norm=LogNorm())\n",
    "plt.colorbar()"
   ]
  },
  {
   "cell_type": "code",
   "execution_count": null,
   "metadata": {
    "collapsed": false
   },
   "outputs": [],
   "source": []
  },
  {
   "cell_type": "code",
   "execution_count": null,
   "metadata": {
    "collapsed": false,
    "scrolled": true
   },
   "outputs": [],
   "source": []
  },
  {
   "cell_type": "markdown",
   "metadata": {},
   "source": [
    "[![Home](http://www.incredimail.com/images/nav%20bar/home-icon.png)](./) \n",
    "[Jupyter home](./draft.pdf)"
   ]
  }
 ],
 "metadata": {
  "kernelspec": {
   "display_name": "Python 2",
   "language": "python",
   "name": "python2"
  },
  "language_info": {
   "codemirror_mode": {
    "name": "ipython",
    "version": 2
   },
   "file_extension": ".py",
   "mimetype": "text/x-python",
   "name": "python",
   "nbconvert_exporter": "python",
   "pygments_lexer": "ipython2",
   "version": "2.7.12"
  }
 },
 "nbformat": 4,
 "nbformat_minor": 0
}
