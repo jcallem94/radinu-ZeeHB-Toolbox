{
 "cells": [
  {
   "cell_type": "markdown",
   "metadata": {},
   "source": [
    "#  Modelo de ZeeHB"
   ]
  },
  {
   "cell_type": "markdown",
   "metadata": {},
   "source": [
    "Sample of notebook for specific model"
   ]
  },
  {
   "cell_type": "code",
   "execution_count": 1,
   "metadata": {
    "collapsed": true
   },
   "outputs": [],
   "source": [
    "%load_ext autoreload"
   ]
  },
  {
   "cell_type": "code",
   "execution_count": 2,
   "metadata": {
    "collapsed": true
   },
   "outputs": [],
   "source": [
    "%autoreload 2"
   ]
  },
  {
   "cell_type": "code",
   "execution_count": 3,
   "metadata": {
    "collapsed": false
   },
   "outputs": [
    {
     "name": "stdout",
     "output_type": "stream",
     "text": [
      "Populating the interactive namespace from numpy and matplotlib\n"
     ]
    }
   ],
   "source": [
    "%pylab inline"
   ]
  },
  {
   "cell_type": "code",
   "execution_count": 4,
   "metadata": {
    "collapsed": false
   },
   "outputs": [
    {
     "ename": "ImportError",
     "evalue": "No module named stu",
     "output_type": "error",
     "traceback": [
      "\u001b[0;31m---------------------------------------------------------------------------\u001b[0m",
      "\u001b[0;31mImportError\u001b[0m                               Traceback (most recent call last)",
      "\u001b[0;32m<ipython-input-4-0a9893401c08>\u001b[0m in \u001b[0;36m<module>\u001b[0;34m()\u001b[0m\n\u001b[1;32m      5\u001b[0m \u001b[0;32mfrom\u001b[0m \u001b[0mhep\u001b[0m \u001b[0;32mimport\u001b[0m \u001b[0;34m*\u001b[0m\u001b[0;34m\u001b[0m\u001b[0m\n\u001b[1;32m      6\u001b[0m \u001b[0;32mimport\u001b[0m \u001b[0mast\u001b[0m\u001b[0;34m\u001b[0m\u001b[0m\n\u001b[0;32m----> 7\u001b[0;31m \u001b[0;32mimport\u001b[0m \u001b[0mstu\u001b[0m \u001b[0;32mas\u001b[0m \u001b[0mstu\u001b[0m\u001b[0;34m\u001b[0m\u001b[0m\n\u001b[0m\u001b[1;32m      8\u001b[0m \u001b[0;32mimport\u001b[0m \u001b[0mtime\u001b[0m\u001b[0;34m\u001b[0m\u001b[0m\n",
      "\u001b[0;31mImportError\u001b[0m: No module named stu"
     ]
    }
   ],
   "source": [
    "import pandas as pd\n",
    "import numpy as np\n",
    "import os, sys, inspect\n",
    "import commands\n",
    "from hep import *\n",
    "import ast\n",
    "import stu as stu\n",
    "import time"
   ]
  },
  {
   "cell_type": "markdown",
   "metadata": {},
   "source": [
    "DEBUG: check for q2=2.5 with s2phi = 1.4E-02, M1 = 200.0, M2 = 500.0"
   ]
  },
  {
   "cell_type": "code",
   "execution_count": null,
   "metadata": {
    "collapsed": false
   },
   "outputs": [],
   "source": [
    "import hep as hp\n",
    "def Kappa(s2phi,M1,M2):\n",
    "    return s2phi*np.log(M2**2/float(M1)**2)/(4.*np.pi)**2\n",
    "\n",
    "def Inverse_Zee_Matrix(kappa,ml,IH=False,sgnm2=-1,sgnml=1):\n",
    "    \"\"\"Inverse neutrino mass matrix normalized by kappa from\n",
    "        Mnu_diag=U^T.(kappa Y).U\n",
    "        ,\n",
    "        (Inverse_Zee_Matrix) = U. Mnu_diag.U^T/kappa\n",
    "        sgnm2=-1 guarantees real Yukawa couplings\n",
    "        \n",
    "    requires hep.py:\n",
    "       https://github.com/restrepo/BSM-Toolbox/blob/master/tests/hep.py\n",
    "    \"\"\"\n",
    "    if not IH:\n",
    "        mltmp,Dm21_2,Dm3l_2,theta12,theta23,theta13,delta=hp.neutrino_data()\n",
    "        U=hp.UPMNS(theta12[1],theta13[1],theta23[1])\n",
    "        m1=ml; m2=sgnm2*np.sqrt(Dm21_2[1]+m1**2); m3=sgnml*np.sqrt(Dm3l_2[1]+m1**2)\n",
    "    else:\n",
    "        mltmp,Dm21_2,Dm3l_2,theta12,theta23,theta13,delta=hp.neutrino_data(IH=True)\n",
    "        U=hp.UPMNS(theta12[1],theta13[1],theta23[1])\n",
    "        #DEBUG signs\n",
    "        m3=ml; m2=sgnm2*np.sqrt(Dm3l_2[1]-m3**2); m1=signml*np.sqrt(Dm21_2[1]-m2**2)\n",
    "        \n",
    "    return np.dot( np.dot( U,np.diag([m1,m2,m3]) ), U.transpose() )/kappa\n",
    "\n",
    "def get_yukawas(X,q01=1e-3,q02=1e-6,q10=200e-3,q12=0,q21=-1e-5,q22=0,m_e=0.5109989461e-3,m_mu=0.1056583745,m_tau=1.77686):\n",
    "    \"\"\"\n",
    "    Get the O and f full Yukawa mass matrices which define the neutrino mass matrix in the Zee model\n",
    "      Mnu=kappa*(O.M_lep.f^T+f.M_lep.O^T)\n",
    "    where M_lep is the diagonal matrix with the charged leptons\n",
    "    \n",
    "    The input X is the output of the `def Inverse_Zee_Matrix(...)` in this module\n",
    "    \"\"\"\n",
    "    import numpy.lib.scimath as sc # .sqrt -> returns complex for sqrt(negative real)\n",
    "    ml=np.array([m_e,m_mu,m_tau])\n",
    "    Q=np.zeros((3,3))\n",
    "    f=np.zeros((3,3))\n",
    "    Q[0,1]=q01;Q[0,2]=q02;Q[1,0]=q10;Q[1,2]=q12;Q[2,1]=q21;Q[2,2]=q22\n",
    "    Q[2,0]=( -(ml[0]**3*Q[1,0]**2*X[0,0]**2*(ml[1]*Q[2,1]*X[0,1] + ml[2]*Q[0,2]*X[2,2])) -\\\n",
    "      ml[0]*(ml[1]*Q[2,1]*X[1,1] + ml[2]*Q[1,2]*X[2,2])*(ml[1]*Q[0,1]*((ml[1]*Q[0,1]*X[0,1] +\\\n",
    "      ml[2]*Q[0,2]*X[0,2])*X[1,1] + ml[2]*Q[1,2]*X[0,0]*X[1,2]) +\\\n",
    "      ml[2]**2*Q[0,2]*Q[1,2]*X[0,0]*X[2,2]) + ml[0]**2*Q[1,0]*X[0,0]*(-(ml[1]*Q[2,1]*((2*ml[1]*Q[0,1]*X[0,1] +\\\n",
    "      ml[2]*Q[0,2]*X[0,2])*X[1,1] + ml[2]*Q[1,2]*X[0,0]*X[1,2])) -\\\n",
    "      ml[2]*(2*ml[2]*Q[0,2]*Q[1,2]*X[0,2] + ml[1]*Q[0,1]*(Q[1,2]*X[0,1] + Q[0,2]*X[1,1]))*X[2,2]) +\\\n",
    "      np.sqrt( -(ml[0]**2*ml[1]**2*(ml[0]*Q[1,0]*Q[2,1]*X[0,0] + Q[0,1]*(ml[1]*Q[2,1]*X[1,1] +\\\n",
    "      ml[2]*Q[1,2]*X[2,2]))**2*(ml[0]**2*Q[1,0]**2*X[0,0]**2*(-X[0,1]**2 + X[0,0]*X[1,1]) +\\\n",
    "      ml[1]**2*Q[0,1]**2*X[1,1]**2*(-X[0,1]**2 + X[0,0]*X[1,1]) +\\\n",
    "      2*ml[1]*ml[2]*Q[0,1]*X[1,1]*((Q[1,2]*X[0,0] - Q[0,2]*X[0,1])*X[0,2]*X[1,1] + X[0,0]*(-(Q[1,2]*X[0,1]) +\\\n",
    "      Q[0,2]*X[1,1])*X[1,2]) + 2*ml[0]*Q[1,0]*X[0,0]*(X[1,1]*(ml[2]*(Q[1,2]*X[0,0] - Q[0,2]*X[0,1])*X[0,2] +\\\n",
    "      ml[1]*Q[0,1]*(-X[0,1]**2 + X[0,0]*X[1,1])) + ml[2]*X[0,0]*(-(Q[1,2]*X[0,1]) + Q[0,2]*X[1,1])*X[1,2]) +\\\n",
    "      ml[2]**2*(-(Q[0,2]*X[0,2]*X[1,1] - Q[1,2]*X[0,0]*X[1,2])**2 + X[0,0]*X[1,1]*(Q[1,2]**2*X[0,0] -\\\n",
    "      2*Q[0,2]*Q[1,2]*X[0,1] + Q[0,2]**2*X[1,1])*X[2,2])))    )   )/\\\n",
    "      (ml[0]**2*X[0,0]*((ml[0]*Q[1,0]*X[0,0] + ml[1]*Q[0,1]*X[1,1])*(ml[0]*Q[1,0]*X[0,0] +\\\n",
    "       2*ml[2]*Q[1,2]*X[0,2] + ml[1]*Q[0,1]*X[1,1]) + ml[2]**2*Q[1,2]**2*X[0,0]*X[2,2]))\n",
    "\n",
    "    Q[0,0]=(ml[0]**2*Q[0,1]*Q[1,0]*Q[2,0]*X[0,0] - ml[2]*(Q[0,2]*Q[2,1] -\\\n",
    "        Q[0,1]*Q[2,2])*(ml[1]*Q[2,1]*X[1,1] + ml[2]*Q[1,2]*X[2,2]) +\\\n",
    "        ml[0]*(ml[1]*Q[0,1]**2*Q[2,0]*X[1,1] + ml[2]*(Q[1,2]*Q[2,0]*(-(Q[2,1]*X[0,0]) +\\\n",
    "        2*Q[0,1]*X[0,2]) + Q[1,0]*(Q[2,1]*(Q[2,2]*X[0,0] - 2*Q[0,2]*X[0,2]) +\\\n",
    "        Q[0,1]*Q[0,2]*X[2,2]))))/(ml[0]*(ml[0]*Q[1,0]*Q[2,1]*X[0,0] +\\\n",
    "        Q[0,1]*(ml[1]*Q[2,1]*X[1,1] + ml[2]*Q[1,2]*X[2,2])))\n",
    "    \n",
    "    Q[1,1]=(ml[0]**3*Q[1,0]*Q[2,0]*(Q[0,1]*Q[1,2]*Q[2,0] - Q[0,2]*Q[1,0]*Q[2,1])*X[0,0]**2 +\\\n",
    "        ml[0]*(2*ml[1]*Q[0,1]*(Q[0,1]*Q[1,2]*Q[2,0]*X[0,1] + Q[1,0]*Q[2,1]*(Q[1,2]*X[0,0] -\\\n",
    "        Q[0,2]*X[0,1])) + ml[2]*(Q[0,1]*Q[1,2]*Q[2,0]*Q[2,2]*X[0,0] -\\\n",
    "        2*Q[0,2]**2*Q[1,0]*Q[2,1]*X[0,2] + Q[0,2]*(Q[1,0]*Q[2,1]*Q[2,2]*X[0,0] +\\\n",
    "        2*Q[1,2]*Q[2,0]*(-(Q[2,1]*X[0,0]) + Q[0,1]*X[0,2]))))*(ml[1]*Q[2,1]*X[1,1] +\\\n",
    "        ml[2]*Q[1,2]*X[2,2]) + (ml[1]*Q[0,1]**2*Q[1,2] + ml[2]*Q[0,2]*(-(Q[0,2]*Q[2,1]) +\\\n",
    "        Q[0,1]*Q[2,2]))*(ml[1]*Q[2,1]*X[1,1] + ml[2]*Q[1,2]*X[2,2])**2 +\\\n",
    "        ml[0]**2*X[0,0]*(ml[1]*(Q[1,0]**2*Q[2,1]**2*(Q[1,2]*X[0,0] - 2*Q[0,2]*X[0,1]) +\\\n",
    "        Q[0,1]**2*Q[1,2]*Q[2,0]**2*X[1,1] + Q[0,1]*Q[1,0]*Q[2,0]*Q[2,1]*(2*Q[1,2]*X[0,1] -\\\n",
    "        Q[0,2]*X[1,1])) + ml[2]*(Q[1,2]**2*Q[2,0]**2*(-(Q[2,1]*X[0,0]) + 2*Q[0,1]*X[0,2]) -\\\n",
    "        Q[0,2]**2*Q[1,0]**2*Q[2,1]*X[2,2] + Q[1,0]*Q[1,2]*Q[2,0]*(Q[2,1]*(Q[2,2]*X[0,0] -\\\n",
    "        2*Q[0,2]*X[0,2]) + Q[0,1]*Q[0,2]*X[2,2]))))/\\\n",
    "        (ml[1]*(ml[0]*Q[1,0]*Q[2,1]*X[0,0] + Q[0,1]*(ml[1]*Q[2,1]*X[1,1] +\\\n",
    "         ml[2]*Q[1,2]*X[2,2]))*(ml[0]*Q[1,2]*Q[2,0]*X[0,0] + Q[0,2]*(ml[1]*Q[2,1]*X[1,1] +\\\n",
    "         ml[2]*Q[1,2]*X[2,2])))    \n",
    "        \n",
    "    f[0,1]=(ml[0]*Q[1,2]*Q[2,0]*X[0,0] + ml[1]*Q[0,2]*Q[2,1]*X[1,1] + ml[2]*Q[0,2]*Q[1,2]*X[2,2])/\\\n",
    "       (2*ml[0]*ml[1]*Q[0,1]*Q[1,2]*Q[2,0] - 2*ml[0]*ml[1]*Q[0,2]*Q[1,0]*Q[2,1])\n",
    "    f[0,2]=-((ml[0]*Q[1,0]*Q[2,1]*X[0,0] + ml[1]*Q[0,1]*Q[2,1]*X[1,1] + ml[2]*Q[0,1]*Q[1,2]*X[2,2])/\\\n",
    "        (2*ml[0]*ml[2]*Q[0,1]*Q[1,2]*Q[2,0] - 2*ml[0]*ml[2]*Q[0,2]*Q[1,0]*Q[2,1]))\n",
    "    f[1,2]=(ml[0]*Q[1,0]*Q[2,0]*X[0,0] + ml[1]*Q[0,1]*Q[2,0]*X[1,1] + ml[2]*Q[0,2]*Q[1,0]*X[2,2])/\\\n",
    "       (2*ml[1]*ml[2]*Q[0,1]*Q[1,2]*Q[2,0] - 2*ml[1]*ml[2]*Q[0,2]*Q[1,0]*Q[2,1])\n",
    "    f[1,0]=-f[0,1]; f[2,0]=-f[0,2]; f[2,1]=-f[1,2]\n",
    "    \n",
    "    return Q,f\n",
    "\n",
    "def test_Zee():\n",
    "    m_e=0.5109989461e-3;m_mu=0.1056583745;m_tau=1.77686\n",
    "    mlep=np.diag([m_e,m_mu,m_tau])\n",
    "    m1=0 # lightest neutrino\n",
    "    s2phi=0.014; M1=200.; M2=300.\n",
    "    X=Inverse_Zee_Matrix(Kappa(s2phi,M1,M2),m1)\n",
    "    O,f=get_yukawas(X) #Use default input values\n",
    "    Mnu=Kappa(s2phi,M1,M2)*( np.dot( np.dot(O,mlep),f.transpose() )+np.dot( np.dot(f,mlep),O.transpose()) )\n",
    "    Mnu_diag,U=np.linalg.eig(Mnu)\n",
    "    lo=np.argsort(np.abs(Mnu_diag))\n",
    "    Mnu_diag=np.array([Mnu_diag[lo[0]],Mnu_diag[lo[1]],Mnu_diag[lo[2]]])\n",
    "    U=np.matrix(U)\n",
    "    U=np.asarray(np.hstack((U[:,lo[0]],U[:,lo[1]],U[:,lo[2]])))\n",
    "    \n",
    "    mltmp,Dm21_2,Dm3l_2,theta12,theta23,theta13,delta=hp.neutrino_data()\n",
    "    m2=np.sqrt(Dm21_2[1]+m1**2); m3=np.sqrt(Dm3l_2[1]+m1**2)\n",
    "    \n",
    "    np.testing.assert_array_almost_equal(np.abs(U),\\\n",
    "        np.abs( hp.UPMNS(theta12[1],theta13[1],theta23[1]) ) )\n",
    "    \n",
    "    return np.testing.assert_almost_equal( np.abs(Mnu_diag)*1E11,np.abs([m1,m2,m3])*1E11 ) "
   ]
  },
  {
   "cell_type": "code",
   "execution_count": 5,
   "metadata": {
    "collapsed": true
   },
   "outputs": [],
   "source": [
    "def func(s2phi, s2ba_lam6, M1, M2, MAo, Mho, MHo, v, lam2, lam3, lam7, lam8, lam9, lam10, lamh,lambda_6=False):\n",
    "    '''\n",
    "    If lam6 then s2ba_lam6 -> lam6\n",
    "    '''\n",
    "    M12 = M1*M1; M22 = M2*M2; MAo2 = MAo*MAo; Mho2 = Mho*Mho; MHo2 = MHo*MHo;\n",
    "    k = s2phi*np.log(M22/float(M12))/(4.*np.pi)**2\n",
    "    phi = 0.5*np.arcsin(s2phi)\n",
    "    Mu  = (M22-M12)*s2phi/(np.sqrt(2.0)*v)\n",
    "    MH2 = M12*(np.sin(phi))**2+M22*(np.cos(phi))**2\n",
    "    M332 = M12*(np.cos(phi))**2+M22*(np.sin(phi))**2\n",
    "    Mu22 = MH2-0.5*lam3*(v**2)\n",
    "    Muh2 = M332-0.5*lam8*(v**2)\n",
    "    if lambda_6:\n",
    "        lam6=s2ba_lam6\n",
    "        lam6_s2ba=-2.*lam6*v**2/(MHo**2-Mh0**2) # = s2ba\n",
    "        if np.abs(lam6_s2ba)>1:\n",
    "            print('WARNING: sin( 2*(beta-alpha )) > 1')\n",
    "    else:\n",
    "        lam6_s2ba=-(MHo**2-Mho**2)*s2ba_lam6/(2.*v**2)\n",
    "        lam6=lam6_s2ba\n",
    "    lam1 = 0.5*(MHo2+Mho2-np.sqrt((MHo2-Mho2)**2-4.0*v**4*lam6**2))/(v**2)\n",
    "    lam4 = 0.5*(np.sqrt((MHo2-Mho2)**2-4.0*v**4*lam6**2)+MHo2+Mho2+2.0*(MAo2-2.0*MH2))/(v**2)\n",
    "    lam5 = 0.5*(np.sqrt((MHo2-Mho2)**2-4.0*v**4*lam6**2)+MHo2+Mho2-2.0*MAo2)/(v**2)\n",
    "    return k, Mu, Muh2, Mu22, lam1, lam4, lam5, lam6_s2ba"
   ]
  },
  {
   "cell_type": "code",
   "execution_count": 6,
   "metadata": {
    "collapsed": true
   },
   "outputs": [],
   "source": [
    "def find_keys(key,df):\n",
    "    for k in df.keys().values:\n",
    "        if type(k)==str:\n",
    "            if k.find(key)>-1:\n",
    "                print k"
   ]
  },
  {
   "cell_type": "markdown",
   "metadata": {},
   "source": [
    "## Tests"
   ]
  },
  {
   "cell_type": "code",
   "execution_count": 7,
   "metadata": {
    "collapsed": false
   },
   "outputs": [
    {
     "ename": "NameError",
     "evalue": "name 'test_Zee' is not defined",
     "output_type": "error",
     "traceback": [
      "\u001b[0;31m---------------------------------------------------------------------------\u001b[0m",
      "\u001b[0;31mNameError\u001b[0m                                 Traceback (most recent call last)",
      "\u001b[0;32m<ipython-input-7-2b39bac781a7>\u001b[0m in \u001b[0;36m<module>\u001b[0;34m()\u001b[0m\n\u001b[0;32m----> 1\u001b[0;31m \u001b[0mtest_Zee\u001b[0m\u001b[0;34m(\u001b[0m\u001b[0;34m)\u001b[0m\u001b[0;34m\u001b[0m\u001b[0m\n\u001b[0m\u001b[1;32m      2\u001b[0m \u001b[0mstu\u001b[0m\u001b[0;34m.\u001b[0m\u001b[0mtest_stu\u001b[0m\u001b[0;34m(\u001b[0m\u001b[0;34m)\u001b[0m\u001b[0;34m\u001b[0m\u001b[0m\n",
      "\u001b[0;31mNameError\u001b[0m: name 'test_Zee' is not defined"
     ]
    }
   ],
   "source": [
    "test_Zee()\n",
    "stu.test_stu()"
   ]
  },
  {
   "cell_type": "markdown",
   "metadata": {},
   "source": [
    "\n",
    "## Check one point"
   ]
  },
  {
   "cell_type": "code",
   "execution_count": 9,
   "metadata": {
    "collapsed": false
   },
   "outputs": [],
   "source": [
    "a=hep(MODEL='radinuZeeHB')"
   ]
  },
  {
   "cell_type": "markdown",
   "metadata": {},
   "source": [
    "`a-object` is an object with many attributes and methods. Use the tab to explore them. Some of them are\n",
    "* a.Series: [pandas](http://pandas.pydata.org/) Series object with the \"relevant\" variables \n",
    "* a.LHA: Input LesHouces file as [pyslha](https://pypi.python.org/pypi/pyslha/) object\n",
    "* a.runSPheno() -> a.LHA_out: return LHA output files as [pyslha](https://pypi.python.org/pypi/pyslha/) object\n",
    "* a.runmicromegas() -> a.runSPheno() -> Updated the `a-object`  with micrOMEGAS \"relevant\" output"
   ]
  },
  {
   "cell_type": "code",
   "execution_count": 10,
   "metadata": {
    "collapsed": false
   },
   "outputs": [],
   "source": [
    "v = a.vev\n",
    "s2phi = 1.4E-02\n",
    "s2ba=0.0045927703511266082\n",
    "M1 = 200.0\n",
    "M2 = 500.0\n",
    "MAo = 210.0\n",
    "Mho = 125.0\n",
    "MHo = 205.0\n",
    "lam=np.zeros(11)\n",
    "lam[2] = 1.3000000E-01    # lambda2Input\n",
    "lam[3] =1E-1\n",
    "lam[7] = 0.000000E+00     # lambda7Input\n",
    "lam[8] =1E-1\n",
    "lam[9] = 0.000000E+00     # lambda9Input\n",
    "lam[10] = 0.000000E+00    # lambda10Input\n",
    "lamh = 0.000000E+00     # lambdahInput\n",
    "m_e=0.5109989461e-3;m_mu=0.1056583745;m_tau=1.77686\n",
    "mlep=np.diag([m_e,m_mu,m_tau])\n",
    "m1=1E-14 \n",
    "\n",
    "\n",
    "k,Mu,Muh2,Mu22,lam[1],lam[4],lam[5],lam[6] = func(s2phi,s2ba,M1,M2,MAo,Mho,MHo,v,\\\n",
    "                                lam[2],lam[3],lam[7],lam[8],lam[9],lam[10],lamh)\n",
    "\n",
    "X=Inverse_Zee_Matrix(k,m1)\n",
    "O,f=get_yukawas(X,q22=0.0)\n",
    "\n",
    "devnull=commands.getoutput('rm -f SPheno.spc.%s' %a.MODEL)\n",
    "\n",
    "\n",
    "a.LHA.blocks['SPHENOINPUT'].entries[55]='0               # Calculate one loop masses'\n",
    "for i in range(1,11):\n",
    "    a.LHA.blocks['MINPAR'][i]= '%0.8E       #lambda%dInput ' %(lam[i],i)\n",
    "a.LHA.blocks['MINPAR'][11]='%0.8E       #lambdahInput' %lamh\n",
    "a.LHA.blocks['MINPAR'][12]='%0.8E       #Mh2Input' %Muh2\n",
    "a.LHA.blocks['MINPAR'][13]='%0.8E       #MuInput' %Mu\n",
    "a.LHA.blocks['MINPAR'][14]='%0.8E       #mEt2Input' %Mu22\n",
    "\n",
    "for i in range(3):\n",
    "    for j in range(3):\n",
    "        a.LHA.blocks['YHIN'][i+1,j+1]='%0.8E      # Yh(%d,%d)'    %(f[i,j],i+1,j+1)\n",
    "        a.LHA.blocks['EPSEIN'][i+1,j+1]='%0.8E      # epsE(%d,%d)'    %(O[i,j],i+1,j+1) # Note ordering\n",
    "        \n",
    "slha=a.runSPheno()\n",
    "kk=a.branchings(a.LHA_out.decays,min_pdg=15)"
   ]
  },
  {
   "cell_type": "markdown",
   "metadata": {},
   "source": [
    "## Test"
   ]
  },
  {
   "cell_type": "code",
   "execution_count": 11,
   "metadata": {
    "collapsed": false
   },
   "outputs": [],
   "source": [
    "#Expected\n",
    "Mnu=k*( np.dot( np.dot(O,mlep),f.transpose() )+np.dot( np.dot(f,mlep),O.transpose()) )\n",
    "Mnu_diag,U=np.linalg.eig(Mnu)\n",
    "lo=np.argsort(np.abs(Mnu_diag))\n",
    "Mnu_diag=np.array([Mnu_diag[lo[0]],Mnu_diag[lo[1]],Mnu_diag[lo[2]]])\n",
    "U=np.matrix(U)\n",
    "U=np.asarray(np.hstack((U[:,lo[0]],U[:,lo[1]],U[:,lo[2]])))\n",
    "\n",
    "#Obtained\n",
    "Unew=np.zeros((3,3))\n",
    "for i in range(3):\n",
    "    for j in range(3):\n",
    "        Unew[i,j]=a.LHA_out.blocks['UVMIX'].entries[i+1,j+1]\n",
    "Mnu_diag_new=np.array([a.LHA_out.blocks['MASS'].entries[12],a.LHA_out.blocks['MASS'].entries[14],\\\n",
    "                      a.LHA_out.blocks['MASS'].entries[16]  ])"
   ]
  },
  {
   "cell_type": "code",
   "execution_count": 12,
   "metadata": {
    "collapsed": false
   },
   "outputs": [],
   "source": [
    "np.testing.assert_array_almost_equal(np.abs(U.transpose()),np.abs(Unew),decimal=3)\n",
    "np.testing.assert_array_almost_equal( np.array([Mho,MHo,MAo,M1,M2,s2phi]),\\\n",
    "    np.array([ a.LHA_out.blocks['MASS'].entries[25],\\\n",
    "    a.LHA_out.blocks['MASS'].entries[35],\\\n",
    "    a.LHA_out.blocks['MASS'].entries[36],\\\n",
    "    a.LHA_out.blocks['MASS'].entries[37],\\\n",
    "    a.LHA_out.blocks['MASS'].entries[900037],\\\n",
    "    np.sin(2*np.arcsin(a.LHA_out.blocks['CHARGEMIX'].entries[2,3])) ] ),decimal=4  )\n",
    "np.testing.assert_array_almost_equal(np.abs( Mnu_diag*1E10 ),np.abs( Mnu_diag_new*1E10 ),decimal=1)"
   ]
  },
  {
   "cell_type": "markdown",
   "metadata": {},
   "source": [
    "# Scan\n",
    "0) Check procedure with standard scalar solution\n",
    "\n",
    "1) Generate scalar spectrum with STU, stability and perturbativity\n",
    "\n",
    "2) Load neutrino solutions for fixed scalar spectrum: O,f,kappa\n",
    "\n",
    "3) Run SPheno for each scalar spectrum with reescaled neutrinino solutions: O',f',kappa' and check for LFV and     \n",
    "\n",
    "4) Data-minning"
   ]
  },
  {
   "cell_type": "code",
   "execution_count": null,
   "metadata": {
    "collapsed": true
   },
   "outputs": [],
   "source": [
    "a=hep(MODEL='radinuZeeHB')"
   ]
  },
  {
   "cell_type": "code",
   "execution_count": null,
   "metadata": {
    "collapsed": false
   },
   "outputs": [],
   "source": [
    "#import re\n",
    "#import ast\n",
    "#OO=re.sub(r'([0-9])\\s+([\\-0-9])',r'\\1,\\2',df.loc[0].Q.replace('\\n','')).replace('] [','],[')\n",
    "#ast.literal_eval( OO )#,json.load(OO)"
   ]
  },
  {
   "cell_type": "markdown",
   "metadata": {},
   "source": [
    "## O) Define benchmark neutrino mass global factor: $\\kappa$"
   ]
  },
  {
   "cell_type": "markdown",
   "metadata": {},
   "source": [
    "The input data for scalar sector can be changed and the O's and f's are properly reescaled"
   ]
  },
  {
   "cell_type": "code",
   "execution_count": 10,
   "metadata": {
    "collapsed": true
   },
   "outputs": [],
   "source": [
    "df=pd.read_excel('zee.xlsx')\n",
    "for i in range(1,4):\n",
    "    for j in range(1,4):\n",
    "        df=df.rename_axis({'(%d, %d)' %(i,j):(i,j)},axis='columns')\n",
    "        \n",
    "df['f11']=0;df['f22']=0;df['f33']=0\n",
    "df['f21']=-df['f12'];df['f31']=-df['f13'];df['f32']=-df['f23'];"
   ]
  },
  {
   "cell_type": "code",
   "execution_count": 16,
   "metadata": {
    "collapsed": false
   },
   "outputs": [
    {
     "data": {
      "text/plain": [
       "(23584, 27)"
      ]
     },
     "execution_count": 16,
     "metadata": {},
     "output_type": "execute_result"
    }
   ],
   "source": [
    "df.shape"
   ]
  },
  {
   "cell_type": "code",
   "execution_count": 13,
   "metadata": {
    "collapsed": false
   },
   "outputs": [],
   "source": [
    "lam=np.zeros(11)\n",
    "lam[2] = 1.3000000E-01    # lambda2Input\n",
    "lam[3] =1E-1\n",
    "lam[7] = 0.000000E+00     # lambda7Input\n",
    "lam[8] =1E-1\n",
    "lam[9] = 0.000000E+00     # lambda9Input\n",
    "lam[10] = 0.000000E+00    # lambda10Input  \n",
    "m_e=0.5109989461e-3;m_mu=0.1056583745;m_tau=1.77686\n",
    "mlep=np.diag([m_e,m_mu,m_tau])     "
   ]
  },
  {
   "cell_type": "markdown",
   "metadata": {},
   "source": [
    "## 2)  Scan on scalar sector parameter space\n",
    "new values for scalar parameters will be reescaled with repect to `kini`.\n",
    "\n",
    "### 2.a) Decoupling condition in $\\beta-\\alpha$\n",
    "\n",
    "The decoupling limit happens when\n",
    "\\begin{equation}\n",
    "\\sin(\\beta-\\alpha)=1,\\quad,\\text{or}\\quad \\beta-\\alpha=\\pi/2\n",
    "\\end{equation}\n",
    "\n",
    "In this way\n",
    "\\begin{equation}\n",
    "\\sin(2(\\beta-\\alpha))=0\n",
    "\\end{equation}\n",
    "\n",
    "To obtain numerically the righ decoupling angle we must use the identity\n",
    "\\begin{equation}\n",
    "\\sin(2(\\beta-\\alpha))=\\sin(\\pi-2(\\beta-\\alpha))\\,,\n",
    "\\end{equation}\n",
    "And then \n",
    "\\begin{equation}\n",
    "\\beta-\\alpha\\to (\\pi-2(\\beta-\\alpha))/2\n",
    "\\end{equation}\n",
    "or\n",
    "\\begin{equation}\n",
    "\\beta-\\alpha\\to \\frac{\\pi-\\sin^{-1}(2(\\beta-\\alpha))}{2}\n",
    "\\end{equation}\n",
    "\n",
    "This is illustruted below to obtain $\\lambda_6$ according to eq. (2.14) of arxiv:1701.05345"
   ]
  },
  {
   "cell_type": "code",
   "execution_count": 14,
   "metadata": {
    "collapsed": false
   },
   "outputs": [
    {
     "name": "stdout",
     "output_type": "stream",
     "text": [
      "1.57079632679 1.56849993355 0.00459277035113\n",
      "lam6 = -0.001\n"
     ]
    }
   ],
   "source": [
    "v=a.vev\n",
    "s2ba=0.0045927703511266082\n",
    "Mho = 125.0\n",
    "MHo = 205.0\n",
    "thba=(np.pi-np.arcsin(s2ba))/2\n",
    "print np.pi/2,thba,np.sin(2*thba)\n",
    "print 'lam6 =',-(MHo**2-Mho**2)*np.sin(2.*thba)/(2.*v**2)"
   ]
  },
  {
   "cell_type": "code",
   "execution_count": 251,
   "metadata": {
    "collapsed": false
   },
   "outputs": [],
   "source": [
    "def theta_beta_alpha_range( thbamin=np.arcsin(0.96),thbamax=np.pi/2,ntab=1000,\\\n",
    "                          exps=[1E-5,0.8,0.999,1]):\n",
    "    thba=np.concatenate((\\\n",
    "      ( thbamin+(thbamax - thbamin)*( np.exp( np.random.uniform( np.log( exps[2] ), np.log( exps[3]  ) ,int(ntab/2. ) ) ) ) ),\\\n",
    "      ( thbamin+(thbamax - thbamin)*( np.exp( np.random.uniform( np.log( exps[1] ), np.log( exps[2]  ) ,int(ntab/2. ) ) ) ) ) ) ) \n",
    "    thba=np.concatenate(( thba,\\\n",
    "      ( thbamin+(thbamax - thbamin)*( np.exp( np.random.uniform( np.log( exps[0]  ), np.log( exps[1] ) ,int(ntab/3.)) ) ) )        ))\n",
    "    return thba\n",
    "\n",
    "def check_theta_beta_alpha_range():\n",
    "    thba=theta_beta_alpha_range()\n",
    "    print np.sin( thba ).min(),np.sin( thba ).max()\n",
    "    lam6abs=(MHo**2-Mho**2)*np.sin(2.*thba)/(2.*v**2)\n",
    "    print lam6abs.min(),lam6abs.max()\n",
    "    kk=np.sort(lam6abs)\n",
    "    for n in [0,1,2,3,4,5,6,7]:\n",
    "        print -n,-n-1,kk[np.logical_and(kk>10**(-n-1),kk<10**(-n)  )].shape"
   ]
  },
  {
   "cell_type": "markdown",
   "metadata": {},
   "source": [
    "### 2.b) Scalar loop"
   ]
  },
  {
   "cell_type": "code",
   "execution_count": 498,
   "metadata": {
    "collapsed": false
   },
   "outputs": [
    {
     "name": "stdout",
     "output_type": "stream",
     "text": [
      "10268.8094139\n"
     ]
    }
   ],
   "source": [
    "if 1==1:\n",
    "    #=========\n",
    "    #TODO: replace with kappa\n",
    "    '''\n",
    "    n=0 \n",
    "    v = a.vev\n",
    "    s2phi = df.loc[n].s2phi\n",
    "    s2ba=0.0045927703511266082 # Does no matter\n",
    "    M1 = df.loc[n].M1\n",
    "    M2 = df.loc[n].M2\n",
    "    MAo = df.loc[n].M2+10 # Does no matter\n",
    "    Mho = 125.0 # Does no matter\n",
    "    MHo = df.loc[n].M2+5 # Does no matter\n",
    "    m1=df.loc[n].m1 # only required for test porpuses\n",
    "\n",
    "    spc=scan(df,SSP=False)\n",
    "    kini=spc.loc[0].k #only depends on s2phi,M1 and M2\n",
    "    print 'kini',kini    \n",
    "    '''\n",
    "    #==================\n",
    "    #NOW we can rescale the solution for other values of kini\n",
    "    start=time.time()\n",
    "    \n",
    "    ss=spc.loc[spc.shape[0]-1]\n",
    "    #TODO loop in n\n",
    "    \n",
    "    lammax=np.sqrt(4.*np.pi)\n",
    "    lam3min=1E-3\n",
    "    lam2min=1E-3\n",
    "    lam8min=1E-3\n",
    "    SM={'alpha_em': 1./128.,'vev': ss.v, 'MW': ss.VWp, 'MZ': ss.VZ}\n",
    "\n",
    "    #First loop in masses\n",
    "    n_stuchk=300000\n",
    "    n_stb_prtb=1000 # check stability and perturbativity\n",
    "    scl=pd.DataFrame()\n",
    "    M1min=70.; Mscmax=2000.;MAomin=30.\n",
    "    s2phimin=1E-4; s2phimax=0.5\n",
    "    for stuchk in range(n_stuchk):\n",
    "        sc=pd.Series()\n",
    "        sc['M1'] = np.exp( np.random.uniform(np.log(M1min),np.log(Mscmax)  ) )\n",
    "        sc['M2'] = np.exp( np.random.uniform(np.log(sc.M1+sc.M1*0.1),np.log(Mscmax)  ) )\n",
    "        sc['Mho'] = 125.0\n",
    "        sc['MAo'] = np.exp( np.random.uniform(np.log(MAomin),np.log(Mscmax)  ) )\n",
    "        sc['MHo'] = np.exp( np.random.uniform(np.log(sc.Mho+sc.Mho*0.1),np.log(Mscmax)  ) )\n",
    "        #large splitting\n",
    "        if np.abs(sc.MHo-sc.M1)>200 and np.abs(scl.MAo-scl.MHo)>200:\n",
    "            sc['MAo']=sc.M1+np.random.choice([1,-1])*np.random.uniform(0,100)\n",
    "        if np.abs(sc.MAo-sc.M1)>200 and np.abs(scl.MAo-scl.MHo)>200:\n",
    "            sc['MAo']=sc.M1+np.random.choice([1,-1])*np.random.uniform(0,100)            \n",
    "        sc['s2phi']=s2phi\n",
    "        sc['v']=v\n",
    "        #TODO: improve the alghorithm for high splitings, by searching just around\n",
    "\n",
    "        STU=True\n",
    "        dp={'MHX': sc.MHo, 'MH3':sc.MAo, 'MHC':sc.M1, 'Mh':sc.Mho}\n",
    "        cps=stu.S(dp,SM)\n",
    "        if cps.fcl3>cps.cl:\n",
    "            STU=False\n",
    "        else:\n",
    "            sc['stu_cl']=cps.fcl3\n",
    "\n",
    "        if not STU:\n",
    "            continue \n",
    "        \n",
    "        for stb_prtb in range(n_stb_prtb):\n",
    "            thba=np.random.choice(theta_beta_alpha_range())\n",
    "            sc['s2ba']=np.sin(2.*thba)\n",
    "            lam[2] = np.exp(np.random.uniform(np.log(lam2min),np.log(lammax)  ) ) #1.3000000E-01  # > 0\n",
    "            #lam3min=-np.sqrt(0.257753*lam[2])\n",
    "            lam[3] = np.exp(np.random.uniform(np.log(lam3min),np.log(lammax)  ) )# 3 #np.exp(np.random.random( np.log(lam3min),np.log(lammax)   )) #change to satisfy stability. Positive values\n",
    "            lam[7] = 0.    # lambda7Input\n",
    "            lam[8] = np.exp(np.random.uniform(np.log(lam8min),np.log(lammax)  ) )\n",
    "            lam[9] = 0. \n",
    "            lam[10] = 0.\n",
    "            sc['lamh']=0\n",
    "            if lam[2]<0 or lamh<0:\n",
    "                sys.error('Stability: lam[2] and lambdah cannot be negative!')\n",
    "                \n",
    "            #Stability and perturbativity\n",
    "\n",
    "            sc['kp'],sc['Mu'],sc['Muh2'],sc['Mu22'],lam[1],lam[4],lam[5],lam[6] =\\\n",
    "                                func(sc.s2phi,sc.s2ba,sc.M1,sc.M2,sc.MAo,sc.Mho,sc.MHo,sc.v,\\\n",
    "                                        lam[2],lam[3],lam[7],lam[8],lam[9],lam[10],sc.lamh)\n",
    "\n",
    "\n",
    "            if lam[3]<-np.sqrt(lam[1]*lam[2] ):\n",
    "                sys.error('Stability: lam[2] and lambdah cannot be negative!')\n",
    "\n",
    "\n",
    "            perturbativity=True\n",
    "            if True in np.unique(np.abs(lam)>lammax):\n",
    "                perturbativity=False\n",
    "\n",
    "            stability=True        \n",
    "            if lam[3]+lam[4]-np.abs(lam[5])>-np.sqrt(lam[1]*lam[2]) and \\\n",
    "                2.*np.abs(lam[6]+lam[7])<(lam[1]+lam[2])/2.+lam[3]+lam[4]+lam[5]:\n",
    "                stability=True\n",
    "            else:\n",
    "                stability=False\n",
    "\n",
    "\n",
    "\n",
    "            #print stb_prtb,perturbativity,stability\n",
    "            #print \"=\"*10\n",
    "            #print sc\n",
    "            #print \"=\"*10\n",
    "            if perturbativity and stability:\n",
    "                break\n",
    "\n",
    "        if stb_prtb<n_stb_prtb-1:\n",
    "            for i in range(1,11):\n",
    "                sc['lam%d' %i]=lam[i]\n",
    "            \n",
    "            scl=scl.append(sc,ignore_index=True)\n",
    "\n",
    "    print time.time()-start\n",
    "        \n",
    "        #spc is a full data frame \n",
    "        #Change to spc append \n",
    "        #TODO: check perturbativity and LFV and then append to total_spc\n",
    "        #if not OK:\n",
    "            #   continue    "
   ]
  },
  {
   "cell_type": "code",
   "execution_count": 501,
   "metadata": {
    "collapsed": false
   },
   "outputs": [
    {
     "data": {
      "text/plain": [
       "(3769, 24)"
      ]
     },
     "execution_count": 501,
     "metadata": {},
     "output_type": "execute_result"
    }
   ],
   "source": [
    "scl.shape"
   ]
  },
  {
   "cell_type": "code",
   "execution_count": null,
   "metadata": {
    "collapsed": true
   },
   "outputs": [],
   "source": [
    "scl.isnull().values.any"
   ]
  },
  {
   "cell_type": "code",
   "execution_count": 499,
   "metadata": {
    "collapsed": true
   },
   "outputs": [],
   "source": [
    "scl.to_excel('scl.xlsx',index=False)"
   ]
  },
  {
   "cell_type": "code",
   "execution_count": 512,
   "metadata": {
    "collapsed": false
   },
   "outputs": [
    {
     "data": {
      "text/plain": [
       "<matplotlib.colorbar.Colorbar at 0x7f3342f05950>"
      ]
     },
     "execution_count": 512,
     "metadata": {},
     "output_type": "execute_result"
    },
    {
     "data": {
      "image/png": "[encoded data removed]",
      "text/plain": [
       "<matplotlib.figure.Figure at 0x7f3342c09810>"
      ]
     },
     "metadata": {},
     "output_type": "display_data"
    }
   ],
   "source": [
    "plt.hexbin(np.abs(scl.M1-scl.MHo),np.abs(scl.MAo-scl.MHo),scl.stu_cl)\n",
    "plt.colorbar()"
   ]
  },
  {
   "cell_type": "code",
   "execution_count": 515,
   "metadata": {
    "collapsed": false
   },
   "outputs": [
    {
     "data": {
      "text/plain": [
       "<matplotlib.colorbar.Colorbar at 0x7f3344d09210>"
      ]
     },
     "execution_count": 515,
     "metadata": {},
     "output_type": "execute_result"
    },
    {
     "data": {
      "image/png": "[encoded data removed]",
      "text/plain": [
       "<matplotlib.figure.Figure at 0x7f33441dc190>"
      ]
     },
     "metadata": {},
     "output_type": "display_data"
    }
   ],
   "source": [
    "plt.hexbin(np.abs(scl.M1-scl.MHo),np.abs(scl.MAo-scl.MHo),np.abs(scl.MAo-scl.M1))\n",
    "plt.colorbar()"
   ]
  },
  {
   "cell_type": "code",
   "execution_count": 517,
   "metadata": {
    "collapsed": false
   },
   "outputs": [
    {
     "data": {
      "text/plain": [
       "<matplotlib.colorbar.Colorbar at 0x7f3344a1dd90>"
      ]
     },
     "execution_count": 517,
     "metadata": {},
     "output_type": "execute_result"
    },
    {
     "data": {
      "image/png": "[encoded data removed]",
      "text/plain": [
       "<matplotlib.figure.Figure at 0x7f3344b2e910>"
      ]
     },
     "metadata": {},
     "output_type": "display_data"
    }
   ],
   "source": [
    "plt.hexbin(np.abs(scl.MAo-scl.MHo),np.abs(scl.MAo-scl.M1),np.abs(scl.MHo-scl.M1))\n",
    "plt.colorbar()"
   ]
  },
  {
   "cell_type": "code",
   "execution_count": 518,
   "metadata": {
    "collapsed": false
   },
   "outputs": [
    {
     "data": {
      "text/plain": [
       "<matplotlib.colorbar.Colorbar at 0x7f3344916ed0>"
      ]
     },
     "execution_count": 518,
     "metadata": {},
     "output_type": "execute_result"
    },
    {
     "data": {
      "image/png": "[encoded data removed]",
      "text/plain": [
       "<matplotlib.figure.Figure at 0x7f33449d0090>"
      ]
     },
     "metadata": {},
     "output_type": "display_data"
    }
   ],
   "source": [
    "plt.hexbin(np.abs(scl.M1-scl.MHo),np.abs(scl.M1-scl.MAo),np.abs(scl.MAo-scl.MHo))\n",
    "plt.colorbar()"
   ]
  },
  {
   "cell_type": "markdown",
   "metadata": {},
   "source": [
    "In ths figure: When the splitting between the charged and the scalar (psedoscalar) is big, the splitting between charged and pseudoscalar (scalar) needs to be small, specially when the splitting between scalar and speudoscalar is big. \n",
    "And conversely, when "
   ]
  },
  {
   "cell_type": "code",
   "execution_count": 510,
   "metadata": {
    "collapsed": false
   },
   "outputs": [
    {
     "data": {
      "text/plain": [
       "<matplotlib.colorbar.Colorbar at 0x7f3342b3fa50>"
      ]
     },
     "execution_count": 510,
     "metadata": {},
     "output_type": "execute_result"
    },
    {
     "data": {
      "image/png": "[encoded data removed]",
      "text/plain": [
       "<matplotlib.figure.Figure at 0x7f3342d6e510>"
      ]
     },
     "metadata": {},
     "output_type": "display_data"
    }
   ],
   "source": [
    "plt.hexbin(scl.MHo,scl.MAo,np.abs(scl.MHo-scl.MAo))\n",
    "plt.colorbar()"
   ]
  },
  {
   "cell_type": "code",
   "execution_count": 514,
   "metadata": {
    "collapsed": false
   },
   "outputs": [
    {
     "data": {
      "text/plain": [
       "<matplotlib.colorbar.Colorbar at 0x7f3344bfac50>"
      ]
     },
     "execution_count": 514,
     "metadata": {},
     "output_type": "execute_result"
    },
    {
     "data": {
      "image/png": "[encoded data removed]",
      "text/plain": [
       "<matplotlib.figure.Figure at 0x7f33442b1fd0>"
      ]
     },
     "metadata": {},
     "output_type": "display_data"
    }
   ],
   "source": [
    "plt.hexbin(scl.MHo,scl.M1,np.abs(scl.MHo-scl.M1))\n",
    "plt.colorbar()"
   ]
  },
  {
   "cell_type": "code",
   "execution_count": 460,
   "metadata": {
    "collapsed": false
   },
   "outputs": [
    {
     "data": {
      "text/plain": [
       "M1          400.000000\n",
       "M2          500.000000\n",
       "Mho         125.000000\n",
       "MAo         410.000000\n",
       "MHo         405.000000\n",
       "s2phi         0.014000\n",
       "v           246.220569\n",
       "s2ba          0.000450\n",
       "lamh          0.000000\n",
       "kp            0.000040\n",
       "Mu            3.618522\n",
       "Muh2     146319.436382\n",
       "Mu22     156872.831508\n",
       "lam1          0.257747\n",
       "lam2          0.050153\n",
       "lam3          3.072113\n",
       "lam4         -2.768959\n",
       "lam5         -0.067230\n",
       "lam6         -0.005621\n",
       "lam7          0.000000\n",
       "lam8          0.451466\n",
       "lam9          0.000000\n",
       "lam10         0.000000\n",
       "dtype: float64"
      ]
     },
     "execution_count": 460,
     "metadata": {},
     "output_type": "execute_result"
    }
   ],
   "source": [
    "sc"
   ]
  },
  {
   "cell_type": "code",
   "execution_count": 461,
   "metadata": {
    "collapsed": false
   },
   "outputs": [
    {
     "data": {
      "text/html": [
       "<div>\n",
       "<table border=\"1\" class=\"dataframe\">\n",
       "  <thead>\n",
       "    <tr style=\"text-align: right;\">\n",
       "      <th></th>\n",
       "      <th>M1</th>\n",
       "      <th>M2</th>\n",
       "      <th>MAo</th>\n",
       "      <th>MHo</th>\n",
       "      <th>Mho</th>\n",
       "      <th>Mu</th>\n",
       "      <th>Mu22</th>\n",
       "      <th>Muh2</th>\n",
       "      <th>kp</th>\n",
       "      <th>lam1</th>\n",
       "      <th>...</th>\n",
       "      <th>lam4</th>\n",
       "      <th>lam5</th>\n",
       "      <th>lam6</th>\n",
       "      <th>lam7</th>\n",
       "      <th>lam8</th>\n",
       "      <th>lam9</th>\n",
       "      <th>lamh</th>\n",
       "      <th>s2ba</th>\n",
       "      <th>s2phi</th>\n",
       "      <th>v</th>\n",
       "    </tr>\n",
       "  </thead>\n",
       "  <tbody>\n",
       "    <tr>\n",
       "      <th>0</th>\n",
       "      <td>400.0</td>\n",
       "      <td>500.0</td>\n",
       "      <td>410.0</td>\n",
       "      <td>405.0</td>\n",
       "      <td>125.0</td>\n",
       "      <td>3.618522</td>\n",
       "      <td>156872.831508</td>\n",
       "      <td>146319.436382</td>\n",
       "      <td>0.00004</td>\n",
       "      <td>0.257747</td>\n",
       "      <td>...</td>\n",
       "      <td>-2.768959</td>\n",
       "      <td>-0.06723</td>\n",
       "      <td>-0.005621</td>\n",
       "      <td>0.0</td>\n",
       "      <td>0.451466</td>\n",
       "      <td>0.0</td>\n",
       "      <td>0.0</td>\n",
       "      <td>0.00045</td>\n",
       "      <td>0.014</td>\n",
       "      <td>246.220569</td>\n",
       "    </tr>\n",
       "  </tbody>\n",
       "</table>\n",
       "<p>1 rows × 23 columns</p>\n",
       "</div>"
      ],
      "text/plain": [
       "      M1     M2    MAo    MHo    Mho        Mu           Mu22           Muh2  \\\n",
       "0  400.0  500.0  410.0  405.0  125.0  3.618522  156872.831508  146319.436382   \n",
       "\n",
       "        kp      lam1     ...          lam4     lam5      lam6  lam7      lam8  \\\n",
       "0  0.00004  0.257747     ...     -2.768959 -0.06723 -0.005621   0.0  0.451466   \n",
       "\n",
       "   lam9  lamh     s2ba  s2phi           v  \n",
       "0   0.0   0.0  0.00045  0.014  246.220569  \n",
       "\n",
       "[1 rows x 23 columns]"
      ]
     },
     "execution_count": 461,
     "metadata": {},
     "output_type": "execute_result"
    }
   ],
   "source": [
    "scl"
   ]
  },
  {
   "cell_type": "markdown",
   "metadata": {},
   "source": [
    "### Main loop\n",
    "df includes all the solutions for a fixed scalar spectrum with $\\kappa=$ `kini`, which\n",
    "depens only in s2phi, M1 and M2.\n",
    "\n",
    "For each scalar spectrun after checking for STU, stability and perturbativity\n",
    "a DataFrame spc with  `npoints` is created.\n",
    "\n",
    "TODO: check LFV and O,f perturabativity in the created spc dataframe and append to total_spc"
   ]
  },
  {
   "cell_type": "markdown",
   "metadata": {},
   "source": [
    "Initialize $\\kappa$"
   ]
  },
  {
   "cell_type": "code",
   "execution_count": 15,
   "metadata": {
    "collapsed": true
   },
   "outputs": [],
   "source": [
    "def scan(df,lam=lam,npoints=1,kini=0.00016246940764948838,\\\n",
    "         s2phi=1.4E-02,s2ba=0.0045927703511266082,M1 = 200.0,M2 = 500.0,\\\n",
    "         Mho = 125.0,MHo = 205.0,MAo = 210.0,\\\n",
    "         m1=1E-14,lamh = 0.,mlep=mlep,SSP=True,lfvmax=df.shape[0],br_muegamma=4.2E-13):   \n",
    "    import time\n",
    "    a=hep(MODEL='radinuZeeHB')\n",
    "    start=time.time()\n",
    "    spc=pd.DataFrame()\n",
    "    lfv=0\n",
    "    for n in range(npoints):\n",
    "        v = a.vev\n",
    "        \n",
    "        kp,Mu,Muh2,Mu22,lam[1],lam[4],lam[5],lam[6] = func(s2phi,s2ba,M1,M2,MAo,Mho,MHo,v,\\\n",
    "                                    lam[2],lam[3],lam[7],lam[8],lam[9],lam[10],lamh)\n",
    "\n",
    "        devnull=commands.getoutput('rm -f SPheno.spc.%s' %a.MODEL)\n",
    "\n",
    "        a.LHA.blocks['SPHENOINPUT'].entries[55]='0               # Calculate one loop masses'\n",
    "        for i in range(1,11):\n",
    "            a.LHA.blocks['MINPAR'][i]= '%0.8E       #lambda%dInput ' %(lam[i],i)\n",
    "\n",
    "        a.LHA.blocks['MINPAR'][11]='%0.8E       #lambdahInput' %lamh\n",
    "        a.LHA.blocks['MINPAR'][12]='%0.8E       #Mh2Input' %Muh2\n",
    "        a.LHA.blocks['MINPAR'][13]='%0.8E       #MuInput' %Mu\n",
    "        a.LHA.blocks['MINPAR'][14]='%0.8E       #mEt2Input' %Mu22\n",
    "        for i in range(1,4):\n",
    "            for j in range(1,4):\n",
    "                #check perturvativity\n",
    "                a.LHA.blocks['YHIN'][i,j]='%0.8E      # f(%d,%d)'    %( np.sqrt(kini/kp)*df.loc[n]['f%d%d' %(i,j)],i,j )\n",
    "                a.LHA.blocks['EPSEIN'][i,j]='%0.8E      # O(%d,%d)'    %( np.sqrt(kini/kp)*df.loc[n][i,j],i,j) \n",
    "\n",
    "        slha=a.runSPheno(SSP=False)\n",
    "\n",
    "        kk=a.branchings(a.LHA_out.decays,min_pdg=15)\n",
    "        outs=pd.Series({'k':kp,'MODEL':a.MODEL})\n",
    "        for key in ['MINPAR','YHIN','EPSEIN']:\n",
    "            outs=outs.append( block_to_series(a.LHA.blocks[key]) )\n",
    "\n",
    "        for key in ['MASS','CHARGEMIX','SCALARMIX','UVMIX','HMIX']:\n",
    "            outs=outs.append( block_to_series(a.LHA_out_with_comments.blocks[key]) )\n",
    "\n",
    "        outs=outs.append(block_to_series(a.LHA_out_with_comments.blocks['FLAVORKITLFV'],simplify_key=False))\n",
    "        outs=outs.append(block_to_series(a.LHA_out_with_comments.blocks['FLAVORKITQFV'],simplify_key=False))\n",
    "        outs=outs.append(a.Br_names)\n",
    "        outs=outs.append(pd.Series(a.LHA_out_with_comments.blocks['FWCOEF'].entries))\n",
    "        \n",
    "        #'BR(mu->egamma)':4.2E-13\n",
    "        if outs['BR(mu->egamma)']<br_muegamma:\n",
    "            lfv=lfv+1\n",
    "            #print 'n,lfv',n,lfv\n",
    "            hp._append_ssp('SPheno.spc.%s' %a.MODEL,'SPheno.ssp.%s' %a.MODEL)\n",
    "            spc=spc.append(outs,ignore_index=True) \n",
    "            if lfv>lfvmax:\n",
    "                break\n",
    "\n",
    "    print(time.time()-start,n,lfv)\n",
    "    return spc"
   ]
  },
  {
   "cell_type": "code",
   "execution_count": 16,
   "metadata": {
    "collapsed": true
   },
   "outputs": [],
   "source": [
    "rm SPheno.ssp.radinuZeeHB"
   ]
  },
  {
   "cell_type": "code",
   "execution_count": 19,
   "metadata": {
    "collapsed": false
   },
   "outputs": [],
   "source": [
    "scl=pd.read_excel('scl.xlsx')"
   ]
  },
  {
   "cell_type": "code",
   "execution_count": null,
   "metadata": {
    "collapsed": false
   },
   "outputs": [
    {
     "name": "stdout",
     "output_type": "stream",
     "text": [
      "(10155.911359071732, 4572, 11)\n",
      "(413.8233690261841, 222, 11)\n",
      "(43920.60926795006, 23583, 2)\n",
      "(43890.77419400215, 23583, 5)\n",
      "(43654.36074590683, 23583, 3)\n",
      "(44073.6336081028, 23583, 10)\n",
      "(43664.684883117676, 23583, 0)\n",
      "(5555.699754953384, 2930, 11)\n"
     ]
    }
   ],
   "source": [
    "kini=Kappa(df.loc[0].s2phi,df.loc[0].M1,df.loc[0].M2)\n",
    "sclr=scl.sample(frac=1).reset_index(drop=True) # to run in parallel\n",
    "spc_full=pd.DataFrame()\n",
    "for m in range(sclr.shape[0]):\n",
    "    sc=sclr.loc[m]\n",
    "    dfr=df.sample(frac=1).reset_index(drop=True)\n",
    "    npoints=dfr.shape[0]\n",
    "    spc=scan(dfr,npoints=npoints,kini=kini,s2phi=sc.s2phi,s2ba=sc.s2ba,M1=sc.M1,M2=sc.M2,Mho=sc.Mho,\\\n",
    "          MHo=sc.MHo,MAo=sc.MAo,lamh=sc.lamh,lfvmax=10)\n",
    "    if  spc.shape[0]:\n",
    "        spc_full=spc_full.append(spc,ignore_index=True)\n",
    "        spc.to_excel('zee_spc_full.xlsx',index=False)"
   ]
  },
  {
   "cell_type": "code",
   "execution_count": 8,
   "metadata": {
    "collapsed": true
   },
   "outputs": [],
   "source": [
    "RECOVER_SCAN=True"
   ]
  },
  {
   "cell_type": "code",
   "execution_count": 168,
   "metadata": {
    "collapsed": false
   },
   "outputs": [],
   "source": [
    "if RECOVER_SCAN:\n",
    "    spc=pd.read_excel('zee_spc_full.xlsx')"
   ]
  },
  {
   "cell_type": "code",
   "execution_count": 169,
   "metadata": {
    "collapsed": false
   },
   "outputs": [],
   "source": [
    "for i in range(1,60):\n",
    "    if os.path.isfile('w%d/zee_spc_full.xlsx' %i):\n",
    "        spc=spc.append(pd.read_excel('w%d/zee_spc_full.xlsx' %i))"
   ]
  },
  {
   "cell_type": "code",
   "execution_count": 170,
   "metadata": {
    "collapsed": true
   },
   "outputs": [],
   "source": [
    "spc=spc.fillna(0)"
   ]
  },
  {
   "cell_type": "code",
   "execution_count": 171,
   "metadata": {
    "collapsed": false
   },
   "outputs": [
    {
     "data": {
      "text/plain": [
       "(514, 427)"
      ]
     },
     "execution_count": 171,
     "metadata": {},
     "output_type": "execute_result"
    }
   ],
   "source": [
    "spc.shape"
   ]
  },
  {
   "cell_type": "code",
   "execution_count": 172,
   "metadata": {
    "collapsed": false
   },
   "outputs": [
    {
     "data": {
      "text/plain": [
       "(514, 427)"
      ]
     },
     "execution_count": 172,
     "metadata": {},
     "output_type": "execute_result"
    }
   ],
   "source": [
    "spc=spc.drop_duplicates().reset_index(drop=True)\n",
    "spc.shape"
   ]
  },
  {
   "cell_type": "markdown",
   "metadata": {},
   "source": [
    "Fix tuple keys"
   ]
  },
  {
   "cell_type": "code",
   "execution_count": 173,
   "metadata": {
    "collapsed": true
   },
   "outputs": [],
   "source": [
    "import re\n",
    "import ast\n",
    "for k in spc.keys().values:\n",
    "    if re.search('^\\(',k):\n",
    "        spc=spc.rename_axis({k:ast.literal_eval(k)},axis='columns')"
   ]
  },
  {
   "cell_type": "code",
   "execution_count": 15,
   "metadata": {
    "collapsed": true
   },
   "outputs": [],
   "source": [
    "#spc.to_excel('zee_spc_full.xlsx',index=False)"
   ]
  },
  {
   "cell_type": "markdown",
   "metadata": {},
   "source": [
    "## Test the last solution:\n",
    "Tested only for `npoints=1`"
   ]
  },
  {
   "cell_type": "code",
   "execution_count": 546,
   "metadata": {
    "collapsed": false
   },
   "outputs": [],
   "source": [
    "ls=spc.loc[spc.shape[0]-1]\n",
    "\n",
    "f=np.zeros((3,3));O=np.zeros((3,3))\n",
    "for i in range(3):\n",
    "    for j in range(3):\n",
    "        f[i,j]=ls['f%d%d' %(i+1,j+1)]\n",
    "        O[i,j]=ls['O%d%d' %(i+1,j+1)]\n",
    "        \n",
    "#Expected\n",
    "Mnu=ls.k*( np.dot( np.dot(O,mlep),f.transpose() )+np.dot( np.dot(f,mlep),O.transpose()) )\n",
    "Mnu_diag,U=np.linalg.eig(Mnu)\n",
    "lo=np.argsort(np.abs(Mnu_diag))\n",
    "Mnu_diag=np.array([Mnu_diag[lo[0]],Mnu_diag[lo[1]],Mnu_diag[lo[2]]])\n",
    "U=np.matrix(U)\n",
    "U=np.asarray(np.hstack((U[:,lo[0]],U[:,lo[1]],U[:,lo[2]])))\n",
    "\n",
    "#Obtained\n",
    "Unew=np.zeros((3,3))\n",
    "for i in range(3):\n",
    "    for j in range(3):\n",
    "        Unew[i,j]=ls['RealUV%d%ddp' %(i+1,j+1)]\n",
    "Mnu_diag_new=np.array([ls.Fv1,ls.Fv2,ls.Fv3  ])"
   ]
  },
  {
   "cell_type": "code",
   "execution_count": 547,
   "metadata": {
    "collapsed": false
   },
   "outputs": [],
   "source": [
    "np.testing.assert_array_almost_equal(np.abs(U.transpose()),np.abs(Unew),decimal=1)\n",
    "np.testing.assert_array_almost_equal( np.array([sc.Mho,sc.MHo,sc.MAo,sc.M1,sc.M2,sc.s2phi]),\\\n",
    "    np.array([ ls.hh1,ls.hh2,ls.etI,ls.Hm2,ls.Hm3,\\\n",
    "    np.sin(2*np.arcsin( ls.ZP23 ) ) ] ),decimal=4  )\n",
    "np.testing.assert_array_almost_equal(np.abs( Mnu_diag*1E10 ),np.abs( Mnu_diag_new*1E10 ),decimal=1)"
   ]
  },
  {
   "cell_type": "markdown",
   "metadata": {},
   "source": [
    "## LFV constraints\n",
    "Table 1 of  arXiv:1412.2545 and Table 5 of [arXiv:1701.05345](https://arxiv.org/pdf/1701.05345.pdf)"
   ]
  },
  {
   "cell_type": "code",
   "execution_count": 17,
   "metadata": {
    "collapsed": false
   },
   "outputs": [
    {
     "data": {
      "text/plain": [
       "BR(mu->3e)            1.000000e-12\n",
       "BR(mu->egamma)        4.200000e-13\n",
       "BR(tau-->e-mu+mu-)    2.700000e-08\n",
       "BR(tau-->mu-e+e-)     1.800000e-08\n",
       "BR(tau->3e)           2.700000e-08\n",
       "BR(tau->3mu)          2.100000e-08\n",
       "BR(tau->egamma)       3.300000e-08\n",
       "BR(tau->mugamma)      4.400000e-08\n",
       "CR(mu-e,Au)           7.000000e-13\n",
       "CR(mu-e,Ti)           4.300000e-12\n",
       "dtype: float64"
      ]
     },
     "execution_count": 17,
     "metadata": {},
     "output_type": "execute_result"
    }
   ],
   "source": [
    "lfv=pd.Series({'BR(mu->egamma)':4.2E-13,'BR(tau->egamma)':3.3E-8,'BR(tau->mugamma)':4.4E-8,\\\n",
    "           'BR(mu->3e)':1E-12,'BR(tau->3mu)':2.1E-8,'BR(tau-->e-mu+mu-)':2.7E-8,\\\n",
    "           'BR(tau-->mu-e+e-)':1.8E-8,'BR(tau->3e)':2.7E-8,'CR(mu-e,Ti)':4.3E-12,'CR(mu-e,Au)':7E-13})\n",
    "lfv"
   ]
  },
  {
   "cell_type": "markdown",
   "metadata": {},
   "source": [
    "### Apply constraints"
   ]
  },
  {
   "cell_type": "code",
   "execution_count": 163,
   "metadata": {
    "collapsed": true
   },
   "outputs": [],
   "source": [
    "spc=spc.fillna(0)"
   ]
  },
  {
   "cell_type": "code",
   "execution_count": 174,
   "metadata": {
    "collapsed": false
   },
   "outputs": [
    {
     "name": "stdout",
     "output_type": "stream",
     "text": [
      "Full : 514\n",
      "BR(mu->egamma) : 514\n",
      "BR(tau->3e) : 244\n",
      "BR(tau->3mu) : 123\n",
      "BR(mu->3e) : 49\n",
      "BR(tau-->mu-e+e-) : 44\n",
      "BR(tau->mugamma) : 44\n",
      "BR(tau-->e-mu+mu-) : 44\n",
      "BR(tau->egamma) : 44\n",
      "CR(mu-e,Au) : 42\n",
      "CR(mu-e,Ti) : 42\n"
     ]
    }
   ],
   "source": [
    "spclfv=spc\n",
    "print 'Full :',spc.shape[0]\n",
    "klfv=['BR(mu->egamma)','BR(tau->3e)','BR(tau->3mu)','BR(mu->3e)','BR(tau-->mu-e+e-)',\\\n",
    "      'BR(tau->mugamma)','BR(tau-->e-mu+mu-)','BR(tau->egamma)','CR(mu-e,Au)','CR(mu-e,Ti)']\n",
    "for k in klfv:\n",
    "    spclfv=spclfv[ spclfv[k]<lfv[k] ]\n",
    "    print k,':',spclfv.shape[0]"
   ]
  },
  {
   "cell_type": "markdown",
   "metadata": {},
   "source": [
    "## Reproducing hep-ph/0604012 results\n",
    "### Fig. 3"
   ]
  },
  {
   "cell_type": "code",
   "execution_count": 165,
   "metadata": {
    "collapsed": false
   },
   "outputs": [
    {
     "data": {
      "text/plain": [
       "[<matplotlib.lines.Line2D at 0x7f30ec4ee790>]"
      ]
     },
     "execution_count": 165,
     "metadata": {},
     "output_type": "execute_result"
    },
    {
     "data": {
      "image/png": "[encoded data removed]",
      "text/plain": [
       "<matplotlib.figure.Figure at 0x7f3103b33950>"
      ]
     },
     "metadata": {},
     "output_type": "display_data"
    }
   ],
   "source": [
    "d=2\n",
    "plt.loglog( (spc.f12**2+   spc.f32**2)/(   spc.f21**2   +spc.f31**2),\\\n",
    "           (spc['Hm_%d ->  MU+ NUE' %d] +spc['Hm_%d ->  MU+ NUM' %d] +spc['Hm_%d ->  MU+ NUT' %d])/\\\n",
    "           (spc['Hm_%d ->  E+ NUE' %d]+spc['Hm_%d ->  E+ NUM' %d]+spc['Hm_%d ->  E+ NUT' %d]),'ro')\n",
    "plt.loglog( (spclfv.f12**2+spclfv.f32**2)/(spclfv.f21**2+spclfv.f31**2),\\\n",
    "           (spclfv['Hm_%d ->  MU+ NUE' %d] +spclfv['Hm_%d ->  MU+ NUM' %d] +spclfv['Hm_%d ->  MU+ NUT' %d])/\\\n",
    "           (spclfv['Hm_%d ->  E+ NUE' %d]+spclfv['Hm_%d ->  E+ NUM' %d]+spclfv['Hm_%d ->  E+ NUT' %d]),'ko')"
   ]
  },
  {
   "cell_type": "code",
   "execution_count": 166,
   "metadata": {
    "collapsed": false
   },
   "outputs": [
    {
     "data": {
      "text/plain": [
       "[<matplotlib.lines.Line2D at 0x7f30ebae8510>]"
      ]
     },
     "execution_count": 166,
     "metadata": {},
     "output_type": "execute_result"
    },
    {
     "data": {
      "image/png": "[encoded data removed]",
      "text/plain": [
       "<matplotlib.figure.Figure at 0x7f30ebf5fe50>"
      ]
     },
     "metadata": {},
     "output_type": "display_data"
    }
   ],
   "source": [
    "d=3\n",
    "plt.loglog( (spc.O12**2+spc.O22**2+spc.O32**2)/(spc.O11**2+spc.O21**2+spc.O31**2),\\\n",
    "           (spc['Hm_%d ->  MU+ NUE' %d] +spc['Hm_%d ->  MU+ NUM' %d] +spc['Hm_%d ->  MU+ NUT' %d])/\\\n",
    "           (spc['Hm_%d ->  E+ NUE' %d]+spc['Hm_%d ->  E+ NUM' %d]+spc['Hm_%d ->  E+ NUT' %d]),'ro')\n",
    "plt.loglog( (spclfv.O12**2+spclfv.O22**2+spclfv.O32**2)/(spclfv.O11**2+spclfv.O21**2+spclfv.O31**2),\\\n",
    "           (spclfv['Hm_%d ->  MU+ NUE' %d] +spclfv['Hm_%d ->  MU+ NUM' %d] +spclfv['Hm_%d ->  MU+ NUT' %d])/\\\n",
    "           (spclfv['Hm_%d ->  E+ NUE' %d]+spclfv['Hm_%d ->  E+ NUM' %d]+spclfv['Hm_%d ->  E+ NUT' %d]),'ko')\n"
   ]
  },
  {
   "cell_type": "code",
   "execution_count": 45,
   "metadata": {
    "collapsed": false
   },
   "outputs": [
    {
     "data": {
      "text/plain": [
       "[<matplotlib.lines.Line2D at 0x7f5845259190>]"
      ]
     },
     "execution_count": 45,
     "metadata": {},
     "output_type": "execute_result"
    },
    {
     "data": {
      "image/png": "[encoded data removed]",
      "text/plain": [
       "<matplotlib.figure.Figure at 0x7f5845161cd0>"
      ]
     },
     "metadata": {},
     "output_type": "display_data"
    }
   ],
   "source": []
  },
  {
   "cell_type": "markdown",
   "metadata": {},
   "source": [
    "### Fig. 6"
   ]
  },
  {
   "cell_type": "code",
   "execution_count": 167,
   "metadata": {
    "collapsed": false
   },
   "outputs": [
    {
     "data": {
      "text/plain": [
       "(0.1, 20.0)"
      ]
     },
     "execution_count": 167,
     "metadata": {},
     "output_type": "execute_result"
    },
    {
     "data": {
      "image/png": "[encoded data removed]",
      "text/plain": [
       "<matplotlib.figure.Figure at 0x7f30ed2ca790>"
      ]
     },
     "metadata": {},
     "output_type": "display_data"
    }
   ],
   "source": [
    "plt.loglog(spc.O33.abs(),(spc['Hm_2 ->  MU+ NUE'] +spc['Hm_2 ->  MU+ NUM'] +spc['Hm_2 ->  MU+ NUT'])/\\\n",
    "(spc['Hm_2 ->  TAU+ NUE']+spc['Hm_2 ->  TAU+ NUM']+spc['Hm_2 ->  TAU+ NUT']),'ro')\n",
    "plt.loglog(spclfv.O33.abs(),(spclfv['Hm_2 ->  MU+ NUE'] +spclfv['Hm_2 ->  MU+ NUM'] +spclfv['Hm_2 ->  MU+ NUT'])/\\\n",
    "(spclfv['Hm_2 ->  TAU+ NUE']+spclfv['Hm_2 ->  TAU+ NUM']+spclfv['Hm_2 ->  TAU+ NUT']),'ko')\n",
    "plt.xlim(1E-15,1E-1)\n",
    "plt.ylim(1E-1,2E1)"
   ]
  },
  {
   "cell_type": "code",
   "execution_count": 46,
   "metadata": {
    "collapsed": false
   },
   "outputs": [
    {
     "data": {
      "text/plain": [
       "(0.1, 20.0)"
      ]
     },
     "execution_count": 46,
     "metadata": {},
     "output_type": "execute_result"
    },
    {
     "data": {
      "image/png": "[encoded data removed]",
      "text/plain": [
       "<matplotlib.figure.Figure at 0x7f5846f921d0>"
      ]
     },
     "metadata": {},
     "output_type": "display_data"
    }
   ],
   "source": []
  },
  {
   "cell_type": "code",
   "execution_count": 29,
   "metadata": {
    "collapsed": false
   },
   "outputs": [
    {
     "data": {
      "text/plain": [
       "0.00123190471"
      ]
     },
     "execution_count": 29,
     "metadata": {},
     "output_type": "execute_result"
    }
   ],
   "source": [
    "spc.O33.abs().max()"
   ]
  },
  {
   "cell_type": "code",
   "execution_count": 30,
   "metadata": {
    "collapsed": false
   },
   "outputs": [
    {
     "data": {
      "text/plain": [
       "9.5113850499999994e-09"
      ]
     },
     "execution_count": 30,
     "metadata": {},
     "output_type": "execute_result"
    }
   ],
   "source": [
    "spclfv.O33.abs().max()"
   ]
  },
  {
   "cell_type": "code",
   "execution_count": 35,
   "metadata": {
    "collapsed": false
   },
   "outputs": [
    {
     "data": {
      "text/plain": [
       "1.7410423405947257"
      ]
     },
     "execution_count": 35,
     "metadata": {},
     "output_type": "execute_result"
    }
   ],
   "source": [
    "ytau=0.01\n",
    "m_tau=ytau*a.vev/np.sqrt(2)\n",
    "m_tau"
   ]
  },
  {
   "cell_type": "code",
   "execution_count": 23,
   "metadata": {
    "collapsed": false
   },
   "outputs": [
    {
     "data": {
      "text/plain": [
       "0     1.77669\n",
       "1     1.77669\n",
       "2     1.77669\n",
       "3     1.77669\n",
       "4     1.77669\n",
       "5     1.77669\n",
       "6     1.77669\n",
       "7     1.77669\n",
       "8     1.77669\n",
       "9     1.77669\n",
       "10    1.77669\n",
       "11    1.77669\n",
       "12    1.77669\n",
       "13    1.77669\n",
       "14    1.77669\n",
       "15    1.77669\n",
       "16    1.77669\n",
       "17    1.77669\n",
       "18    1.77669\n",
       "19    1.77669\n",
       "20    1.77669\n",
       "21    1.77669\n",
       "22    1.77669\n",
       "23    1.77669\n",
       "24    1.77669\n",
       "25    1.77669\n",
       "26    1.77669\n",
       "27    1.77669\n",
       "28    1.77669\n",
       "29    1.77669\n",
       "       ...   \n",
       "3     1.77669\n",
       "4     1.77669\n",
       "5     1.77669\n",
       "6     1.77669\n",
       "7     1.77669\n",
       "8     1.77669\n",
       "9     1.77669\n",
       "10    1.77669\n",
       "0     1.77669\n",
       "1     1.77669\n",
       "2     1.77669\n",
       "3     1.77669\n",
       "4     1.77669\n",
       "5     1.77669\n",
       "6     1.77669\n",
       "7     1.77669\n",
       "8     1.77669\n",
       "9     1.77669\n",
       "10    1.77669\n",
       "0     1.77669\n",
       "1     1.77669\n",
       "2     1.77669\n",
       "3     1.77669\n",
       "4     1.77669\n",
       "5     1.77669\n",
       "6     1.77669\n",
       "7     1.77669\n",
       "8     1.77669\n",
       "9     1.77669\n",
       "10    1.77669\n",
       "Name: Fe3, dtype: float64"
      ]
     },
     "execution_count": 23,
     "metadata": {},
     "output_type": "execute_result"
    }
   ],
   "source": []
  },
  {
   "cell_type": "code",
   "execution_count": 31,
   "metadata": {
    "collapsed": false
   },
   "outputs": [
    {
     "data": {
      "text/plain": [
       "[<matplotlib.lines.Line2D at 0x7f3103f160d0>]"
      ]
     },
     "execution_count": 31,
     "metadata": {},
     "output_type": "execute_result"
    },
    {
     "data": {
      "image/png": "[encoded data removed]",
      "text/plain": [
       "<matplotlib.figure.Figure at 0x7f30edac5610>"
      ]
     },
     "metadata": {},
     "output_type": "display_data"
    }
   ],
   "source": [
    "spc['tanbE']=-spc.v*spc.O33/(sqrt(2.)*spc.Fe3)\n",
    "spc['tanbEn']=-spc.v*np.sqrt(spc.O33**2+spc.O13**2+spc.O23**2)/(sqrt(2.)*spc.Fe3)\n",
    "spc['tanbEN']=-spc.v*np.sqrt(spc.O33**2+spc.O31**2+spc.O32**2)/(sqrt(2.)*spc.Fe3)\n",
    "plt.loglog(spc.tanbE.abs(),spc.tanbEn.abs(),'ro')\n",
    "plt.loglog(spc.tanbE.abs(),spc.tanbEN.abs(),'bo')"
   ]
  },
  {
   "cell_type": "code",
   "execution_count": 50,
   "metadata": {
    "collapsed": false
   },
   "outputs": [
    {
     "data": {
      "text/html": [
       "<div>\n",
       "<table border=\"1\" class=\"dataframe\">\n",
       "  <thead>\n",
       "    <tr style=\"text-align: right;\">\n",
       "      <th></th>\n",
       "      <th>O11</th>\n",
       "      <th>O12</th>\n",
       "      <th>O13</th>\n",
       "      <th>O21</th>\n",
       "      <th>O22</th>\n",
       "      <th>O23</th>\n",
       "      <th>O31</th>\n",
       "      <th>O32</th>\n",
       "      <th>O33</th>\n",
       "    </tr>\n",
       "  </thead>\n",
       "  <tbody>\n",
       "    <tr>\n",
       "      <th>0</th>\n",
       "      <td>0.000138</td>\n",
       "      <td>6.029589e-10</td>\n",
       "      <td>4.421391e-09</td>\n",
       "      <td>0.000037</td>\n",
       "      <td>0.520021</td>\n",
       "      <td>0.013963</td>\n",
       "      <td>0.000155</td>\n",
       "      <td>8.292677e-15</td>\n",
       "      <td>1.583110e-14</td>\n",
       "    </tr>\n",
       "  </tbody>\n",
       "</table>\n",
       "</div>"
      ],
      "text/plain": [
       "        O11           O12           O13       O21       O22       O23  \\\n",
       "0  0.000138  6.029589e-10  4.421391e-09  0.000037  0.520021  0.013963   \n",
       "\n",
       "        O31           O32           O33  \n",
       "0  0.000155  8.292677e-15  1.583110e-14  "
      ]
     },
     "execution_count": 50,
     "metadata": {},
     "output_type": "execute_result"
    }
   ],
   "source": [
    "kk=spc[['O11','O12','O13','O21','O22','O23','O31','O32','O33']].abs()\n",
    "kk[:1]"
   ]
  },
  {
   "cell_type": "code",
   "execution_count": 56,
   "metadata": {
    "collapsed": false
   },
   "outputs": [
    {
     "data": {
      "text/plain": [
       "(205, 10)"
      ]
     },
     "execution_count": 56,
     "metadata": {},
     "output_type": "execute_result"
    }
   ],
   "source": [
    "kk.shape"
   ]
  },
  {
   "cell_type": "code",
   "execution_count": 61,
   "metadata": {
    "collapsed": false
   },
   "outputs": [
    {
     "data": {
      "text/plain": [
       "(0.00050825848273312478,\n",
       " 0.00065560856398799142,\n",
       " 0.10955370788998299,\n",
       " 1.0,\n",
       " 0.10688000370102725)"
      ]
     },
     "execution_count": 61,
     "metadata": {},
     "output_type": "execute_result"
    }
   ],
   "source": [
    "kk['Omax']=kk.apply(max,axis=1)\n",
    "(kk['O33']/kk['Omax']).max(),(kk['O13']/kk['Omax']).max(),(kk['O23']/kk['Omax']).max(),(kk['O31']/kk['Omax']).max(),(kk['O32']/kk['Omax']).max()"
   ]
  },
  {
   "cell_type": "code",
   "execution_count": 64,
   "metadata": {
    "collapsed": false
   },
   "outputs": [
    {
     "data": {
      "text/plain": [
       "(1.0, 1.077381414588915e-05)"
      ]
     },
     "execution_count": 64,
     "metadata": {},
     "output_type": "execute_result"
    }
   ],
   "source": [
    "(kk['O31']/kk['Omax']).max(),(kk['O31']/kk['Omax']).min()"
   ]
  },
  {
   "cell_type": "code",
   "execution_count": 149,
   "metadata": {
    "collapsed": false
   },
   "outputs": [
    {
     "name": "stdout",
     "output_type": "stream",
     "text": [
      "============================================================\n",
      "[[ -5.00190970e-02  -1.58496093e-05  -3.02226154e-06]\n",
      " [  1.08064764e-07  -4.25706379e-04   8.77759173e-06]\n",
      " [  3.41384337e-03  -1.94507989e-04   1.49398100e-09]]\n",
      "============================================================\n",
      "[[ -1.45888947e-03  -4.09457683e-05  -1.95250215e-12]\n",
      " [  4.36176649e-04   1.19778580e-03  -2.48574871e-05]\n",
      " [ -4.56694827e-03   4.88115448e-04   1.71026703e-08]]\n",
      "============================================================\n",
      "[[ -1.41367722e-02  -1.63560646e-04   1.46943358e-12]\n",
      " [ -1.35209631e-09  -5.78626340e-04   1.31318225e-05]\n",
      " [ -1.22846210e-01   5.93057387e-15  -9.51138505e-09]]\n",
      "============================================================\n",
      "[[ -6.71670379e-04   2.03957386e-06   2.21855201e-15]\n",
      " [ -3.66553205e-15  -2.59549104e-02   6.51992573e-04]\n",
      " [  2.86778999e-03  -3.04050840e-05  -8.15853233e-10]]\n",
      "============================================================\n",
      "[[ -8.80466174e-02  -2.78994337e-05  -5.31996620e-06]\n",
      " [  1.90222085e-07  -7.49353924e-04   1.54508439e-05]\n",
      " [  6.00925204e-03  -3.42384640e-04   2.62979504e-09]]\n",
      "============================================================\n",
      "[[ -1.46760811e-03  -4.11904689e-05  -1.96417072e-12]\n",
      " [  4.38783333e-04   1.20494402e-03  -2.50060408e-05]\n",
      " [ -4.59424133e-03   4.91032530e-04   1.72048795e-08]]\n",
      "============================================================\n",
      "[[  1.60059229e-02  -1.04851968e-11   2.31169238e-08]\n",
      " [  5.72119737e-12   3.24939979e-02  -8.14871177e-04]\n",
      " [  1.28352488e-03   1.72874263e-04  -1.35379460e-13]]\n",
      "============================================================\n",
      "[[ -9.72428845e-02  -3.08134656e-05  -5.87562446e-06]\n",
      " [  2.10090345e-07  -8.27622222e-04   1.70646491e-05]\n",
      " [  6.63690463e-03  -3.78145930e-04   2.90447110e-09]]\n",
      "============================================================\n",
      "[[  8.43820591e-04   3.87115105e-14   2.16080791e-08]\n",
      " [  2.25545913e-04  -1.38993115e-02   3.49335753e-04]\n",
      " [  1.21167824e-03   3.92947111e-13   1.69051279e-09]]\n",
      "============================================================\n",
      "[[ -1.18865684e-03  -3.33613125e-05  -1.59083678e-12]\n",
      " [  3.55382890e-04   9.75917854e-04  -2.02530916e-05]\n",
      " [ -3.72100450e-03   3.97700975e-04   1.39347130e-08]]\n",
      "============================================================\n",
      "[[ -5.77182149e-02  -1.82892377e-05  -3.48745882e-06]\n",
      " [  1.24698478e-07  -4.91232623e-04   1.01286700e-05]\n",
      " [  3.93931432e-03  -2.24447353e-04   1.72393988e-09]]\n",
      "============================================================\n",
      "[[ -6.92669967e-02  -2.19487135e-05  -4.18526108e-06]\n",
      " [  1.49649276e-07  -5.89522884e-04   1.21553057e-05]\n",
      " [  4.72752791e-03  -2.69356807e-04   2.06888135e-09]]\n",
      "============================================================\n",
      "[[ -4.30653905e-02  -1.36461802e-05  -2.60210362e-06]\n",
      " [  9.30414889e-08  -3.66524238e-04   7.55732186e-06]\n",
      " [  2.93924734e-03  -1.67467288e-04   1.28628622e-09]]\n",
      "============================================================\n",
      "[[ -5.61188600e-02  -1.77824482e-05  -3.39082235e-06]\n",
      " [  1.21243120e-07  -4.77620710e-04   9.84800746e-06]\n",
      " [  3.83015707e-03  -2.18227982e-04   1.67617001e-09]]\n",
      "============================================================\n",
      "[[ -3.68875219e-02  -1.16885918e-05  -2.22882350e-06]\n",
      " [  7.96943885e-08  -3.13945159e-04   6.47319977e-06]\n",
      " [  2.51760287e-03  -1.43443567e-04   1.10176433e-09]]\n",
      "============================================================\n",
      "[[  8.98071965e-02  -9.52291152e-07   9.29192163e-07]\n",
      " [ -6.28259681e-07   5.47609063e-04  -1.04403416e-05]\n",
      " [ -7.73259441e-03   2.61173198e-04  -2.96210346e-16]]\n",
      "============================================================\n",
      "[[ -2.37066533e-02   5.98427517e-08  -5.70276119e-07]\n",
      " [ -1.58762705e-07  -3.77611150e-03   9.50186579e-05]\n",
      " [ -3.16035097e-02  -1.86146019e-05   3.31715661e-14]]\n",
      "============================================================\n",
      "[[ -4.03863795e-02  -1.27972789e-05  -2.44023201e-06]\n",
      " [  8.72535658e-08  -3.43723505e-04   7.08719612e-06]\n",
      " [  2.75640270e-03  -1.57049486e-04   1.20626895e-09]]\n",
      "============================================================\n",
      "[[ -5.84987196e-02  -7.79289721e-05   1.37092682e-16]\n",
      " [  4.66967619e-11  -5.76246422e-04   1.17585283e-05]\n",
      " [  1.56273080e-02  -2.93887239e-04   8.44050431e-07]]\n",
      "============================================================\n",
      "[[ -5.90440077e-02  -1.87093432e-05  -3.56756607e-06]\n",
      " [  1.27562814e-07  -5.02516282e-04   1.03613265e-05]\n",
      " [  4.02980074e-03  -2.29602930e-04   1.76353894e-09]]\n",
      "============================================================\n",
      "[[  8.52224306e-03  -1.22552911e-07   2.33805838e-07]\n",
      " [  3.98219217e-14  -4.82041038e-03   1.20976943e-04]\n",
      " [  1.29391035e-02   5.38599054e-08  -1.23591595e-07]]\n",
      "============================================================\n",
      "[[  1.93241858e-03   1.98260855e-06  -6.57167929e-16]\n",
      " [  1.00909143e-10   1.60959537e-02  -4.04578770e-04]\n",
      " [  2.79507123e-03  -1.95907213e-12   3.08421611e-11]]\n",
      "============================================================\n",
      "[[ -3.01581626e-02  -3.12486113e-05   9.82640649e-09]\n",
      " [  3.45377326e-11   3.10628711e-03  -7.76579254e-05]\n",
      " [ -4.24650862e-02  -8.87012150e-13   7.13015194e-12]]\n",
      "============================================================\n",
      "[[  2.18670973e-03   2.23828530e-11   5.63863093e-08]\n",
      " [ -3.13133696e-14   9.31047280e-04  -1.00706100e-04]\n",
      " [  3.16201280e-03   9.71892016e-12  -2.41520477e-16]]\n",
      "============================================================\n",
      "[[ -1.84366806e-03  -3.20148707e-06  -1.87430960e-08]\n",
      " [  1.32416384e-07   3.47873846e-03  -8.71358330e-05]\n",
      " [ -5.48305858e-03   2.29986075e-05  -3.84422224e-15]]\n",
      "============================================================\n",
      "[[  8.33931765e-02   9.19192527e-12  -2.13928450e-08]\n",
      " [  1.66237371e-15   1.05221343e-02  -2.54211150e-04]\n",
      " [ -1.19959577e-03   7.23691782e-10   2.42212166e-05]]\n",
      "============================================================\n",
      "[[  8.50574569e-04   3.90213592e-14   2.17810312e-08]\n",
      " [  2.27351193e-04  -1.40105622e-02   3.52131852e-04]\n",
      " [  1.22137657e-03   3.96092277e-13   1.70404373e-09]]\n",
      "============================================================\n",
      "[[ -4.69639189e-02   3.80001498e-05   6.90902422e-15]\n",
      " [ -1.59319928e-15  -1.50287544e-03   2.77043059e-05]\n",
      " [ -5.63657242e-03  -7.79427536e-04  -1.81680385e-15]]\n",
      "============================================================\n",
      "[[  1.24435599e-02  -1.06594338e-05   5.89491572e-07]\n",
      " [ -9.44369238e-14  -1.55945907e-03   3.90155906e-05]\n",
      " [  1.83290649e-02   1.61864565e-16   9.87327285e-12]]\n",
      "============================================================\n",
      "[[  1.35931030e-02   5.86025315e-12   3.50525710e-07]\n",
      " [ -6.18678983e-09  -3.88602878e-04   5.06114807e-05]\n",
      " [  1.96558498e-02  -3.22924049e-13   2.90785467e-16]]\n",
      "============================================================\n",
      "[[ -5.16415026e-02  -1.63637028e-05  -3.12029078e-06]\n",
      " [  1.11569923e-07  -4.39514473e-04   9.06229927e-06]\n",
      " [  3.52457385e-03  -2.00816997e-04   1.54243935e-09]]\n",
      "============================================================\n",
      "[[  1.05338860e-03   4.83257510e-14   2.69745778e-08]\n",
      " [  2.81561621e-04  -1.73512906e-02   4.36095425e-04]\n",
      " [  1.51260594e-03   4.90537930e-13   2.11036199e-09]]\n",
      "============================================================\n",
      "[[  1.47024066e-02  -9.63128628e-12   2.12342903e-08]\n",
      " [  5.25526521e-12   2.98476990e-02  -7.48508376e-04]\n",
      " [  1.17899509e-03   1.58795448e-04  -1.24354208e-13]]\n",
      "============================================================\n",
      "[[ -3.68259185e-03  -3.77704253e-06  -3.75972589e-16]\n",
      " [ -7.09488390e-09  -1.50015599e-02   3.77097112e-04]\n",
      " [ -5.32649006e-03  -1.00175800e-11  -4.31393441e-10]]\n"
     ]
    }
   ],
   "source": [
    "for O in spclfv[['O11','O12','O13','O21','O22','O23','O31','O32','O33']].values:\n",
    "    print '='*60\n",
    "    print  np.reshape(O, (-1, 3))"
   ]
  },
  {
   "cell_type": "code",
   "execution_count": 150,
   "metadata": {
    "collapsed": false
   },
   "outputs": [
    {
     "name": "stdout",
     "output_type": "stream",
     "text": [
      "============================================================\n",
      "[[  1.70421811e+04   2.61170409e-02   2.96133927e-04]\n",
      " [ -3.68191228e-02   7.01480440e-01  -8.60065444e-04]\n",
      " [ -1.16314249e+03   3.20510935e-01  -1.46386557e-07]]\n",
      "============================================================\n",
      "[[  4.97063322e+02   6.74705783e-02   1.91314392e-10]\n",
      " [ -1.48611268e+02  -1.97371557e+00   2.43564138e-03]\n",
      " [  1.55602088e+03  -8.04318319e-01  -1.67579174e-06]]\n",
      "============================================================\n",
      "[[  4.81658899e+03   2.69515797e-01  -1.43981297e-10]\n",
      " [  4.60677452e-04   9.53462479e-01  -1.28671133e-03]\n",
      " [  4.18553609e+04  -9.77242008e-12   9.31965607e-07]]\n",
      "============================================================\n",
      "[[  2.28847159e+02  -3.36081684e-03  -2.17383079e-13]\n",
      " [  1.24889622e-09   4.27685909e+01  -6.38849811e-02]\n",
      " [ -9.77094734e+02   5.01016023e-02   7.99407394e-08]]\n",
      "============================================================\n",
      "[[  2.99986702e+04   4.59727831e-02   5.21272717e-04]\n",
      " [ -6.48112303e-02   1.23478798e+00  -1.51393883e-03]\n",
      " [ -2.04743323e+03   5.64182591e-01  -2.57678405e-07]]\n",
      "============================================================\n",
      "[[  5.00033880e+02   6.78737968e-02   1.92457728e-10]\n",
      " [ -1.49499400e+02  -1.98551091e+00   2.45019730e-03]\n",
      " [  1.56531999e+03  -8.09125097e-01  -1.68580663e-06]]\n",
      "============================================================\n",
      "[[ -5.45343384e+03   1.72775435e-08  -2.26509365e-06]\n",
      " [ -1.94928912e-06  -5.35437218e+01   7.98445134e-02]\n",
      " [ -4.37314241e+02  -2.84862807e-01   1.32650502e-11]]\n",
      "============================================================\n",
      "[[  3.31319625e+04   5.07745349e-02   5.75718456e-04]\n",
      " [ -7.15806145e-02   1.36375875e+00  -1.67206626e-03]\n",
      " [ -2.26128294e+03   6.23110168e-01  -2.84592324e-07]]\n",
      "============================================================\n",
      "[[ -2.87501058e+02  -6.37889606e-11  -2.11725069e-06]\n",
      " [ -7.68465350e+01   2.29033334e+01  -3.42293899e-02]\n",
      " [ -4.12835121e+02  -6.47499605e-10  -1.65643570e-07]]\n",
      "============================================================\n",
      "[[  4.04991420e+02   5.49728858e-02   1.55876895e-10]\n",
      " [ -1.21083745e+02  -1.60812081e+00   1.98448330e-03]\n",
      " [  1.26779643e+03  -6.55333039e-01  -1.36538193e-06]]\n",
      "============================================================\n",
      "[[  1.96653744e+04   3.01370690e-02   3.41715918e-04]\n",
      " [ -4.24864536e-02   8.09454811e-01  -9.92449789e-04]\n",
      " [ -1.34217753e+03   3.69845123e-01  -1.68918898e-07]]\n",
      "============================================================\n",
      "[[  2.36002001e+04   3.61671658e-02   4.10089526e-04]\n",
      " [ -5.09875270e-02   9.71417842e-01  -1.19102810e-03]\n",
      " [ -1.61073253e+03   4.43847076e-01  -2.02717717e-07]]\n",
      "============================================================\n",
      "[[  1.46729595e+04   2.24862228e-02   2.54965083e-04]\n",
      " [ -3.17004903e-02   6.03959904e-01  -7.40498257e-04]\n",
      " [ -1.00144122e+03   2.75953175e-01  -1.26035747e-07]]\n",
      "============================================================\n",
      "[[  1.91204526e+04   2.93019795e-02   3.32247069e-04]\n",
      " [ -4.13091665e-02   7.87025054e-01  -9.64949290e-04]\n",
      " [ -1.30498618e+03   3.59596822e-01  -1.64238204e-07]]\n",
      "============================================================\n",
      "[[  1.25680763e+04   1.92605019e-02   2.18389523e-04]\n",
      " [ -2.71529532e-02   5.17319916e-01  -6.34271404e-04]\n",
      " [ -8.57781259e+02   2.36366805e-01  -1.07955514e-07]]\n",
      "============================================================\n",
      "[[ -3.05985233e+04   1.56918865e-03  -9.10461656e-05]\n",
      " [  2.14056548e-01  -9.02352103e-01   1.02298869e-03]\n",
      " [  2.63459922e+03  -4.30362097e-01   2.90239385e-14]]\n",
      "============================================================\n",
      "[[  8.07717657e+03  -9.86090927e-05   5.58780584e-05]\n",
      " [  5.40925952e-02   6.22228956e+00  -9.31032870e-03]\n",
      " [  1.07677421e+04   3.06732052e-02  -3.25028990e-12]]\n",
      "============================================================\n",
      "[[  1.37601843e+04   2.10874003e-02   2.39104220e-04]\n",
      " [ -2.97284669e-02   5.66388777e-01  -6.94433355e-04]\n",
      " [ -9.39143582e+02   2.58786685e-01  -1.18195317e-07]]\n",
      "============================================================\n",
      "[[  1.99313029e+04   1.28411629e-01  -1.34329190e-14]\n",
      " [ -1.59102167e-05   9.49540842e-01  -1.15215018e-03]\n",
      " [ -5.32443464e+03   4.84268406e-01  -8.27036197e-05]]\n",
      "============================================================\n",
      "[[  2.01170899e+04   3.08293203e-02   3.49565164e-04]\n",
      " [ -4.34623715e-02   8.28048063e-01  -1.01524645e-03]\n",
      " [ -1.37300747e+03   3.78340500e-01  -1.72798980e-07]]\n",
      "============================================================\n",
      "[[ -2.90364317e+03   2.01943110e-04  -2.29092817e-05]\n",
      " [ -1.35678659e-08   7.94308885e+00  -1.18538309e-02]\n",
      " [ -4.40852710e+03  -8.87505379e-05   1.21100255e-05]]\n",
      "============================================================\n",
      "[[ -6.58401077e+02  -3.26694921e-03   6.43920843e-14]\n",
      " [ -3.43811062e-05  -2.65229680e+01   3.96423336e-02]\n",
      " [ -9.52318472e+02   3.22816581e-09  -3.02204497e-09]]\n",
      "============================================================\n",
      "[[  1.02752928e+04   5.14915695e-02  -9.62832736e-07]\n",
      " [ -1.17674714e-05  -5.11855062e+00   7.60925094e-03]\n",
      " [  1.44684277e+04   1.46162168e-09  -6.98642348e-10]]\n",
      "============================================================\n",
      "[[ -7.45041502e+02  -3.68825424e-08  -5.52496831e-06]\n",
      " [  1.06688874e-08  -1.53418292e+00   9.86760825e-03]\n",
      " [ -1.07734041e+03  -1.60148702e-08   2.36651946e-14]]\n",
      "============================================================\n",
      "[[  6.28162578e+02   5.27542144e-03   1.83652757e-06]\n",
      " [ -4.51160482e-02  -5.73227724e+00   8.53793628e-03]\n",
      " [  1.86815202e+03  -3.78971848e-02   3.76673102e-13]]\n",
      "============================================================\n",
      "[[ -2.84131802e+04  -1.51464862e-08   2.09616114e-06]\n",
      " [ -5.66393147e-10  -1.73384092e+01   2.49086802e-02]\n",
      " [  4.08718461e+02  -1.19250182e-06  -2.37329692e-03]]\n",
      "============================================================\n",
      "[[ -2.89802229e+02  -6.42995303e-11  -2.13419727e-06]\n",
      " [ -7.74616183e+01   2.30866527e+01  -3.45033634e-02]\n",
      " [ -4.16139473e+02  -6.52682221e-10  -1.66969389e-07]]\n",
      "============================================================\n",
      "[[  1.60012407e+04  -6.26167779e-02  -6.76975321e-13]\n",
      " [  5.42824486e-10   2.47644333e+00  -2.71458469e-03]\n",
      " [  1.92045626e+03   1.28434338e+00   1.78018101e-13]]\n",
      "============================================================\n",
      "[[ -4.23968871e+03   1.75646518e-02  -5.77608695e-05]\n",
      " [  3.21759338e-08   2.56968204e+00  -3.82291206e-03]\n",
      " [ -6.24495966e+03  -2.66720989e-13  -9.67424899e-10]]\n",
      "============================================================\n",
      "[[ -4.63135355e+03  -9.65654536e-09  -3.43459869e-05]\n",
      " [  2.10792275e-03   6.40341163e-01  -4.95912626e-03]\n",
      " [ -6.69701317e+03   5.32115362e-10  -2.84923860e-14]]\n",
      "============================================================\n",
      "[[  1.75949565e+04   2.69641659e-02   3.05739246e-04]\n",
      " [ -3.80133778e-02   7.24233465e-01  -8.87962289e-04]\n",
      " [ -1.20086986e+03   3.30906940e-01  -1.51134710e-07]]\n",
      "============================================================\n",
      "[[ -3.58903706e+02  -7.96313392e-11  -2.64308286e-06]\n",
      " [ -9.59318424e+01   2.85915165e+01  -4.27304683e-02]\n",
      " [ -5.15365248e+02  -8.08310093e-10  -2.06782165e-07]]\n",
      "============================================================\n",
      "[[ -5.00930826e+03   1.58704668e-08  -2.08062529e-06]\n",
      " [ -1.79053975e-06  -4.91831414e+01   7.33420064e-02]\n",
      " [ -4.01699531e+02  -2.61663687e-01   1.21847496e-11]]\n",
      "============================================================\n",
      "[[  1.25470872e+03   6.22382371e-03   3.68393794e-14]\n",
      " [  2.41732265e-03   2.47196222e+01  -3.69495649e-02]\n",
      " [  1.81480701e+03   1.65070029e-08   4.22697481e-08]]\n"
     ]
    }
   ],
   "source": [
    "v=spc.loc[0].v\n",
    "m_e=0.5109989461e-3;m_mu=0.1056583745;m_tau=1.77686\n",
    "mlep=np.diag([m_e,m_mu,m_tau])\n",
    "for O in spclfv[['O11','O12','O13','O21','O22','O23','O31','O32','O33']].values:\n",
    "    print '='*60\n",
    "    print -v*np.dot( np.reshape(O, (-1, 3)), np.linalg.inv(mlep))/np.sqrt(2)"
   ]
  },
  {
   "cell_type": "code",
   "execution_count": 152,
   "metadata": {
    "collapsed": false
   },
   "outputs": [
    {
     "data": {
      "text/plain": [
       "[<matplotlib.lines.Line2D at 0x7f30ebf70ed0>]"
      ]
     },
     "execution_count": 152,
     "metadata": {},
     "output_type": "execute_result"
    },
    {
     "data": {
      "image/png": "[encoded data removed]",
      "text/plain": [
       "<matplotlib.figure.Figure at 0x7f30ec38a910>"
      ]
     },
     "metadata": {},
     "output_type": "display_data"
    }
   ],
   "source": [
    "plt.loglog(spclfv.O33.abs(),spclfv.O11.abs(),'ro')"
   ]
  },
  {
   "cell_type": "code",
   "execution_count": 113,
   "metadata": {
    "collapsed": false
   },
   "outputs": [
    {
     "data": {
      "text/plain": [
       "array([[ -5.00190970e-02,  -1.58496093e-05,  -3.02226154e-06],\n",
       "       [  1.08064764e-07,  -4.25706379e-04,   8.77759173e-06],\n",
       "       [  3.41384337e-03,  -1.94507989e-04,   1.49398100e-09]])"
      ]
     },
     "execution_count": 113,
     "metadata": {},
     "output_type": "execute_result"
    }
   ],
   "source": [
    "A = np.array([1,2,3,4,5,6,7,8,9])\n",
    "np.reshape(O,(-1,3))"
   ]
  },
  {
   "cell_type": "code",
   "execution_count": 116,
   "metadata": {
    "collapsed": false
   },
   "outputs": [],
   "source": []
  },
  {
   "cell_type": "code",
   "execution_count": 117,
   "metadata": {
    "collapsed": false
   },
   "outputs": [
    {
     "data": {
      "text/plain": [
       "array([[  1.95695120e+03,   0.00000000e+00,   0.00000000e+00],\n",
       "       [  0.00000000e+00,   9.46446512e+00,   0.00000000e+00],\n",
       "       [  0.00000000e+00,   0.00000000e+00,   5.62790541e-01]])"
      ]
     },
     "execution_count": 117,
     "metadata": {},
     "output_type": "execute_result"
    }
   ],
   "source": [
    "np.linalg.inv(mlep)"
   ]
  },
  {
   "cell_type": "code",
   "execution_count": 119,
   "metadata": {
    "collapsed": false
   },
   "outputs": [
    {
     "data": {
      "text/plain": [
       "array([[  1.95695120e+03,   0.00000000e+00,   0.00000000e+00],\n",
       "       [  0.00000000e+00,   9.46446512e+00,   0.00000000e+00],\n",
       "       [  0.00000000e+00,   0.00000000e+00,   5.62790541e-01]])"
      ]
     },
     "execution_count": 119,
     "metadata": {},
     "output_type": "execute_result"
    }
   ],
   "source": [
    "np.diag([1/m_e,1/m_mu,1/m_tau])"
   ]
  },
  {
   "cell_type": "markdown",
   "metadata": {},
   "source": [
    "For one generarion\n",
    "\\begin{align}\n",
    "\\tan\\beta_E=-\\frac{O_{33}}{Y_{33}}=\\frac{v O_{33}}{\\sqrt{2}m_\\tau}\\,,\n",
    "\\end{align}\n",
    "In three generation, and if the resulting mastrix is almost diagonal, then\n",
    "\\begin{align}\n",
    "\\mathbf{I}\\,\\tan\\beta_E=-O Y^{-1}=-\\frac{v}{\\sqrt{2}} O M_E^{-1}\\,\n",
    "\\end{align}\n",
    "where $M_E$ is the diagonal lepton matrix.\n",
    "\n",
    "Thus, it does not seem very useful to define $\\tan\\beta$-like parameters by considering the\n",
    "non-diagonal matrices $O Y^{-1}$.\n",
    "\n",
    "Fortunately, in most models, the thirdgeneration\n",
    "Yukawa couplings dominate, and one may define $\\tan\\beta$-like parameters based\n",
    "solely on the consideration of third-generation fermion couplings. \n",
    "\n",
    "This seem not to be the case for tge $\\tan\\beta_E$ in the Zee model. \n",
    "In the case of maximal solar mixing angle and zero reactor angle, it may be is posible to recover the THHD-II limit.\n"
   ]
  },
  {
   "cell_type": "markdown",
   "metadata": {},
   "source": [
    "[![Home](http://www.incredimail.com/images/nav%20bar/home-icon.png)](./) \n",
    "[Jupyter home](./draft.pdf)"
   ]
  }
 ],
 "metadata": {
  "kernelspec": {
   "display_name": "Python 2",
   "language": "python",
   "name": "python2"
  },
  "language_info": {
   "codemirror_mode": {
    "name": "ipython",
    "version": 2
   },
   "file_extension": ".py",
   "mimetype": "text/x-python",
   "name": "python",
   "nbconvert_exporter": "python",
   "pygments_lexer": "ipython2",
   "version": "2.7.12"
  }
 },
 "nbformat": 4,
 "nbformat_minor": 1
}
