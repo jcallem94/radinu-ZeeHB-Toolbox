{
 "cells": [
  {
   "cell_type": "markdown",
   "metadata": {},
   "source": [
    "#  Modelo de ZeeHB"
   ]
  },
  {
   "cell_type": "markdown",
   "metadata": {},
   "source": [
    "Sample of notebook for specific model"
   ]
  },
  {
   "cell_type": "code",
   "execution_count": 1,
   "metadata": {
    "collapsed": false
   },
   "outputs": [
    {
     "name": "stdout",
     "output_type": "stream",
     "text": [
      "Populating the interactive namespace from numpy and matplotlib\n"
     ]
    }
   ],
   "source": [
    "%pylab inline"
   ]
  },
  {
   "cell_type": "code",
   "execution_count": 2,
   "metadata": {
    "collapsed": false
   },
   "outputs": [],
   "source": [
    "import pandas as pd\n",
    "import numpy as np\n",
    "import os, sys, inspect\n",
    "import commands\n",
    "import hep as hp"
   ]
  },
  {
   "cell_type": "code",
   "execution_count": 3,
   "metadata": {
    "collapsed": true
   },
   "outputs": [],
   "source": [
    "def func(s2phi, M1, M2, MAo, Mho, MHo, v, lam2, lam3, lam6, lam7, lam8, lam9, lam10, lamh):\n",
    "    M12 = M1*M1; M22 = M2*M2; MAo2 = MAo*MAo; Mho2 = Mho*Mho; MHo2 = MHo*MHo;\n",
    "    k = s2phi*np.log(M22/M12)/(4.*np.pi)**2\n",
    "    phi = 0.5*np.arcsin(s2phi)\n",
    "    Mu  = (M22-M12)*s2phi/(np.sqrt(2.0)*v)\n",
    "    MH2 = M12*(np.sin(phi))**2+M22*(np.cos(phi))**2\n",
    "    M332 = M12*(np.cos(phi))**2+M22*(np.sin(phi))**2\n",
    "    lam1 = 0.5*(MHo2+Mho2-np.sqrt((MHo2-Mho2)**2-4.0*v**4*lam6**2))/(v**2)\n",
    "    Mu22 = MH2-0.5*lam3*(v**2)\n",
    "    Muh2 = M332-0.5*lam8*(v**2)\n",
    "    lam4 = 0.5*(np.sqrt((MHo2-Mho2)**2-4.0*v**4*lam6**2)+MHo2+Mho2+2.0*(MAo2-2.0*MH2))/(v**2)\n",
    "    lam5 = 0.5*(np.sqrt((MHo2-Mho2)**2-4.0*v**4*lam6**2)+MHo2+Mho2-2.0*MAo2)/(v**2)    \n",
    "    return k, Mu, Muh2, Mu22, lam1, lam4, lam5"
   ]
  },
  {
   "cell_type": "code",
   "execution_count": 4,
   "metadata": {
    "collapsed": false
   },
   "outputs": [],
   "source": [
    "import hep as hp\n",
    "def Kappa(s2phi,M1,M2):\n",
    "    M12 = M1*M1; M22 = M2*M2\n",
    "    k = s2phi*np.log(M22/M12)/(4.*np.pi)**2\n",
    "    return k\n",
    "\n",
    "def Inverse_Zee_Matrix(t12,t13,t23,ml,IH=False,sgnm2=-1,sgnml=1):\n",
    "    \"\"\"Inverse neutrino mass matrix normalized by kappa from\n",
    "        Mnu_diag=U^T.(kappa Y).U\n",
    "        ,\n",
    "        (Inverse_Zee_Matrix) = U. Mnu_diag.U^T/kappa\n",
    "        sgnm2=-1 guarantees real Yukawa couplings\n",
    "        \n",
    "    requires hep.py:\n",
    "       https://github.com/restrepo/BSM-Toolbox/blob/master/tests/hep.py\n",
    "    \"\"\"\n",
    "    if not IH:\n",
    "        mltmp,Dm21_2,Dm3l_2,theta12,theta23,theta13,delta=hp.neutrino_data(CL=3,IH=False,mnu1in=1E-5*1E-9)\n",
    "        #theta12[1] = t12\n",
    "        #theta13[1] = t13\n",
    "        #theta23[1] = t23\n",
    "        U=hp.UPMNS(theta12[1],theta13[1],theta23[1])\n",
    "        m1=ml; m2=sgnm2*np.sqrt(Dm21_2[1]+m1**2); m3=sgnml*np.sqrt(Dm3l_2[1]+m1**2)\n",
    "    else:\n",
    "        mltmp,Dm21_2,Dm3l_2,theta12,theta23,theta13,delta=hp.neutrino_data(CL=3,IH=True,mnu1in=1E-5*1E-9)\n",
    "        #DEBUG signs\n",
    "        m3=ml; m2=sgnm2*np.sqrt(-Dm3l_2[1]+m3**2); m1=sgnml*np.sqrt(m2**2-Dm21_2[1])\n",
    "        #theta12[1] = t12\n",
    "        #theta13[1] = t13\n",
    "        #theta23[1] = t23\n",
    "        U=hp.UPMNS(theta12[1],theta13[1],theta23[1])\n",
    "    \n",
    "    #print np.dot( np.dot( U,np.diag([m1,m2,m3]) ), U.transpose() )\n",
    "    return np.dot( np.dot( U,np.diag([m1,m2,m3]) ), U.transpose() )\n",
    "\n",
    "def get_yukawas(X,q00=1.0e-05,q01=1.0e-04,q11=1.0e-03,q20=5.0e-04,q21=1.0e-04,q22=1.0e-06,k=7.18938581886e-05):\n",
    "    \"\"\"\n",
    "    Get the O and f full Yukawa mass matrices which define the neutrino mass matrix in the Zee model\n",
    "      Mnu=kappa*(O.M_lep.f^T+f.M_lep.O^T)\n",
    "    where M_lep is the diagonal matrix with the charged leptons\n",
    "    \n",
    "    The input X is the output of the `def Inverse_Zee_Matrix(...)` in this module\n",
    "    \"\"\"\n",
    "    import numpy.lib.scimath as sc # .sqrt -> returns complex for sqrt(negative real)\n",
    "    m_e=0.5109989461e-3;m_mu=0.1056583745;m_tau=1.77686\n",
    "    ml=np.array([m_e,m_mu,m_tau])\n",
    "    Q=np.zeros((3,3))\n",
    "    f=np.zeros((3,3))\n",
    "    \n",
    "    Q[0,0]=q00; Q[0,1]=q01; Q[1,1]=q11; Q[2,0]=q20; Q[2,1]=q21; Q[2,2]=q22\n",
    "    \n",
    "    Q[0,2] = (ml[2]**2*Q[2,2]*X[0,2]*X[2,2] + ml[2]*(2.0*X[0,2]*(ml[0]*Q[2,0]*X[0,2] + ml[1]*Q[2,1]*X[1,2]) - (ml[0]*(Q[2,0]*X[0,0] + Q[0,0]*X[0,2]) + ml[1]*(Q[2,1]*X[0,1] + Q[0,1]*X[1,2]))*X[2,2]) + np.sqrt(ml[2]**2*((-2.0*X[0,2]*(ml[0]*Q[2,0]*X[0,2] + ml[1]*Q[2,1]*X[1,2]) + (ml[0]*Q[2,0]*X[0,0] + (ml[0]*Q[0,0] - ml[2]*Q[2,2])*X[0,2] + ml[1]*(Q[2,1]*X[0,1] + Q[0,1]*X[1,2]))*X[2,2])**2 - X[2,2]**2*(ml[2]**2*Q[2,2]**2*X[0,0]*X[2,2] + ml[0]**2*X[0,0]*(Q[2,0]**2*X[0,0] - 2.0*Q[0,0]*Q[2,0]*X[0,2] + Q[0,0]**2*X[2,2]) + ml[1]**2*X[1,1]*(Q[2,1]**2*X[0,0] - 2.0*Q[0,1]*Q[2,1]*X[0,2] + Q[0,1]**2*X[2,2]) + 2.0*ml[1]*ml[2]*Q[2,2]*(Q[2,1]*X[0,0]*X[1,2] - Q[0,1]*X[0,1]*X[2,2]) + 2.0*ml[0]*(ml[2]*Q[2,2]*X[0,0]*(Q[2,0]*X[0,2] - Q[0,0]*X[2,2]) + ml[1]*(Q[2,0]*(X[0,1]*(Q[2,1]*X[0,0] - 2.0*Q[0,1]*X[0,2]) + Q[0,1]*X[0,0]*X[1,2]) + Q[0,0]*(-(Q[2,1]*X[0,0]*X[1,2]) + Q[0,1]*X[0,1]*X[2,2])))))))/(ml[2]**2*X[2,2]**2)\n",
    "    f[0,1] = (ml[0]*(Q[0,1]*Q[2,0] - Q[0,0]*Q[2,1])*X[0,0] + ml[2]*(Q[2,1]*(Q[2,2]*X[0,0] - 2*Q[0,2]*X[0,2]) + Q[0,1]*Q[0,2]*X[2,2]))/(2.*k*ml[1]*(ml[0]*Q[0,1]*(Q[0,1]*Q[2,0] - Q[0,0]*Q[2,1]) + ml[2]*Q[2,1]*(-(Q[0,2]*Q[2,1]) + Q[0,1]*Q[2,2])))\n",
    "    f[0,2] =-(Q[2,1]**2*X[0,0] - 2*Q[0,1]*Q[2,1]*X[0,2] + Q[0,1]**2*X[2,2])/(2.*k*(ml[0]*Q[0,1]*(Q[0,1]*Q[2,0] - Q[0,0]*Q[2,1]) + ml[2]*Q[2,1]*(-(Q[0,2]*Q[2,1]) + Q[0,1]*Q[2,2])))\n",
    "    f[1,2] = (ml[2]*(Q[0,2]*Q[2,1] - Q[0,1]*Q[2,2])*X[2,2] + ml[0]*(Q[2,0]*(Q[2,1]*X[0,0] - 2*Q[0,1]*X[0,2]) + Q[0,0]*Q[0,1]*X[2,2]))/(2.*k*ml[1]*(ml[0]*Q[0,1]*(Q[0,1]*Q[2,0] - Q[0,0]*Q[2,1]) + ml[2]*Q[2,1]*(-(Q[0,2]*Q[2,1]) + Q[0,1]*Q[2,2])))\n",
    "    Q[1,0] =-((ml[0]**3*Q[0,0]*(-(Q[0,1]*Q[2,0]) + Q[0,0]*Q[2,1])*X[0,0]*(Q[2,0]*(Q[2,1]*X[0,0] - 2*Q[0,1]*X[0,2]) + Q[0,0]*Q[0,1]*X[2,2]) + ml[2]*(Q[0,2]*Q[2,1] - Q[0,1]*Q[2,2])*(ml[2]**2*Q[0,2]*(Q[0,2]*Q[2,1] - Q[0,1]*Q[2,2])*X[2,2]**2 + ml[1]**2*Q[2,1]*X[1,1]*(Q[2,1]**2*X[0,0] - 2*Q[0,1]*Q[2,1]*X[0,2] + Q[0,1]**2*X[2,2]) + ml[1]*ml[2]*X[2,2]*(2*Q[2,1]*(Q[0,2]*Q[2,1] - Q[0,1]*Q[2,2])*X[0,1] + Q[1,1]*(Q[2,1]*(Q[2,2]*X[0,0] - 2*Q[0,2]*X[0,2]) + Q[0,1]*Q[0,2]*X[2,2]))) + ml[0]**2*(ml[1]*(Q[0,1]*Q[2,0] - Q[0,0]*Q[2,1])*(-(Q[1,1]*X[0,0]) + 2*Q[0,1]*X[0,1])*(Q[2,0]*(-(Q[2,1]*X[0,0]) + 2*Q[0,1]*X[0,2]) - Q[0,0]*Q[0,1]*X[2,2]) + ml[2]*(Q[0,0]*Q[2,2]*X[0,0]*(-2*Q[0,0]*Q[0,1]*Q[2,1]*X[2,2] + Q[2,0]*(-(Q[2,1]**2*X[0,0]) + 2*Q[0,1]*Q[2,1]*X[0,2] + Q[0,1]**2*X[2,2])) + Q[0,2]*(Q[2,0]**2*(Q[2,1]*X[0,0] - 2*Q[0,1]*X[0,2])**2 + Q[0,0]**2*Q[2,1]*(Q[2,1]*X[0,0] + 2*Q[0,1]*X[0,2])*X[2,2] - 2*Q[0,0]*Q[2,0]*X[0,2]*(-(Q[2,1]**2*X[0,0]) + 2*Q[0,1]*Q[2,1]*X[0,2] + Q[0,1]**2*X[2,2])))) - ml[0]*(ml[1]**2*Q[0,1]*(Q[0,1]*Q[2,0] - Q[0,0]*Q[2,1])*X[1,1]*(Q[2,1]**2*X[0,0] - 2*Q[0,1]*Q[2,1]*X[0,2] + Q[0,1]**2*X[2,2]) - ml[2]**2*(Q[0,2]*Q[2,1] - Q[0,1]*Q[2,2])*X[2,2]*(-(Q[0,0]*Q[2,1]*Q[2,2]*X[0,0]) + Q[0,2]*(2*Q[2,0]*(Q[2,1]*X[0,0] - 2*Q[0,1]*X[0,2]) + Q[0,0]*(2*Q[2,1]*X[0,2] + Q[0,1]*X[2,2]))) + ml[1]*ml[2]*(-2*(Q[0,2]*Q[2,1] - Q[0,1]*Q[2,2])*X[0,1]*(2*Q[0,0]*Q[0,1]*Q[2,1]*X[2,2] + Q[2,0]*(Q[2,1]**2*X[0,0] - 2*Q[0,1]*Q[2,1]*X[0,2] - Q[0,1]**2*X[2,2])) + Q[1,1]*(Q[0,0]*X[2,2]*(-2*Q[0,1]*Q[2,1]*Q[2,2]*X[0,0] + Q[0,2]*(Q[2,1]**2*X[0,0] + 2*Q[0,1]*Q[2,1]*X[0,2] - Q[0,1]**2*X[2,2])) + Q[2,0]*(Q[2,1]**2*X[0,0]*(-(Q[2,2]*X[0,0]) + 2*Q[0,2]*X[0,2]) + Q[0,1]**2*(Q[2,2]*X[0,0] + 2*Q[0,2]*X[0,2])*X[2,2] + 2*Q[0,1]*Q[2,1]*(Q[2,2]*X[0,0]*X[0,2] - Q[0,2]*(2*X[0,2]**2 + X[0,0]*X[2,2])))))))/(ml[0]*ml[1]*(Q[2,1]**2*X[0,0] - 2*Q[0,1]*Q[2,1]*X[0,2] + Q[0,1]**2*X[2,2])*(ml[0]*(-(Q[0,1]*Q[2,0]) + Q[0,0]*Q[2,1])*X[0,0] - ml[2]*(Q[2,1]*(Q[2,2]*X[0,0] - 2*Q[0,2]*X[0,2]) + Q[0,1]*Q[0,2]*X[2,2]))))\n",
    "    Q[1,2] = (ml[0]**2*Q[0,0]*(-(Q[0,1]*Q[2,0]) + Q[0,0]*Q[2,1])*X[0,0] + ml[0]*(-(ml[1]*(Q[0,1]*Q[2,0] - Q[0,0]*Q[2,1])*(-(Q[1,1]*X[0,0]) + 2.0*Q[0,1]*X[0,1])) + ml[2]*(-(Q[0,0]*Q[2,1]*Q[2,2]*X[0,0]) + Q[0,2]*(2.0*Q[0,0]*Q[2,1]*X[0,2] + Q[2,0]*(Q[2,1]*X[0,0] - 2.0*Q[0,1]*X[0,2])))) + ml[2]*(ml[2]*Q[0,2]*(Q[0,2]*Q[2,1] - Q[0,1]*Q[2,2])*X[2,2] + ml[1]*(2.0*Q[2,1]*(Q[0,2]*Q[2,1] - Q[0,1]*Q[2,2])*X[0,1] + Q[1,1]*(Q[2,1]*(Q[2,2]*X[0,0] - 2.0*Q[0,2]*X[0,2]) + Q[0,1]*Q[0,2]*X[2,2]))))/(ml[1]*ml[2]*(Q[2,1]**2*X[0,0] - 2.0*Q[0,1]*Q[2,1]*X[0,2] + Q[0,1]**2*X[2,2]))\n",
    "\n",
    "    \n",
    "    f[1,0]=-f[0,1]; f[2,0]=-f[0,2]; f[2,1]=-f[1,2]\n",
    "    \n",
    "    return Q,f\n",
    "\n",
    "def test_Zee(q00,q01,q11,q20,q21,q22):\n",
    "    m_e=0.5109989461e-3;m_mu=0.1056583745;m_tau=1.77686\n",
    "    mlep=np.diag([m_e,m_mu,m_tau])\n",
    "    m1=0 # lightest neutrino \n",
    "    s2phi=1.4E-02; M1=200.0; M2=300.0\n",
    "    t12 = 33.56*np.pi/180.0 \n",
    "    t13 = 8.46*np.pi/180.0 \n",
    "    t23 = 41.6*np.pi/180.0\n",
    "    X=Inverse_Zee_Matrix(t12,t13,t23,m1)\n",
    "    k=Kappa(s2phi,M1,M2)\n",
    "    O,f=get_yukawas(X,q00,q01,q11,q20,q21,q22,k) #Use default input values\n",
    "    #print O\n",
    "    #print f\n",
    "    Mnu=k*( np.dot( np.dot(O,mlep),f.transpose() )+np.dot( np.dot(f,mlep),O.transpose()) )\n",
    "    #print Mnu\n",
    "    Mnu_diag,U=np.linalg.eig(Mnu)\n",
    "    lo=np.argsort(np.abs(Mnu_diag))\n",
    "    Mnu_diag=np.array([Mnu_diag[lo[0]],Mnu_diag[lo[1]],Mnu_diag[lo[2]]])\n",
    "    U=np.matrix(U)\n",
    "    U=np.asarray(np.hstack((U[:,lo[0]],U[:,lo[1]],U[:,lo[2]])))\n",
    "    \n",
    "    mltmp,Dm21_2,Dm3l_2,theta12,theta23,theta13,delta=hp.neutrino_data(CL=3,IH=False,mnu1in=1E-5*1E-9)\n",
    "    m2=np.sqrt(Dm21_2[1]+m1**2); m3=np.sqrt(Dm3l_2[1]+m1**2)\n",
    "    theta12[1] = t12\n",
    "    theta13[1] = t13\n",
    "    theta23[1] = t23\n",
    "    print Mnu_diag\n",
    "    print np.abs([m1,m2,m3])\n",
    "    np.testing.assert_array_almost_equal(np.abs(U),\\\n",
    "        np.abs( hp.UPMNS(theta12[1],theta13[1],theta23[1]) ) )\n",
    "    \n",
    "    return np.testing.assert_almost_equal( np.abs(Mnu_diag),np.abs([m1,m2,m3]) ) "
   ]
  },
  {
   "cell_type": "code",
   "execution_count": 5,
   "metadata": {
    "collapsed": false
   },
   "outputs": [
    {
     "name": "stdout",
     "output_type": "stream",
     "text": [
      "[ -5.70735570e-27  -8.66025404e-12   5.02394267e-11]\n",
      "[  0.00000000e+00   8.66025404e-12   5.02394267e-11]\n"
     ]
    }
   ],
   "source": [
    "test_Zee(q00=1.0e-05,q01=1.0e-04,q11=1.0e-03,q20=5.0e-04,q21=1.0e-04,q22=1.0e-06)"
   ]
  },
  {
   "cell_type": "code",
   "execution_count": 8,
   "metadata": {
    "collapsed": false
   },
   "outputs": [],
   "source": [
    "s2phi=0.014; M1=200.; M2=300.\n",
    "kappa=Kappa(s2phi,M1,M2)"
   ]
  },
  {
   "cell_type": "code",
   "execution_count": 29,
   "metadata": {
    "collapsed": false
   },
   "outputs": [
    {
     "data": {
      "text/plain": [
       "array([[  1.85577077e-11,  -3.12693507e-11,   3.29559943e-11],\n",
       "       [ -3.12693507e-11,  -1.24059015e-12,   8.74125395e-12],\n",
       "       [  3.29559943e-11,   8.74125395e-12,  -1.80696892e-11]])"
      ]
     },
     "execution_count": 29,
     "metadata": {},
     "output_type": "execute_result"
    }
   ],
   "source": [
    "m3=1E-15\n",
    "t12=33.56*180.0/np.pi\n",
    "t13=8.49*180.0/np.pi\n",
    "t23=41.6*180.0/np.pi\n",
    "X=Inverse_Zee_Matrix(t12,t13,t23,m3,IH=True)\n",
    "X"
   ]
  },
  {
   "cell_type": "code",
   "execution_count": 30,
   "metadata": {
    "collapsed": false
   },
   "outputs": [],
   "source": [
    "O,f=get_yukawas(X,q00=-4.255172e-03,q01=2.412983e-05,q11=3.109212e-11,q20=-4.987462e-04,q21=-2.227795e-05,q22=3.246787e-08)"
   ]
  },
  {
   "cell_type": "code",
   "execution_count": 31,
   "metadata": {
    "collapsed": false
   },
   "outputs": [],
   "source": [
    "m_e=0.5109989461e-3;m_mu=0.1056583745;m_tau=1.77686\n",
    "mlep=np.diag([m_e,m_mu,m_tau])\n",
    "Mnu=Kappa(s2phi,M1,M2)*( np.dot( np.dot(O,mlep),f.transpose() )+np.dot( np.dot(f,mlep),O.transpose()) )\n",
    "Mnu_diag,U=np.linalg.eig(Mnu)"
   ]
  },
  {
   "cell_type": "code",
   "execution_count": 32,
   "metadata": {
    "collapsed": false
   },
   "outputs": [],
   "source": [
    "lo=np.argsort(np.abs(Mnu_diag))\n",
    "Mnu_diag=np.array([Mnu_diag[lo[1]],Mnu_diag[lo[2]],Mnu_diag[lo[0]]])\n",
    "U=np.matrix(U)\n",
    "U=np.asarray(np.hstack((U[:,lo[1]],U[:,lo[2]],U[:,lo[0]])))"
   ]
  },
  {
   "cell_type": "code",
   "execution_count": 33,
   "metadata": {
    "collapsed": false
   },
   "outputs": [
    {
     "data": {
      "text/plain": [
       "array([  4.93862329e-11,  -5.01398046e-11,   1.00000000e-15])"
      ]
     },
     "execution_count": 33,
     "metadata": {},
     "output_type": "execute_result"
    }
   ],
   "source": [
    "Mnu_diag # m"
   ]
  },
  {
   "cell_type": "code",
   "execution_count": 34,
   "metadata": {
    "collapsed": false
   },
   "outputs": [
    {
     "data": {
      "text/plain": [
       "array([[-0.8241757 ,  0.54675204,  0.14763679],\n",
       "       [ 0.44958339,  0.47311888,  0.75764986],\n",
       "       [-0.34439685, -0.69081165,  0.63574372]])"
      ]
     },
     "execution_count": 34,
     "metadata": {},
     "output_type": "execute_result"
    }
   ],
   "source": [
    "U"
   ]
  },
  {
   "cell_type": "code",
   "execution_count": 35,
   "metadata": {
    "collapsed": false
   },
   "outputs": [
    {
     "data": {
      "text/plain": [
       "array([[ 0.8241757 ,  0.54675204,  0.14763679],\n",
       "       [ 0.44958339,  0.47311888,  0.75764986],\n",
       "       [ 0.34439685,  0.69081165,  0.63574372]])"
      ]
     },
     "execution_count": 35,
     "metadata": {},
     "output_type": "execute_result"
    }
   ],
   "source": [
    "mltmp,Dm21_2,Dm3l_2,theta12,theta23,theta13,delta=hp.neutrino_data(IH=True)\n",
    "#m2=np.sqrt(Dm21_2[1]+m1**2); m3=np.sqrt(Dm3l_2[1]+m1**2)\n",
    "np.abs( hp.UPMNS(theta12[1],theta13[1],theta23[1]) )"
   ]
  },
  {
   "cell_type": "markdown",
   "metadata": {},
   "source": [
    "[![Home](http://www.incredimail.com/images/nav%20bar/home-icon.png)](./) \n",
    "[Jupyter home](./draft.pdf)"
   ]
  }
 ],
 "metadata": {
  "kernelspec": {
   "display_name": "Python 2",
   "language": "python",
   "name": "python2"
  },
  "language_info": {
   "codemirror_mode": {
    "name": "ipython",
    "version": 2
   },
   "file_extension": ".py",
   "mimetype": "text/x-python",
   "name": "python",
   "nbconvert_exporter": "python",
   "pygments_lexer": "ipython2",
   "version": "2.7.12"
  }
 },
 "nbformat": 4,
 "nbformat_minor": 0
}
