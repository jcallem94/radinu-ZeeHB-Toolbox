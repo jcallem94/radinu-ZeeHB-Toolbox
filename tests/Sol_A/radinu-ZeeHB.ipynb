{
 "cells": [
  {
   "cell_type": "markdown",
   "metadata": {},
   "source": [
    "#  Modelo de ZeeHB"
   ]
  },
  {
   "cell_type": "markdown",
   "metadata": {},
   "source": [
    "Sample of notebook for specific model"
   ]
  },
  {
   "cell_type": "code",
   "execution_count": 1,
   "metadata": {
    "collapsed": false
   },
   "outputs": [
    {
     "name": "stdout",
     "output_type": "stream",
     "text": [
      "Populating the interactive namespace from numpy and matplotlib\n"
     ]
    }
   ],
   "source": [
    "%pylab inline"
   ]
  },
  {
   "cell_type": "code",
   "execution_count": 2,
   "metadata": {
    "collapsed": false
   },
   "outputs": [],
   "source": [
    "import pandas as pd\n",
    "import numpy as np\n",
    "import os, sys, inspect\n",
    "import commands\n",
    "from hep import *"
   ]
  },
  {
   "cell_type": "code",
   "execution_count": 3,
   "metadata": {
    "collapsed": true
   },
   "outputs": [],
   "source": [
    "def func(k, M1, M2, MAo, Mho, MHo, v, lam2, lam6, lam7, lam9, lam10, lamh, Muh, Mu2):\n",
    "    M12 = M1*M1; M22 = M2*M2; MAo2 = MAo*MAo; Mho2 = Mho*Mho; MHo2 = MHo*MHo; Mu22 = Mu2*Mu2; Muh2 = Muh*Muh \n",
    "    phi = 0.5*np.arcsin((4*np.pi)**2*k/(np.log(M22/M12)))\n",
    "    Mu  = (M22-M12)*np.sin(2.0*phi)/(np.sqrt(2)*v)\n",
    "    MH2 = M12*(np.sin(phi))**2+M22*(np.cos(phi))**2\n",
    "    M332 = M12*(np.cos(phi))**2+M22*(np.sin(phi))**2\n",
    "    lam1 = 0.5*(MHo2+Mho2-np.sqrt((MHo2-Mho2)**2-4.0*v**4*lam6**2))/(v**2)\n",
    "    lam3 = 2.0*(MH2-Mu22)/(v**2)\n",
    "    lam4 = 0.5*(np.sqrt((MHo2-Mho2)**2-4.0*v**4*lam6**2)+MHo2+Mho2+2.0*(MAo2-2.0*MH2))/(v**2)\n",
    "    lam5 = 0.5*(np.sqrt((MHo2-Mho2)**2-4.0*v**4*lam6**2)+MHo2+Mho2-2.0*MAo2)/(v**2)\n",
    "    lam8 = 2.0*(M332-Muh2)/(v**2)\n",
    "    return phi, Mu, lam1, lam3, lam4, lam5, lam8"
   ]
  },
  {
   "cell_type": "markdown",
   "metadata": {},
   "source": [
    "\n",
    "## Check one point"
   ]
  },
  {
   "cell_type": "code",
   "execution_count": 4,
   "metadata": {
    "collapsed": false
   },
   "outputs": [],
   "source": [
    "a=hep(MODEL='radinuZeeHB')"
   ]
  },
  {
   "cell_type": "markdown",
   "metadata": {},
   "source": [
    "`a-object` is an object with many attributes and methods. Use the tab to explore them. Some of them are\n",
    "* a.Series: [pandas](http://pandas.pydata.org/) Series object with the \"relevant\" variables \n",
    "* a.LHA: Input LesHouces file as [pyslha](https://pypi.python.org/pypi/pyslha/) object\n",
    "* a.runSPheno() -> a.LHA_out: return LHA output files as [pyslha](https://pypi.python.org/pypi/pyslha/) object\n",
    "* a.runmicromegas() -> a.runSPheno() -> Updated the `a-object`  with micrOMEGAS \"relevant\" output"
   ]
  },
  {
   "cell_type": "code",
   "execution_count": 5,
   "metadata": {
    "collapsed": false
   },
   "outputs": [
    {
     "data": {
      "text/plain": [
       "1      1.0000000E-01   # lambda1Input\n",
       "2      1.3000000E-01   # lambda2Input\n",
       "3      1.1000000E+00   # lambda3Input\n",
       "4      -5.0000000E-01  # lambda4Input\n",
       "5      5.0000000E-01   # lambda5Input\n",
       "6      0.000000E+00    # lambda6Input\n",
       "7      0.000000E+00    # lambda7Input\n",
       "8      0.000000E+00    # lambda8Input\n",
       "9      0.000000E+00    # lambda9Input\n",
       "10    0.000000E+00    # lambda10Input\n",
       "11     0.000000E+00    # lambdahInput\n",
       "12          0.000000E+00    # MhInput\n",
       "13          0.000000E+00    # MuInput\n",
       "14        4.0000000E+04   # mEt2Input\n",
       "dtype: object"
      ]
     },
     "execution_count": 5,
     "metadata": {},
     "output_type": "execute_result"
    }
   ],
   "source": [
    "pd.Series(a.LHA.blocks['MINPAR'].entries)"
   ]
  },
  {
   "cell_type": "code",
   "execution_count": 6,
   "metadata": {
    "collapsed": true
   },
   "outputs": [],
   "source": [
    "m23 = np.sqrt(2.445E-21)\n",
    "\n",
    "Me   = 5.10998930E-04     #Masa Electron en GeV\n",
    "Mmu  = 1.05658372E-01     #Masa Muon en GeV\n",
    "Mtau = 1.77669000E+00     #Masa Tauon en GeV\n",
    "\n",
    "S2Sun = .323                                                         #S2Sun: Sino square sun angle \n",
    "S2Atm = .573                                                         #S2Atm: Sino square atmospheric angle \n",
    "S2Rea = .0229                                                        #S2Rea: Sino square reactor angle \n",
    "\n",
    "t12 = np.arcsin(np.sqrt(S2Sun))                               #ThetSun: Sun Angle theta12\n",
    "t23 = np.arcsin(np.sqrt(S2Atm))                               #ThetAtm: Atmospheric Angle theta23\n",
    "t13 = np.arcsin(np.sqrt(S2Rea))                               #ThetRea: Reactor Angle theta13"
   ]
  },
  {
   "cell_type": "code",
   "execution_count": 37,
   "metadata": {
    "collapsed": false
   },
   "outputs": [],
   "source": [
    "v=a.vev\n",
    "k = 1.3000000E-06\n",
    "M1 = 200.0\n",
    "M2 = 500.0\n",
    "MAo = 95.0\n",
    "Mho = 125.0\n",
    "MHo = 700.0\n",
    "lam2 = 1.3000000E-01    # lambda2Input\n",
    "lam6 = 1.000000E-03    # lambda6Input\n",
    "lam7 = 0.000000E+00    # lambda7Input\n",
    "lam9 = 0.000000E+00    # lambda9Input\n",
    "lam10 = 0.000000E+00    # lambda10Input\n",
    "lamh = 0.000000E+00    # lambdahInput\n",
    "Muh = 1.000000E+04    # MhInput\n",
    "Mu2 = 4.0000000E+04    # mEt2Input\n",
    "\n",
    "phi, Mu, lam1, lam3, lam4, lam5, lam8 = func(k, M1, M2, MAo, Mho, MHo, v, lam2, lam6, lam7, lam9, lam10, lamh, Muh, Mu2)\n",
    "\n",
    "devnull=commands.getoutput('rm -f SPheno.spc.%s' %a.MODEL)\n",
    "\n",
    "a.LHA.blocks['SPHENOINPUT'].entries[55]='0               # Calculate one loop masses'\n",
    "a.LHA.blocks['MINPAR'][1]='%0.8E       #lambda1Input' %lam1\n",
    "a.LHA.blocks['MINPAR'][2]='%0.8E       #lambda2Input' %lam2\n",
    "a.LHA.blocks['MINPAR'][3]='%0.8E       #lambda3Input' %lam3\n",
    "a.LHA.blocks['MINPAR'][4]='%0.8E       #lambda4Input' %lam4\n",
    "a.LHA.blocks['MINPAR'][5]='%0.8E       #lambda5Input' %lam5\n",
    "a.LHA.blocks['MINPAR'][6]='%0.8E       #lambda6Input' %lam6\n",
    "a.LHA.blocks['MINPAR'][7]='%0.8E       #lambda7Input' %lam7\n",
    "a.LHA.blocks['MINPAR'][8]='%0.8E       #lambda8Input' %lam8\n",
    "a.LHA.blocks['MINPAR'][9]='%0.8E       #lambda9Input' %lam9\n",
    "a.LHA.blocks['MINPAR'][10]='%0.8E      #lambda10Input'%lam10\n",
    "a.LHA.blocks['MINPAR'][11]='%0.8E      #lambdahInput' %lamh\n",
    "a.LHA.blocks['MINPAR'][12]='%0.8E      #MhInput'      %(Muh*Muh)\n",
    "a.LHA.blocks['MINPAR'][13]='%0.8E      #MuInput'      %(Mu*Mu)\n",
    "a.LHA.blocks['MINPAR'][14]='%0.8E      #mEt2Input'    %(Mu2*Mu2)"
   ]
  },
  {
   "cell_type": "code",
   "execution_count": 38,
   "metadata": {
    "collapsed": false
   },
   "outputs": [
    {
     "data": {
      "text/plain": [
       "(1, 1)         0.000000E+00    # Yh(1,1)\n",
       "(1, 2)     4.53960303E-01      # Yh(1,2)\n",
       "(1, 3)    -1.62490611E-03      # Yh(1,3)\n",
       "(2, 1)    -4.53960303E-01      # Yh(2,1)\n",
       "(2, 2)         0.000000E+00    # Yh(2,2)\n",
       "(2, 3)     8.13206302E-04      # Yh(2,3)\n",
       "(3, 1)     1.62490611E-03      # Yh(3,1)\n",
       "(3, 2)    -8.13206302E-04      # Yh(3,2)\n",
       "(3, 3)         0.000000E+00    # Yh(3,3)\n",
       "dtype: object"
      ]
     },
     "execution_count": 38,
     "metadata": {},
     "output_type": "execute_result"
    }
   ],
   "source": [
    "pd.Series(a.LHA.blocks['YHIN'].entries)"
   ]
  },
  {
   "cell_type": "markdown",
   "metadata": {},
   "source": [
    "for i in something...."
   ]
  },
  {
   "cell_type": "code",
   "execution_count": 39,
   "metadata": {
    "collapsed": false
   },
   "outputs": [],
   "source": [
    "def sltn(o12,o22,o33,k,one_parameter=False,\n",
    "        Me= 5.10998930E-04,\n",
    "        Mmu  = 1.05658372E-01,\n",
    "        Mtau = 1.77669000E+00,\n",
    "        m23 = np.sqrt(2.445E-21),\n",
    "        S2Sun = 0.323,\n",
    "        S2Atm = 0.573,\n",
    "        S2Rea = 0.0229\n",
    "     ):\n",
    "    import sys\n",
    "    t12 = np.arcsin(np.sqrt(S2Sun))                               #ThetSun: Sun Angle theta12\n",
    "    t23 = np.arcsin(np.sqrt(S2Atm))                               #ThetAtm: Atmospheric Angle theta23\n",
    "    t13 = np.arcsin(np.sqrt(S2Rea))                               #ThetRea: Reactor Angle theta13\n",
    "    if one_parameter:\n",
    "        if o22==0:\n",
    "            o12=(Mtau/Mmu)*np.sqrt(2.0)*(o33*np.tan(2.0*t12)*np.tan(t23))/(1+np.tan(t23))\n",
    "        elif o12==0:\n",
    "            o22=Mmu/Mtau*o33\n",
    "        else:\n",
    "            sys.exit('ERROR: either o12 or o22 must be zero')\n",
    "            \n",
    "\n",
    "    A = (1.0+(2.0+4.0*(np.tan(2.0*t12))**2)*np.tan(t23)+(np.tan(t23))**2)-2.0*(Mmu/Mtau)*np.tan(2.0*t12)*(2.0*(o22/o33)*np.tan(2.0*t12)*np.tan(t23)+np.sqrt(2.0)*(o12/o33)*(1.0+np.tan(t23)))                             \n",
    "    B = 2.0*k*((Mmu*o22/(Mtau*o33))-1.0)*np.tan(2.0*t12)*(1.0+np.tan(t23))*(np.sqrt(2.0)*(o22/o33)*np.tan(2.0*t12)*np.tan(t23)+(o12/o33)*(1.0+np.tan(t23)))\n",
    "\n",
    "    f12 = -(A/B)*(Mtau*m23)/(Mmu*Mtau*o33)\n",
    "    f13 = (m23/(Mtau*o33))*((((Mmu/Mtau)*(np.sqrt(2.0)*o22/o33+(o12*(1.0+np.tan(t23))/(o33*np.tan(2.0*t12)*np.tan(t23)))))-np.sqrt(2.0))/(k*(1.0-(Mmu*o22/(Mtau*o33)))*(1.0+1.0/(np.tan(t23)))))\n",
    "    f23 = m23/(k*(1.0-(Mmu*o22/(Mtau*o33)))*np.tan(2.0*t12)*Mtau*o33)\n",
    "    o13 = (2.0*np.sqrt(2.0)*o12*np.tan(2.0*t12)-o22*(1.0+np.tan(t23)))*o33/(2.0*(np.sqrt(2.0)*o22*np.tan(2.0*t12)*np.tan(t23)+o12*(1.0+np.tan(t23))))\n",
    "    return f12,f13,f23,o13"
   ]
  },
  {
   "cell_type": "code",
   "execution_count": 40,
   "metadata": {
    "collapsed": false
   },
   "outputs": [
    {
     "name": "stdout",
     "output_type": "stream",
     "text": [
      "0\n",
      "10\n",
      "20\n",
      "30\n",
      "40\n",
      "50\n",
      "60\n",
      "70\n",
      "80\n",
      "90\n"
     ]
    }
   ],
   "source": [
    "N = 100\n",
    "\n",
    "#x = 10**np.random.uniform(np.log10(1E-9),np.log10(1E-2),N)\n",
    "x = np.logspace(np.log10(1E-7),np.log10(1E-2),N)\n",
    "\n",
    "o22 = 1.0E-01\n",
    "o12 = 1.0E-01\n",
    "\n",
    "df=pd.DataFrame()\n",
    "for i in range(N):\n",
    "    if i%10==0:\n",
    "        print i\n",
    "    o33 = x[i]\n",
    "    if o33>1E-4:\n",
    "        f12,f13,f23,o13=sltn(0.0,o22,o33,k,one_parameter=True) # o22 != 0\n",
    "        o22=Mmu/Mtau*o33\n",
    "    elif o33<=1E-4:\n",
    "        f12,f13,f23,o13=sltn(o12,0.0,o33,k,one_parameter=True) # o12 != 0\n",
    "        o12=(Mtau/Mmu)*np.sqrt(2.0)*(o33*np.tan(2.0*t12)*np.tan(t23))/(1+np.tan(t23))\n",
    "    else:\n",
    "        f12,f13,f23,o13=sltn(o12,o22,o33,k)\n",
    "\n",
    "    Yh12 =  f12     # Yh(1,2)\n",
    "    Yh13 =  f13     # Yh(1,3)\n",
    "    Yh21 = -f12     # Yh(2,1)\n",
    "    Yh23 =  f23     # Yh(2,3)\n",
    "    Yh31 = -f13     # Yh(3,1)\n",
    "    Yh32 = -f23     # Yh(3,2)\n",
    "\n",
    "    a.LHA.blocks['YHIN'][(1,2)]='%0.8E      # Yh(1,2)'    %Yh12\n",
    "    a.LHA.blocks['YHIN'][(1,3)]='%0.8E      # Yh(1,3)'    %Yh13\n",
    "    a.LHA.blocks['YHIN'][(2,1)]='%0.8E      # Yh(2,1)'    %Yh21\n",
    "    a.LHA.blocks['YHIN'][(2,3)]='%0.8E      # Yh(2,3)'    %Yh23\n",
    "    a.LHA.blocks['YHIN'][(3,1)]='%0.8E      # Yh(3,1)'    %Yh31\n",
    "    a.LHA.blocks['YHIN'][(3,2)]='%0.8E      # Yh(3,2)'    %Yh32\n",
    "\n",
    "    epsE11 =  0.000000E-00         # epsE(1,1)\n",
    "    epsE12 =  o12                  # epsE(1,2)\n",
    "    epsE13 =  o13                  # epsE(1,3)\n",
    "    epsE21 =  0.000000E-00         # epsE(2,1)\n",
    "    epsE22 =  o22                  # epsE(2,2)\n",
    "    epsE23 =  0.000000E-00         # epsE(2,3)\n",
    "    epsE31 =  0.000000E-00         # epsE(3,1)\n",
    "    epsE32 =  0.000000E-00         # epsE(3,2)\n",
    "    epsE33 =  o33                  # epsE(3,3)\n",
    "\n",
    "    a.LHA.blocks['EPSEIN'][(1,1)]='%0.8E      # epsE(1,1)'    %epsE11\n",
    "    a.LHA.blocks['EPSEIN'][(1,2)]='%0.8E      # epsE(1,2)'    %epsE12\n",
    "    a.LHA.blocks['EPSEIN'][(1,3)]='%0.8E      # epsE(1,3)'    %epsE13\n",
    "    a.LHA.blocks['EPSEIN'][(2,1)]='%0.8E      # epsE(2,1)'    %epsE21\n",
    "    a.LHA.blocks['EPSEIN'][(2,2)]='%0.8E      # epsE(2,2)'    %epsE22\n",
    "    a.LHA.blocks['EPSEIN'][(2,3)]='%0.8E      # epsE(2,3)'    %epsE23\n",
    "    a.LHA.blocks['EPSEIN'][(3,1)]='%0.8E      # epsE(3,1)'    %epsE31\n",
    "    a.LHA.blocks['EPSEIN'][(3,2)]='%0.8E      # epsE(3,2)'    %epsE32\n",
    "    a.LHA.blocks['EPSEIN'][(3,3)]='%0.8E      # epsE(3,3)'    %epsE33\n",
    "\n",
    "    moc=a.runSPheno()\n",
    "\n",
    "    a.Series=a.Series.append(block_to_series(a.LHA_out_with_comments.blocks['MASS']))\n",
    "    a.branchings(a.LHA_out.decays,min_pdg=25)\n",
    "    a.Series=a.Series.append(a.Br_names)\n",
    "    a.Series=a.Series.append(block_to_series(a.LHA_out_with_comments.blocks['FLAVORKITLFV']))\n",
    "\n",
    "    df=df.append(a.Series,ignore_index=True)\n",
    "    df=df.fillna(0)"
   ]
  },
  {
   "cell_type": "code",
   "execution_count": 41,
   "metadata": {
    "collapsed": true
   },
   "outputs": [],
   "source": [
    "df.to_csv('resultado.csv',index=False)"
   ]
  },
  {
   "cell_type": "code",
   "execution_count": 42,
   "metadata": {
    "collapsed": false
   },
   "outputs": [],
   "source": [
    "df=pd.read_csv('resultado.csv')\n",
    "df=df.fillna(0)"
   ]
  },
  {
   "cell_type": "code",
   "execution_count": 43,
   "metadata": {
    "collapsed": false
   },
   "outputs": [
    {
     "data": {
      "text/plain": [
       "[<matplotlib.lines.Line2D at 0x7ff022c00ad0>]"
      ]
     },
     "execution_count": 43,
     "metadata": {},
     "output_type": "execute_result"
    },
    {
     "data": {
      "image/png": "[encoded data removed]",
      "text/plain": [
       "<matplotlib.figure.Figure at 0x7ff01eda9290>"
      ]
     },
     "metadata": {},
     "output_type": "display_data"
    }
   ],
   "source": [
    "#Hm_2 ->  MU+ NUE  Hm_2 ->  MU+ NUM    Hm_2 ->  MU+ NUT\n",
    "\n",
    "y = []\n",
    "\n",
    "num=pd.Series(np.zeros(df.shape[0]))\n",
    "den=pd.Series(np.zeros(df.shape[0]))\n",
    "if 'Hm_2 ->  MU+ NUT' in df:\n",
    "    num = num+df['Hm_2 ->  MU+ NUT']    \n",
    "if 'Hm_2 ->  MU+ NUM' in df:\n",
    "    num=num+df['Hm_2 ->  MU+ NUM']\n",
    "if 'Hm_2 ->  MU+ NUE' in df:\n",
    "    num=num+df['Hm_2 ->  MU+ NUE']\n",
    "    \n",
    "if 'Hm_2 ->  TAUden.shape[0]:+ NUT' in df:\n",
    "    den = den+df['Hm_2 ->  TAU+ NUT']\n",
    "if 'Hm_2 ->  TAU+ NUM' in df:\n",
    "    den=den+df['Hm_2 ->  TAU+ NUM']\n",
    "if 'Hm_2 ->  TAU+ NUE' in df:\n",
    "    den=den+df['Hm_2 ->  TAU+ NUE']\n",
    "if den.unique()[0]:\n",
    "    y = num/den\n",
    "else:\n",
    "    sys.exit('ERROR: No branchings')\n",
    "\n",
    "\n",
    "plt.loglog(df.epsE33,y,'ro')"
   ]
  },
  {
   "cell_type": "code",
   "execution_count": 14,
   "metadata": {
    "collapsed": false
   },
   "outputs": [
    {
     "ename": "IndentationError",
     "evalue": "unexpected indent (<ipython-input-14-4bf67d446187>, line 3)",
     "output_type": "error",
     "traceback": [
      "\u001b[0;36m  File \u001b[0;32m\"<ipython-input-14-4bf67d446187>\"\u001b[0;36m, line \u001b[0;32m3\u001b[0m\n\u001b[0;31m    print 1\u001b[0m\n\u001b[0m    ^\u001b[0m\n\u001b[0;31mIndentationError\u001b[0m\u001b[0;31m:\u001b[0m unexpected indent\n"
     ]
    }
   ],
   "source": [
    "den=pd.Series(np.zeros(df.shape[0]))\n",
    "\n",
    "    print 1"
   ]
  },
  {
   "cell_type": "code",
   "execution_count": 15,
   "metadata": {
    "collapsed": false
   },
   "outputs": [
    {
     "ename": "SyntaxError",
     "evalue": "invalid syntax (<ipython-input-15-9e93631e21b3>, line 1)",
     "output_type": "error",
     "traceback": [
      "\u001b[0;36m  File \u001b[0;32m\"<ipython-input-15-9e93631e21b3>\"\u001b[0;36m, line \u001b[0;32m1\u001b[0m\n\u001b[0;31m    np.unique())+df['Hm_2 ->  MU+ NUT']==   df['Hm_2 ->  MU+ NUT'])\u001b[0m\n\u001b[0m               ^\u001b[0m\n\u001b[0;31mSyntaxError\u001b[0m\u001b[0;31m:\u001b[0m invalid syntax\n"
     ]
    }
   ],
   "source": [
    "np.unique())+df['Hm_2 ->  MU+ NUT']==   df['Hm_2 ->  MU+ NUT'])"
   ]
  },
  {
   "cell_type": "code",
   "execution_count": 79,
   "metadata": {
    "collapsed": false
   },
   "outputs": [
    {
     "data": {
      "text/plain": [
       "0     0\n",
       "1     0\n",
       "2     0\n",
       "3     0\n",
       "4     0\n",
       "5     0\n",
       "6     0\n",
       "7     0\n",
       "8     0\n",
       "9     0\n",
       "10    0\n",
       "11    0\n",
       "12    0\n",
       "13    0\n",
       "14    0\n",
       "15    0\n",
       "16    0\n",
       "17    0\n",
       "18    0\n",
       "19    0\n",
       "20    0\n",
       "21    0\n",
       "22    0\n",
       "23    0\n",
       "24    0\n",
       "25    0\n",
       "26    0\n",
       "27    0\n",
       "28    0\n",
       "29    0\n",
       "     ..\n",
       "68    0\n",
       "69    0\n",
       "70    0\n",
       "71    0\n",
       "72    0\n",
       "73    0\n",
       "74    0\n",
       "75    0\n",
       "76    0\n",
       "77    0\n",
       "78    0\n",
       "79    0\n",
       "80    0\n",
       "81    0\n",
       "82    0\n",
       "83    0\n",
       "84    0\n",
       "85    0\n",
       "86    0\n",
       "87    0\n",
       "88    0\n",
       "89    0\n",
       "90    0\n",
       "91    0\n",
       "92    0\n",
       "93    0\n",
       "94    0\n",
       "95    0\n",
       "96    0\n",
       "97    0\n",
       "dtype: float64"
      ]
     },
     "execution_count": 79,
     "metadata": {},
     "output_type": "execute_result"
    }
   ],
   "source": []
  },
  {
   "cell_type": "code",
   "execution_count": null,
   "metadata": {
    "collapsed": true
   },
   "outputs": [],
   "source": [
    "%pycat hep.py"
   ]
  },
  {
   "cell_type": "markdown",
   "metadata": {},
   "source": [
    "Intro Pandas"
   ]
  },
  {
   "cell_type": "markdown",
   "metadata": {},
   "source": [
    "DataFrame"
   ]
  },
  {
   "cell_type": "code",
   "execution_count": null,
   "metadata": {
    "collapsed": false
   },
   "outputs": [],
   "source": [
    "SS=pd.DataFrame({'A':[1,2],'B':[4,3]})\n",
    "SS"
   ]
  },
  {
   "cell_type": "markdown",
   "metadata": {},
   "source": [
    "Series"
   ]
  },
  {
   "cell_type": "code",
   "execution_count": null,
   "metadata": {
    "collapsed": false
   },
   "outputs": [],
   "source": [
    "SS.loc[1]"
   ]
  },
  {
   "cell_type": "code",
   "execution_count": null,
   "metadata": {
    "collapsed": false
   },
   "outputs": [],
   "source": [
    "type(SS.loc[1])"
   ]
  },
  {
   "cell_type": "markdown",
   "metadata": {},
   "source": [
    "Diccionario"
   ]
  },
  {
   "cell_type": "code",
   "execution_count": null,
   "metadata": {
    "collapsed": false
   },
   "outputs": [],
   "source": [
    "a.Series.keys().values"
   ]
  },
  {
   "cell_type": "code",
   "execution_count": null,
   "metadata": {
    "collapsed": true
   },
   "outputs": [],
   "source": []
  },
  {
   "cell_type": "markdown",
   "metadata": {},
   "source": [
    "[![Home](http://www.incredimail.com/images/nav%20bar/home-icon.png)](./) \n",
    "[Jupyter home](./draft.pdf)"
   ]
  }
 ],
 "metadata": {
  "kernelspec": {
   "display_name": "Python 2",
   "language": "python",
   "name": "python2"
  },
  "language_info": {
   "codemirror_mode": {
    "name": "ipython",
    "version": 2
   },
   "file_extension": ".py",
   "mimetype": "text/x-python",
   "name": "python",
   "nbconvert_exporter": "python",
   "pygments_lexer": "ipython2",
   "version": "2.7.12"
  }
 },
 "nbformat": 4,
 "nbformat_minor": 0
}
