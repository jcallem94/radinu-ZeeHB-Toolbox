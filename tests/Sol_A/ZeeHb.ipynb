{
 "cells": [
  {
   "cell_type": "markdown",
   "metadata": {},
   "source": [
    "#  Modelo de ZeeHB"
   ]
  },
  {
   "cell_type": "markdown",
   "metadata": {},
   "source": [
    "Sample of notebook for specific model"
   ]
  },
  {
   "cell_type": "code",
   "execution_count": 1,
   "metadata": {
    "collapsed": false
   },
   "outputs": [
    {
     "name": "stdout",
     "output_type": "stream",
     "text": [
      "Populating the interactive namespace from numpy and matplotlib\n"
     ]
    }
   ],
   "source": [
    "%pylab inline"
   ]
  },
  {
   "cell_type": "code",
   "execution_count": 2,
   "metadata": {
    "collapsed": false
   },
   "outputs": [],
   "source": [
    "import pandas as pd\n",
    "import numpy as np\n",
    "import os, sys, inspect\n",
    "import commands\n",
    "from hep import *"
   ]
  },
  {
   "cell_type": "code",
   "execution_count": 3,
   "metadata": {
    "collapsed": true
   },
   "outputs": [],
   "source": [
    "def func(k, M1, M2, MAo, Mho, MHo, v, lam2, lam6, lam7, lam9, lam10, lamh, Muh, Mu2):\n",
    "    M12 = M1*M1; M22 = M2*M2; MAo2 = MAo*MAo; Mho2 = Mho*Mho; MHo2 = MHo*MHo; Mu22 = Mu2*Mu2; Muh2 = Muh*Muh \n",
    "    phi = 0.5*np.arcsin((4*np.pi)**2*k/(np.log(M22/M12)))\n",
    "    Mu  = (M22-M12)*np.sin(2.0*phi)/(np.sqrt(2)*v)\n",
    "    MH2 = M12*(np.sin(phi))**2+M22*(np.cos(phi))**2\n",
    "    M332 = M12*(np.cos(phi))**2+M22*(np.sin(phi))**2\n",
    "    lam1 = 0.5*(MHo2+Mho2-np.sqrt((MHo2-Mho2)**2-4.0*v**4*lam6**2))/(v**2)\n",
    "    lam3 = 2.0*(MH2-Mu22)/(v**2)\n",
    "    lam4 = 0.5*(np.sqrt((MHo2-Mho2)**2-4.0*v**4*lam6**2)+MHo2+Mho2+2.0*(MAo2-2.0*MH2))/(v**2)\n",
    "    lam5 = 0.5*(np.sqrt((MHo2-Mho2)**2-4.0*v**4*lam6**2)+MHo2+Mho2-2.0*MAo2)/(v**2)\n",
    "    lam8 = 2.0*(M332-Muh2)/(v**2)\n",
    "    return phi, Mu, lam1, lam3, lam4, lam5, lam8"
   ]
  },
  {
   "cell_type": "markdown",
   "metadata": {},
   "source": [
    "\n",
    "## Check one point"
   ]
  },
  {
   "cell_type": "code",
   "execution_count": 4,
   "metadata": {
    "collapsed": false
   },
   "outputs": [],
   "source": [
    "a=hep(MODEL='radinuZeeHB')"
   ]
  },
  {
   "cell_type": "markdown",
   "metadata": {},
   "source": [
    "`a-object` is an object with many attributes and methods. Use the tab to explore them. Some of them are\n",
    "* a.Series: [pandas](http://pandas.pydata.org/) Series object with the \"relevant\" variables \n",
    "* a.LHA: Input LesHouces file as [pyslha](https://pypi.python.org/pypi/pyslha/) object\n",
    "* a.runSPheno() -> a.LHA_out: return LHA output files as [pyslha](https://pypi.python.org/pypi/pyslha/) object\n",
    "* a.runmicromegas() -> a.runSPheno() -> Updated the `a-object`  with micrOMEGAS \"relevant\" output"
   ]
  },
  {
   "cell_type": "code",
   "execution_count": 5,
   "metadata": {
    "collapsed": false
   },
   "outputs": [
    {
     "data": {
      "text/plain": [
       "1      1.0000000E-01   # lambda1Input\n",
       "2      1.3000000E-01   # lambda2Input\n",
       "3      1.1000000E+00   # lambda3Input\n",
       "4      -5.0000000E-01  # lambda4Input\n",
       "5      5.0000000E-01   # lambda5Input\n",
       "6      0.000000E+00    # lambda6Input\n",
       "7      0.000000E+00    # lambda7Input\n",
       "8      0.000000E+00    # lambda8Input\n",
       "9      0.000000E+00    # lambda9Input\n",
       "10    0.000000E+00    # lambda10Input\n",
       "11     0.000000E+00    # lambdahInput\n",
       "12          0.000000E+00    # MhInput\n",
       "13          0.000000E+00    # MuInput\n",
       "14        4.0000000E+04   # mEt2Input\n",
       "dtype: object"
      ]
     },
     "execution_count": 5,
     "metadata": {},
     "output_type": "execute_result"
    }
   ],
   "source": [
    "pd.Series(a.LHA.blocks['MINPAR'].entries)"
   ]
  },
  {
   "cell_type": "code",
   "execution_count": null,
   "metadata": {
    "collapsed": true
   },
   "outputs": [],
   "source": []
  },
  {
   "cell_type": "code",
   "execution_count": 6,
   "metadata": {
    "collapsed": false
   },
   "outputs": [],
   "source": [
    "v=a.vev\n",
    "k = 1.0E-04\n",
    "M1 = 100.0\n",
    "M2 = 500.0\n",
    "MAo = 75.0\n",
    "Mho = 125.0\n",
    "MHo = 500.0\n",
    "lam2 = 1.3000000E-01    # lambda2Input\n",
    "lam6 = 1.000000E-03    # lambda6Input\n",
    "lam7 = 0.000000E+00    # lambda7Input\n",
    "lam9 = 0.000000E+00    # lambda9Input\n",
    "lam10 = 0.000000E+00    # lambda10Input\n",
    "lamh = 0.000000E+00    # lambdahInput\n",
    "Muh = 1.000000E+04    # MhInput\n",
    "Mu2 = 4.0000000E+04    # mEt2Input\n",
    "\n",
    "phi, Mu, lam1, lam3, lam4, lam5, lam8 = func(k, M1, M2, MAo, Mho, MHo, v, lam2, lam6, lam7, lam9, lam10, lamh, Muh, Mu2)\n",
    "\n",
    "devnull=commands.getoutput('rm -f SPheno.spc.%s' %a.MODEL)\n",
    "\n",
    "a.LHA.blocks['SPHENOINPUT'].entries[55]='0               # Calculate one loop masses'\n",
    "a.LHA.blocks['MINPAR'][1]='%0.8E       #lambda1Input' %lam1\n",
    "a.LHA.blocks['MINPAR'][2]='%0.8E       #lambda2Input' %lam2\n",
    "a.LHA.blocks['MINPAR'][3]='%0.8E       #lambda3Input' %lam3\n",
    "a.LHA.blocks['MINPAR'][4]='%0.8E       #lambda4Input' %lam4\n",
    "a.LHA.blocks['MINPAR'][5]='%0.8E       #lambda5Input' %lam5\n",
    "a.LHA.blocks['MINPAR'][6]='%0.8E       #lambda6Input' %lam6\n",
    "a.LHA.blocks['MINPAR'][7]='%0.8E       #lambda7Input' %lam7\n",
    "a.LHA.blocks['MINPAR'][8]='%0.8E       #lambda8Input' %lam8\n",
    "a.LHA.blocks['MINPAR'][9]='%0.8E       #lambda9Input' %lam9\n",
    "a.LHA.blocks['MINPAR'][10]='%0.8E      #lambda10Input'%lam10\n",
    "a.LHA.blocks['MINPAR'][11]='%0.8E      #lambdahInput' %lamh\n",
    "a.LHA.blocks['MINPAR'][12]='%0.8E      #MhInput'      %(Muh*Muh)\n",
    "a.LHA.blocks['MINPAR'][13]='%0.8E      #MuInput'      %(Mu*Mu)\n",
    "a.LHA.blocks['MINPAR'][14]='%0.8E      #mEt2Input'    %(Mu2*Mu2)"
   ]
  },
  {
   "cell_type": "code",
   "execution_count": 7,
   "metadata": {
    "collapsed": false
   },
   "outputs": [
    {
     "data": {
      "text/plain": [
       "(1, 1)    0.000000E+00    # Yh(1,1)\n",
       "(1, 2)    0.000000E+00    # Yh(1,2)\n",
       "(1, 3)    0.000000E+00    # Yh(1,3)\n",
       "(2, 1)    0.000000E+00    # Yh(2,1)\n",
       "(2, 2)    0.000000E+00    # Yh(2,2)\n",
       "(2, 3)    0.000000E+00    # Yh(2,3)\n",
       "(3, 1)    0.000000E+00    # Yh(3,1)\n",
       "(3, 2)    0.000000E+00    # Yh(3,2)\n",
       "(3, 3)    0.000000E+00    # Yh(3,3)\n",
       "dtype: object"
      ]
     },
     "execution_count": 7,
     "metadata": {},
     "output_type": "execute_result"
    }
   ],
   "source": [
    "pd.Series(a.LHA.blocks['YHIN'].entries)"
   ]
  },
  {
   "cell_type": "code",
   "execution_count": 45,
   "metadata": {
    "collapsed": false
   },
   "outputs": [
    {
     "data": {
      "text/html": [
       "<div>\n",
       "<table border=\"1\" class=\"dataframe\">\n",
       "  <thead>\n",
       "    <tr style=\"text-align: right;\">\n",
       "      <th></th>\n",
       "    </tr>\n",
       "  </thead>\n",
       "  <tbody>\n",
       "  </tbody>\n",
       "</table>\n",
       "</div>"
      ],
      "text/plain": [
       "Empty DataFrame\n",
       "Columns: []\n",
       "Index: []"
      ]
     },
     "execution_count": 45,
     "metadata": {},
     "output_type": "execute_result"
    }
   ],
   "source": [
    "df=pd.DataFrame()\n",
    "df"
   ]
  },
  {
   "cell_type": "markdown",
   "metadata": {},
   "source": [
    "for i in something...."
   ]
  },
  {
   "cell_type": "code",
   "execution_count": 8,
   "metadata": {
    "collapsed": true
   },
   "outputs": [],
   "source": [
    "Yh12 =  4.36932145426E-04    # Yh(1,2)\n",
    "Yh13 = -5.26389893593E-07    # Yh(1,3)\n",
    "Yh21 = -4.36932145426E-04    # Yh(2,1)\n",
    "Yh23 =  2.62820037012E-07    # Yh(2,3)\n",
    "Yh31 =  5.26389893593E-07    # Yh(3,1)\n",
    "Yh32 =  2.62820037012E-07    # Yh(3,2)\n",
    "\n",
    "a.LHA.blocks['YHIN'][(1,2)]='%0.8E      # Yh(1,2)'    %Yh12\n",
    "a.LHA.blocks['YHIN'][(1,3)]='%0.8E      # Yh(1,3)'    %Yh13\n",
    "a.LHA.blocks['YHIN'][(2,1)]='%0.8E      # Yh(2,1)'    %Yh21\n",
    "a.LHA.blocks['YHIN'][(2,3)]='%0.8E      # Yh(2,3)'    %Yh23\n",
    "a.LHA.blocks['YHIN'][(3,1)]='%0.8E      # Yh(3,1)'    %Yh31\n",
    "a.LHA.blocks['YHIN'][(3,2)]='%0.8E      # Yh(3,2)'    %Yh32"
   ]
  },
  {
   "cell_type": "code",
   "execution_count": 9,
   "metadata": {
    "collapsed": false
   },
   "outputs": [
    {
     "data": {
      "text/plain": [
       "(1, 1)    0.000000E+00    # epsE(1,1)\n",
       "(1, 2)    0.000000E+00    # epsE(1,2)\n",
       "(1, 3)    0.000000E+00    # epsE(1,3)\n",
       "(2, 1)    0.000000E+00    # epsE(2,1)\n",
       "(2, 2)    0.000000E+00    # epsE(2,2)\n",
       "(2, 3)    0.000000E+00    # epsE(2,3)\n",
       "(3, 1)    0.000000E+00    # epsE(3,1)\n",
       "(3, 2)    0.000000E+00    # epsE(3,2)\n",
       "(3, 3)    0.000000E+00    # epsE(3,3)\n",
       "dtype: object"
      ]
     },
     "execution_count": 9,
     "metadata": {},
     "output_type": "execute_result"
    }
   ],
   "source": [
    "pd.Series(a.LHA.blocks['EPSEIN'].entries)"
   ]
  },
  {
   "cell_type": "code",
   "execution_count": 10,
   "metadata": {
    "collapsed": false
   },
   "outputs": [],
   "source": [
    "epsE11 =  0.000000E-00         # epsE(1,1)\n",
    "epsE12 =  1.000000E-07         # epsE(1,2)\n",
    "epsE13 = -1.24179854867E-03    # epsE(1,3)\n",
    "epsE21 =  0.000000E-00         # epsE(2,1)\n",
    "epsE22 =  1.000000E-04         # epsE(2,2)\n",
    "epsE23 =  0.000000E-00         # epsE(2,3)\n",
    "epsE31 =  0.000000E-00         # epsE(3,1)\n",
    "epsE32 =  0.000000E-00         # epsE(3,2)\n",
    "epsE33 =  5.000000E-03         # epsE(3,3)\n",
    "\n",
    "a.LHA.blocks['EPSEIN'][(1,1)]='%0.8E      # epsE(1,1)'    %epsE11\n",
    "a.LHA.blocks['EPSEIN'][(1,2)]='%0.8E      # epsE(1,2)'    %epsE12\n",
    "a.LHA.blocks['EPSEIN'][(1,3)]='%0.8E      # epsE(1,3)'    %epsE13\n",
    "a.LHA.blocks['EPSEIN'][(2,1)]='%0.8E      # epsE(2,1)'    %epsE21\n",
    "a.LHA.blocks['EPSEIN'][(2,2)]='%0.8E      # epsE(2,2)'    %epsE22\n",
    "a.LHA.blocks['EPSEIN'][(2,3)]='%0.8E      # epsE(2,3)'    %epsE23\n",
    "a.LHA.blocks['EPSEIN'][(3,1)]='%0.8E      # epsE(3,1)'    %epsE31\n",
    "a.LHA.blocks['EPSEIN'][(3,2)]='%0.8E      # epsE(3,2)'    %epsE32\n",
    "a.LHA.blocks['EPSEIN'][(3,3)]='%0.8E      # epsE(3,3)'    %epsE33\n",
    "\n",
    "moc=a.runSPheno()"
   ]
  },
  {
   "cell_type": "code",
   "execution_count": 30,
   "metadata": {
    "collapsed": false
   },
   "outputs": [
    {
     "data": {
      "text/plain": [
       "GFFermiconstant    1.166370e-05\n",
       "Zbosonpolemass     9.118870e+01\n",
       "alphasMZSMMSbar    1.187000e-01\n",
       "mbmbSMMSbar        4.180000e+00\n",
       "mtaupole           1.776690e+00\n",
       "mtoppole           1.735000e+02\n",
       "Mh                 1.000000e+08\n",
       "Mu                 1.143339e+01\n",
       "lambda1            2.577341e-01\n",
       "lambda10           0.000000e+00\n",
       "lambda2            1.300000e-01\n",
       "lambda3           -5.277563e+04\n",
       "lambda4           -4.030909e+00\n",
       "lambda5            4.030956e+00\n",
       "lambda6            1.000000e-03\n",
       "lambda7            0.000000e+00\n",
       "lambda8           -3.298663e+03\n",
       "lambda9            0.000000e+00\n",
       "lambdah            0.000000e+00\n",
       "mEt2               1.600000e+09\n",
       "epsD11             0.000000e+00\n",
       "epsD12             0.000000e+00\n",
       "epsD13             0.000000e+00\n",
       "epsD21             0.000000e+00\n",
       "epsD22             0.000000e+00\n",
       "epsD23             0.000000e+00\n",
       "epsD31             0.000000e+00\n",
       "epsD32             0.000000e+00\n",
       "epsD33             0.000000e+00\n",
       "epsE11             0.000000e+00\n",
       "epsE12             1.000000e-07\n",
       "epsE13            -1.241799e-03\n",
       "epsE21             0.000000e+00\n",
       "epsE22             1.000000e-04\n",
       "epsE23             0.000000e+00\n",
       "epsE31             0.000000e+00\n",
       "epsE32             0.000000e+00\n",
       "epsE33             5.000000e-03\n",
       "epsU11             0.000000e+00\n",
       "epsU12             0.000000e+00\n",
       "epsU13             0.000000e+00\n",
       "epsU21             0.000000e+00\n",
       "epsU22             0.000000e+00\n",
       "epsU23             0.000000e+00\n",
       "epsU31             0.000000e+00\n",
       "epsU32             0.000000e+00\n",
       "epsU33             0.000000e+00\n",
       "Yh11               0.000000e+00\n",
       "Yh12               4.369321e-04\n",
       "Yh13              -5.263899e-07\n",
       "Yh21              -4.369321e-04\n",
       "Yh22               0.000000e+00\n",
       "Yh23               2.628200e-07\n",
       "Yh31               5.263899e-07\n",
       "Yh32               2.628200e-07\n",
       "Yh33               0.000000e+00\n",
       "dtype: float64"
      ]
     },
     "execution_count": 30,
     "metadata": {},
     "output_type": "execute_result"
    }
   ],
   "source": [
    "a.Series"
   ]
  },
  {
   "cell_type": "code",
   "execution_count": 31,
   "metadata": {
    "collapsed": false
   },
   "outputs": [],
   "source": [
    "a.Series=a.Series.append(block_to_series(a.LHA_out_with_comments.blocks['MASS']))"
   ]
  },
  {
   "cell_type": "code",
   "execution_count": 15,
   "metadata": {
    "collapsed": false
   },
   "outputs": [
    {
     "data": {
      "text/plain": [
       "[4, 6, 13, 15, 1, 23, 24, 25, 35, 37, 900037, 36, 3, 5, 2, 11, 12, 14, 16]"
      ]
     },
     "execution_count": 15,
     "metadata": {},
     "output_type": "execute_result"
    }
   ],
   "source": [
    "a.branchings(a.LHA_out.decays,min_pdg=25)"
   ]
  },
  {
   "cell_type": "code",
   "execution_count": 42,
   "metadata": {
    "collapsed": false
   },
   "outputs": [],
   "source": [
    "a.Series=a.Series.append(a.Br_names)"
   ]
  },
  {
   "cell_type": "code",
   "execution_count": 43,
   "metadata": {
    "collapsed": false
   },
   "outputs": [],
   "source": [
    "a.Series=a.Series.append(block_to_series(a.LHA_out_with_comments.blocks['FLAVORKITLFV']))"
   ]
  },
  {
   "cell_type": "code",
   "execution_count": 44,
   "metadata": {
    "collapsed": false
   },
   "outputs": [
    {
     "data": {
      "text/plain": [
       "(171,)"
      ]
     },
     "execution_count": 44,
     "metadata": {},
     "output_type": "execute_result"
    }
   ],
   "source": [
    "a.Series.shape"
   ]
  },
  {
   "cell_type": "code",
   "execution_count": 46,
   "metadata": {
    "collapsed": true
   },
   "outputs": [],
   "source": [
    "df=df.append(a.Series,ignore_index=True)"
   ]
  },
  {
   "cell_type": "code",
   "execution_count": 47,
   "metadata": {
    "collapsed": false
   },
   "outputs": [
    {
     "data": {
      "text/html": [
       "<div>\n",
       "<table border=\"1\" class=\"dataframe\">\n",
       "  <thead>\n",
       "    <tr style=\"text-align: right;\">\n",
       "      <th></th>\n",
       "      <th>BRZemu</th>\n",
       "      <th>BRZetau</th>\n",
       "      <th>BRZmutau</th>\n",
       "      <th>BRhemu</th>\n",
       "      <th>BRhetau</th>\n",
       "      <th>BRhmutau</th>\n",
       "      <th>BRmu3e</th>\n",
       "      <th>BRmuegamma</th>\n",
       "      <th>BRtau3e</th>\n",
       "      <th>BRtau3mu</th>\n",
       "      <th>...</th>\n",
       "      <th>lambda5</th>\n",
       "      <th>lambda6</th>\n",
       "      <th>lambda7</th>\n",
       "      <th>lambda8</th>\n",
       "      <th>lambda9</th>\n",
       "      <th>lambdah</th>\n",
       "      <th>mEt2</th>\n",
       "      <th>mbmbSMMSbar</th>\n",
       "      <th>mtaupole</th>\n",
       "      <th>mtoppole</th>\n",
       "    </tr>\n",
       "  </thead>\n",
       "  <tbody>\n",
       "    <tr>\n",
       "      <th>0</th>\n",
       "      <td>2.038528e-28</td>\n",
       "      <td>7.858453e-17</td>\n",
       "      <td>2.853485e-26</td>\n",
       "      <td>9.819309e-17</td>\n",
       "      <td>1.563187e-08</td>\n",
       "      <td>4.454783e-31</td>\n",
       "      <td>2.620055e-27</td>\n",
       "      <td>3.099267e-25</td>\n",
       "      <td>1.344315e-16</td>\n",
       "      <td>1.479557e-26</td>\n",
       "      <td>...</td>\n",
       "      <td>4.030956</td>\n",
       "      <td>0.001</td>\n",
       "      <td>0.0</td>\n",
       "      <td>-3298.6626</td>\n",
       "      <td>0.0</td>\n",
       "      <td>0.0</td>\n",
       "      <td>1.600000e+09</td>\n",
       "      <td>4.18</td>\n",
       "      <td>1.77669</td>\n",
       "      <td>173.5</td>\n",
       "    </tr>\n",
       "  </tbody>\n",
       "</table>\n",
       "<p>1 rows × 171 columns</p>\n",
       "</div>"
      ],
      "text/plain": [
       "         BRZemu       BRZetau      BRZmutau        BRhemu       BRhetau  \\\n",
       "0  2.038528e-28  7.858453e-17  2.853485e-26  9.819309e-17  1.563187e-08   \n",
       "\n",
       "       BRhmutau        BRmu3e    BRmuegamma       BRtau3e      BRtau3mu  \\\n",
       "0  4.454783e-31  2.620055e-27  3.099267e-25  1.344315e-16  1.479557e-26   \n",
       "\n",
       "     ...      lambda5  lambda6  lambda7    lambda8  lambda9  lambdah  \\\n",
       "0    ...     4.030956    0.001      0.0 -3298.6626      0.0      0.0   \n",
       "\n",
       "           mEt2  mbmbSMMSbar  mtaupole  mtoppole  \n",
       "0  1.600000e+09         4.18   1.77669     173.5  \n",
       "\n",
       "[1 rows x 171 columns]"
      ]
     },
     "execution_count": 47,
     "metadata": {},
     "output_type": "execute_result"
    }
   ],
   "source": [
    "df"
   ]
  },
  {
   "cell_type": "code",
   "execution_count": 52,
   "metadata": {
    "collapsed": true
   },
   "outputs": [],
   "source": [
    "df=df.fillna(0)"
   ]
  },
  {
   "cell_type": "markdown",
   "metadata": {},
   "source": [
    "end for"
   ]
  },
  {
   "cell_type": "code",
   "execution_count": 53,
   "metadata": {
    "collapsed": true
   },
   "outputs": [],
   "source": [
    "df.to_csv('resultado.csv',index=False)"
   ]
  },
  {
   "cell_type": "code",
   "execution_count": 56,
   "metadata": {
    "collapsed": false
   },
   "outputs": [],
   "source": [
    "df=pd.read_csv('resultado.csv')\n",
    "df=df.fillna(0)"
   ]
  },
  {
   "cell_type": "markdown",
   "metadata": {},
   "source": [
    "[![Home](http://www.incredimail.com/images/nav%20bar/home-icon.png)](./) \n",
    "[Jupyter home](./draft.pdf)"
   ]
  },
  {
   "cell_type": "code",
   "execution_count": 59,
   "metadata": {
    "collapsed": false
   },
   "outputs": [
    {
     "data": {
      "text/plain": [
       "[<matplotlib.lines.Line2D at 0x7f43c1832690>]"
      ]
     },
     "execution_count": 59,
     "metadata": {},
     "output_type": "execute_result"
    },
    {
     "data": {
      "image/png": "[encoded data removed]",
      "text/plain": [
       "<matplotlib.figure.Figure at 0x7f43caad09d0>"
      ]
     },
     "metadata": {},
     "output_type": "display_data"
    }
   ],
   "source": [
    "plt.plot(df.Hm2,df['BRmuegamma'],'ro')"
   ]
  },
  {
   "cell_type": "code",
   "execution_count": 27,
   "metadata": {
    "collapsed": true
   },
   "outputs": [],
   "source": [
    "%pycat hep.py"
   ]
  },
  {
   "cell_type": "markdown",
   "metadata": {},
   "source": [
    "Intro Pandas"
   ]
  },
  {
   "cell_type": "markdown",
   "metadata": {},
   "source": [
    "DataFrame"
   ]
  },
  {
   "cell_type": "code",
   "execution_count": 35,
   "metadata": {
    "collapsed": false
   },
   "outputs": [
    {
     "data": {
      "text/html": [
       "<div>\n",
       "<table border=\"1\" class=\"dataframe\">\n",
       "  <thead>\n",
       "    <tr style=\"text-align: right;\">\n",
       "      <th></th>\n",
       "      <th>A</th>\n",
       "      <th>B</th>\n",
       "    </tr>\n",
       "  </thead>\n",
       "  <tbody>\n",
       "    <tr>\n",
       "      <th>0</th>\n",
       "      <td>1</td>\n",
       "      <td>4</td>\n",
       "    </tr>\n",
       "    <tr>\n",
       "      <th>1</th>\n",
       "      <td>2</td>\n",
       "      <td>3</td>\n",
       "    </tr>\n",
       "  </tbody>\n",
       "</table>\n",
       "</div>"
      ],
      "text/plain": [
       "   A  B\n",
       "0  1  4\n",
       "1  2  3"
      ]
     },
     "execution_count": 35,
     "metadata": {},
     "output_type": "execute_result"
    }
   ],
   "source": [
    "SS=pd.DataFrame({'A':[1,2],'B':[4,3]})\n",
    "SS"
   ]
  },
  {
   "cell_type": "markdown",
   "metadata": {},
   "source": [
    "Series"
   ]
  },
  {
   "cell_type": "code",
   "execution_count": 41,
   "metadata": {
    "collapsed": false
   },
   "outputs": [
    {
     "data": {
      "text/plain": [
       "A    2\n",
       "B    3\n",
       "Name: 1, dtype: int64"
      ]
     },
     "execution_count": 41,
     "metadata": {},
     "output_type": "execute_result"
    }
   ],
   "source": [
    "SS.loc[1]"
   ]
  },
  {
   "cell_type": "code",
   "execution_count": 40,
   "metadata": {
    "collapsed": false
   },
   "outputs": [
    {
     "data": {
      "text/plain": [
       "pandas.core.series.Series"
      ]
     },
     "execution_count": 40,
     "metadata": {},
     "output_type": "execute_result"
    }
   ],
   "source": [
    "type(SS.loc[1])"
   ]
  },
  {
   "cell_type": "markdown",
   "metadata": {},
   "source": [
    "Diccionario"
   ]
  },
  {
   "cell_type": "code",
   "execution_count": 58,
   "metadata": {
    "collapsed": false
   },
   "outputs": [
    {
     "data": {
      "text/plain": [
       "array(['GFFermiconstant', 'Zbosonpolemass', 'alphasMZSMMSbar',\n",
       "       'mbmbSMMSbar', 'mtaupole', 'mtoppole', 'Mh', 'Mu', 'lambda1',\n",
       "       'lambda10', 'lambda2', 'lambda3', 'lambda4', 'lambda5', 'lambda6',\n",
       "       'lambda7', 'lambda8', 'lambda9', 'lambdah', 'mEt2', 'epsD11',\n",
       "       'epsD12', 'epsD13', 'epsD21', 'epsD22', 'epsD23', 'epsD31',\n",
       "       'epsD32', 'epsD33', 'epsE11', 'epsE12', 'epsE13', 'epsE21',\n",
       "       'epsE22', 'epsE23', 'epsE31', 'epsE32', 'epsE33', 'epsU11',\n",
       "       'epsU12', 'epsU13', 'epsU21', 'epsU22', 'epsU23', 'epsU31',\n",
       "       'epsU32', 'epsU33', 'Yh11', 'Yh12', 'Yh13', 'Yh21', 'Yh22', 'Yh23',\n",
       "       'Yh31', 'Yh32', 'Yh33', 'Fd1', 'Fd2', 'Fd3', 'Fe1', 'Fe2', 'Fe3',\n",
       "       'Fu1', 'Fu2', 'Fu3', 'Fv1', 'Fv2', 'Fv3', 'Hm2', 'Hm3', 'VWp', 'VZ',\n",
       "       'etI', 'hh1', 'hh2', 'hh_2 ->  GLUE GLUE', 'hh_2 ->  TAU+ E-',\n",
       "       'hh_2 ->  CBAR U', 'hh_2 ->  BBAR B', 'hh_2 ->  CBAR T',\n",
       "       'hh_2 ->  W+ W-', 'hh_2 ->  TBAR C', 'hh_2 ->  MU+ MU-',\n",
       "       'hh_2 ->  UBAR T', 'hh_2 ->  E+ TAU-', 'hh_2 ->  UBAR U',\n",
       "       'hh_2 ->  h0 h0', 'hh_2 ->  etI Z0', 'hh_2 ->  Hm Hm_2',\n",
       "       'hh_2 ->  Hm W-', 'hh_2 ->  CBAR C', 'hh_2 ->  PHOT PHOT',\n",
       "       'hh_2 ->  etI etI', 'hh_2 ->  Z0 Z0', 'hh_2 ->  Hm_2 W+',\n",
       "       'hh_2 ->  TBAR U', 'hh_2 ->  UBAR C', 'hh_2 ->  TBAR T',\n",
       "       'hh_2 ->  TAU+ TAU-', 'Hm_2 ->  E+ NUM', 'Hm_2 ->  TAU+ NUE',\n",
       "       'Hm_2 ->  DBAR U', 'Hm_2 ->  MU+ NUM', 'Hm_2 ->  MU+ NUE',\n",
       "       'Hm_2 ->  E+ NUT', 'Hm_2 ->  SBAR C', 'Hm_2 ->  TAU+ NUT',\n",
       "       'h0 ->  SBAR S', 'h0 ->  DBAR D', 'h0 ->  W- W+',\n",
       "       'h0 ->  GLUE GLUE', 'h0 ->  PHOT PHOT', 'h0 ->  MU+ MU-',\n",
       "       'h0 ->  Z0 Z0', 'h0 ->  E+ E-', 'h0 ->  CBAR U', 'h0 ->  CBAR C',\n",
       "       'h0 ->  TAU+ E-', 'h0 ->  BBAR B', 'h0 ->  UBAR C',\n",
       "       'h0 ->  E+ TAU-', 'h0 ->  TAU+ TAU-', 'etI ->  E+ TAU-',\n",
       "       'etI ->  TAU+ E-', 'etI ->  MU+ E-', 'etI ->  CBAR C',\n",
       "       'etI ->  UBAR U', 'etI ->  MU+ MU-', 'etI ->  E+ MU-',\n",
       "       'etI ->  TAU+ TAU-', 'Hm_3 ->  E+ NUM', 'Hm_3 ->  etI W-',\n",
       "       'Hm_3 ->  DBAR U', 'Hm_3 ->  BBAR T', 'Hm_3 ->  Hm_2 h0',\n",
       "       'Hm_3 ->  h0 W-', 'Hm_3 ->  MU+ NUE', 'Hm_3 ->  MU+ NUM',\n",
       "       'Hm_3 ->  E+ NUT', 'Hm_3 ->  SBAR C', 'Hm_3 ->  Hm_2 Z0',\n",
       "       'Hm_3 ->  TAU+ NUT', 'Gamma_hh_2', 'Gamma_Hm_2', 'Gamma_h0',\n",
       "       'Gamma_etI', 'Gamma_Hm_3', 'BRZemu', 'BRZetau', 'BRZmutau',\n",
       "       'BRhemu', 'BRhetau', 'BRhmutau', 'BRmu3e', 'BRmuegamma', 'BRtau3e',\n",
       "       'BRtau3mu', 'BRtaueeta', 'BRtauegamma', 'BRtauemumu', 'BRtauepi',\n",
       "       'BRtaumuee', 'BRtaumueta', 'BRtaumugamma', 'BRtaumupi', 'CRmueAl',\n",
       "       'CRmueAu', 'CRmuePb', 'CRmueSb', 'CRmueSr', 'CRmueTi'], dtype=object)"
      ]
     },
     "execution_count": 58,
     "metadata": {},
     "output_type": "execute_result"
    }
   ],
   "source": [
    "a.Series.keys().values"
   ]
  },
  {
   "cell_type": "code",
   "execution_count": null,
   "metadata": {
    "collapsed": true
   },
   "outputs": [],
   "source": []
  }
 ],
 "metadata": {
  "kernelspec": {
   "display_name": "Python 2",
   "language": "python",
   "name": "python2"
  },
  "language_info": {
   "codemirror_mode": {
    "name": "ipython",
    "version": 2
   },
   "file_extension": ".py",
   "mimetype": "text/x-python",
   "name": "python",
   "nbconvert_exporter": "python",
   "pygments_lexer": "ipython2",
   "version": "2.7.12"
  }
 },
 "nbformat": 4,
 "nbformat_minor": 0
}
