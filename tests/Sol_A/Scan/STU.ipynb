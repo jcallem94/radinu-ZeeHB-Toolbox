{
 "cells": [
  {
   "cell_type": "code",
   "execution_count": 1,
   "metadata": {
    "collapsed": false
   },
   "outputs": [
    {
     "name": "stdout",
     "output_type": "stream",
     "text": [
      "Populating the interactive namespace from numpy and matplotlib\n"
     ]
    }
   ],
   "source": [
    "%pylab inline"
   ]
  },
  {
   "cell_type": "code",
   "execution_count": 2,
   "metadata": {
    "collapsed": true
   },
   "outputs": [],
   "source": [
    "import pandas as pd\n",
    "import numpy as np\n",
    "import scipy as sp\n",
    "import os, sys, inspect\n",
    "import commands\n",
    "import hep as hp\n",
    "\n",
    "gamma = 0.577\n",
    "d = 3.999\n",
    "Delta = 2.0/(4.0-d)+np.log(4.0*np.pi)-gamma"
   ]
  },
  {
   "cell_type": "code",
   "execution_count": 3,
   "metadata": {
    "collapsed": true
   },
   "outputs": [],
   "source": [
    "def func(s2phi, M1, M2, MAo, Mho, MHo, v, lam2, lam3, lam6, lam7, lam8, lam9, lam10, lamh):\n",
    "    M12 = M1*M1; M22 = M2*M2; MAo2 = MAo*MAo; Mho2 = Mho*Mho; MHo2 = MHo*MHo;\n",
    "    k = s2phi*np.log(M22/M12)/(4.*np.pi)**2\n",
    "    phi = 0.5*np.arcsin(s2phi)\n",
    "    ba = 0.5*np.arcsin(-2.0*v*v*lam6/(MHo2-Mho2))\n",
    "    Mu  = (M22-M12)*s2phi/(np.sqrt(2.0)*v)\n",
    "    MH2 = M12*(np.sin(phi))**2+M22*(np.cos(phi))**2\n",
    "    M332 = M12*(np.cos(phi))**2+M22*(np.sin(phi))**2\n",
    "    lam1 = 0.5*(MHo2+Mho2-np.sqrt((MHo2-Mho2)**2-4.0*v**4*lam6**2))/(v**2)\n",
    "    Mu22 = MH2-0.5*lam3*(v**2)\n",
    "    Muh2 = M332-0.5*lam8*(v**2)\n",
    "    lam4 = 0.5*(np.sqrt((MHo2-Mho2)**2-4.0*v**4*lam6**2)+MHo2+Mho2+2.0*(MAo2-2.0*MH2))/(v**2)\n",
    "    lam5 = 0.5*(np.sqrt((MHo2-Mho2)**2-4.0*v**4*lam6**2)+MHo2+Mho2-2.0*MAo2)/(v**2)        \n",
    "    return k, Mu, Muh2, Mu22, lam1, lam4, lam5, phi, ba"
   ]
  },
  {
   "cell_type": "code",
   "execution_count": 4,
   "metadata": {
    "collapsed": true
   },
   "outputs": [],
   "source": [
    "def F(m12, m22):\n",
    "    Fo = 0.5*(m12+m22)-((m12*m22)/(m12-m22))*np.log(m12/m22)\n",
    "    return Fo\n",
    "\n",
    "def T(phi, ba, M1, M2, MAo, Mho, MHo, alpha_em = 1./128., v=246.0, Mz=91.1876, Mw=80.385 ):\n",
    "    Sphi2 = np.sin(phi)*np.sin(phi); Cphi2 = np.cos(phi)*np.cos(phi); \n",
    "    Sba2 = np.sin(ba)*np.sin(ba); Cba2 = np.cos(ba)*np.cos(ba);\n",
    "    M12 = M1*M1; M22 = M2*M2; MAo2 = MAo*MAo; Mho2 = Mho*Mho; MHo2 = MHo*MHo; Mw2 = Mw*Mw; Mz2= Mz*Mz;\n",
    "    A = 1.0/(16.0*np.pi*np.pi*alpha_em*v*v)\n",
    "    B = Cba2*F(M12,Mho2)+Sba2*F(M12,MHo2)+F(M12,MAo2)\n",
    "    C = Cba2*F(M22,Mho2)+Sba2*F(M22,MHo2)+F(M22,MAo2)\n",
    "    D = 0.5*Sphi2*Cphi2*F(M12,M22)+Cba2*F(Mho2,MAo2)+Sba2*F(MHo2,MAo2)\n",
    "    E = F(Mz2,MHo2)-F(Mw2,MHo2)-F(Mz2,Mho2)+F(Mw2,Mho2)\n",
    "    y = A*(Cphi2*B+Sphi2*C-D+3.0*Cba2*E)\n",
    "    return y\n"
   ]
  },
  {
   "cell_type": "code",
   "execution_count": 5,
   "metadata": {
    "collapsed": false
   },
   "outputs": [],
   "source": [
    "def W(q2, m2):    \n",
    "    w = np.sqrt(4.0*m2-q2)\n",
    "    return w\n",
    "\n",
    "def Y(q2, m1, m2):\n",
    "    y = np.sqrt(((m1+m2)*(m1+m2)-q2)*((m1-m2)*(m1-m2)-q2))\n",
    "    return y\n",
    "\n",
    "def Yo(q2, m1, m2):\n",
    "    y = np.sqrt(((m1+m2)*(m1+m2)-q2)*(q2-(m1-m2)*(m1-m2)))\n",
    "    return y\n",
    "\n",
    "def Z(q2, m2):\n",
    "    z = np.sqrt(4.0*q2-m2)\n",
    "    return z\n",
    "\n",
    "def Zo(q2, m2):\n",
    "    z = np.sqrt(m2-4.0*q2)\n",
    "    return z\n",
    "    \n",
    "def B22(q, m1, m2):\n",
    "    m12 = m1*m1; m22 = m2*m2; q2 = q*q;\n",
    "    if(q==m1):\n",
    "        if(q<m2/2 and q>0):\n",
    "            A = (m22-q2)**3/(q2*q2)-3.0*(m22*m22-q2*q2)/q2+3.0*(m22*m22+q2*q2)/(m22-q2)\n",
    "            B = 8.0/3.0+Delta-np.log(m1*m2)\n",
    "            b = 1.0/12.0*(3.0*q2/2.0+9.0*m22/2.0-m22*m22/q2-m2*m22*(Zo(q2,m22))**3*np.log((m2+Zo(q2,m22))/(m2-Zo(q2,m22)))/(q2*q2)+A*np.log(m2/m1)-B*q2)\n",
    "            return b\n",
    "        else:\n",
    "            A = (m22-q2)**3/(q2*q2)-3.0*(m22*m22-q2*q2)/q2+3.0*(m22*m22+q2*q2)/(m22-q2)\n",
    "            B = 8.0/3.0+Delta-np.log(m1*m2)\n",
    "            b = 1.0/12.0*(3.0*q2/2.0+9.0*m22/2.0-m22*m22/q2-m2*m22*(Z(q2,m22))**3*np.arctan2(Z(q2,m22),m2)/(q2*q2)+A*np.log(m2/m1)-B*q2)\n",
    "            return b\n",
    "    if(m1==m2):\n",
    "        A = 8.0/3.0+Delta-2.0*np.log(m1)\n",
    "        b = 1.0/12.0*(8.0*m12-2.0*(W(q2,m12))**3*np.arctan2(q,W(q2,m12))/q-A*q2)\n",
    "        return b\n",
    "    else:    \n",
    "        if((m1-m2)*(m1-m2) > q2):\n",
    "            A = -(m12-m22)*(m12-m22)/q2+5.0/2.0*(m12+m22)\n",
    "            B = (Y(q2,m1,m2))**3/(2.0*q2*q2)*np.log((m12+m22-q2+Y(q2,m1,m2))/(m12+m22-q2-Y(q2,m1,m2)))\n",
    "            C = (m12-m22)**3/(q2*q2)-3.0*(m12*m12-m22*m22)/q2+3.0*(m12*m12+m22*m22)/(m12-m22)\n",
    "            D = 8.0/3.0+Delta-np.log(m1*m2)\n",
    "            b = 1.0/12.0*(A-B+C*np.log(m1/m2)-D*q2)\n",
    "            return b\n",
    "        else:\n",
    "            A = -(m12-m22)*(m12-m22)/q2+5.0/2.0*(m12+m22)\n",
    "            B = (Yo(q2,m1,m2))**3/(2.0*q2*q2)*np.arctan2(((m12+m22-q2)*Yo(q2,m1,m2)),((m12+m22-q2)*(m12+m22-q2)-2.0*m12*m22))\n",
    "            C = (m12-m22)**3/(q2*q2)-3.0*(m12*m12-m22*m22)/q2+3.0*(m12*m12+m22*m22)/(m12-m22)\n",
    "            D = 8.0/3.0+Delta-np.log(m1*m2)\n",
    "            b = 1.0/12.0*(A-B+C*np.log(m1/m2)-D*q2)\n",
    "            return b\n",
    "    \n",
    "def Bo(q, m1, m2):\n",
    "    m12 = m1*m1; m22 = m2*m2; q2 = q*q;\n",
    "    if(q==m1):\n",
    "        if(q<m2/2 and q>0):\n",
    "            A = m22/q2*(m22-3.0*q2)/(m22-q2)*np.log(m2/q)\n",
    "            b = 1.0+m1*Zo(q2,m22)*np.log((m2+Zo(q2,m22))/(m2-Zo(q2,m22)))/q2-A\n",
    "            return b\n",
    "        else:\n",
    "            A = m22/q2*(m22-3.0*q2)/(m22-q2)*np.log(m2/q)\n",
    "            b = 1.0-m1*Z(q2,m22)*np.arctan2(Z(q2,m22),m2)/q2-A\n",
    "            return b\n",
    "    if(m1==m2):\n",
    "        b = 2.0-2.0*W(q2,m12)*np.arctan2(q,W(q2,m12))/q\n",
    "        return b\n",
    "    else:\n",
    "        if((m1-m2)*(m1-m2) > q2):\n",
    "            A = ((m12+m22)*q2-(m12-m22)*(m12-m22))/((m12-m22)*q2)\n",
    "            B = Y(q2,m1,m2)/(2.0*q2)*np.log((m12+m22-q2+Y(q2,m1,m2))/(m12+m22-q2-Y(q2,m1,m2)))\n",
    "            b = 1.0+B+A*np.log(m1/m2)\n",
    "            return b\n",
    "        else:\n",
    "            A = ((m12+m22)*q2-(m12-m22)*(m12-m22))/((m12-m22)*q2)\n",
    "            B = Yo(q2,m1,m2)/(2.0*q2)*np.arctan2(((m12+m22-q2)*Yo(q2,m1,m2)),((m12+m22-q2)*(m12+m22-q2)-2.0*m12*m22))\n",
    "            b = 1.0-B+A*np.log(m1/m2)\n",
    "            return b\n",
    "        \n",
    "def S(phi, ba, M1, M2, MAo, Mho, MHo, v=246.0, Mz=91.1876, Mw=80.385):\n",
    "    Sphi2 = np.sin(phi)*np.sin(phi); Cphi2 = np.cos(phi)*np.cos(phi); \n",
    "    Sba2 = np.sin(ba)*np.sin(ba); Cba2 = np.cos(ba)*np.cos(ba); C2phi = np.cos(2.0*phi)\n",
    "    M12 = M1*M1; M22 = M2*M2; MAo2 = MAo*MAo; Mho2 = Mho*Mho; MHo2 = MHo*MHo; Mw2 = Mw*Mw; Mz2= Mz*Mz;\n",
    "    A = 1.0/(np.pi*Mz2)\n",
    "    B = B22(Mz,Mho,MAo)+B22(Mz,Mz,MHo)-B22(Mz,Mz,Mho)#-Mz2*Bo(Mz,Mz,MHo)+Mz2*Bo(Mz,Mz,Mho)\n",
    "    C = Sba2*B22(Mz,MHo,MAo)+2.0*Sphi2*Cphi2*B22(Mz,M1,M2)\n",
    "    D = 0.5*Cphi2*(C2phi-3.0)*B22(Mz,M1,M1)-0.5*Sphi2*(C2phi+3.0)*B22(Mz,M2,M2)\n",
    "    y = A*(C+Cba2*B+D)\n",
    "    return y\n",
    "\n",
    "def U(phi, ba, M1, M2, MAo, Mho, MHo, v=246.0, Mz=91.1876, Mw=80.385):\n",
    "    Sphi2 = np.sin(phi)*np.sin(phi); Cphi2 = np.cos(phi)*np.cos(phi); \n",
    "    Sba2 = np.sin(ba)*np.sin(ba); Cba2 = np.cos(ba)*np.cos(ba); C2phi = np.cos(2.0*phi)\n",
    "    M12 = M1*M1; M22 = M2*M2; MAo2 = MAo*MAo; Mho2 = Mho*Mho; MHo2 = MHo*MHo; Mw2 = Mw*Mw; Mz2= Mz*Mz;\n",
    "    A = 1.0/(np.pi*Mw2)\n",
    "    B = B22(Mw,M1,MAo)+Sba2*B22(Mw,M1,MHo)+Cba2*B22(Mw,Mho,M1)\n",
    "    C = B22(Mw,M2,MAo)+Sba2*B22(Mw,M2,MHo)+Cba2*B22(Mw,Mho,M2)\n",
    "    D = B22(Mw,Mw,MHo)-B22(Mw,Mw,Mho)-Mw2*Bo(Mw,Mw,MHo)+Mw2*Bo(Mw,Mw,Mho)\n",
    "    E = Cphi2*B22(Mw,M1,M1)+Sphi2*B22(Mw,M2,M2)\n",
    "    s = S(phi, ba, M1, M2, MAo, Mho, MHo, v, Mz, Mw)\n",
    "    y = A*(Cphi2*B+Sphi2*C+Cba2*D-2.0*E)-s\n",
    "    return y\n"
   ]
  },
  {
   "cell_type": "code",
   "execution_count": 6,
   "metadata": {
    "collapsed": false
   },
   "outputs": [
    {
     "name": "stdout",
     "output_type": "stream",
     "text": [
      "T =  0.0179202218408\n",
      "S =  0.00756566870471\n",
      "U =  3.54665545141e-05\n"
     ]
    }
   ],
   "source": [
    "v = 246.0\n",
    "s2phi = 0.0\n",
    "M1 = 700.0\n",
    "M2 = 1000.0\n",
    "MAo = 705.0\n",
    "Mho = 125.0\n",
    "MHo = 902.0\n",
    "lam2 = 1.3000000E-01    # lambda2Input\n",
    "lam3 = 1.0000000E-03    # lambda3Input\n",
    "lam6 = 0.000000E-03     # lambda6Inputd \n",
    "lam7 = 0.000000E+00     # lambda7Input\n",
    "lam8 = 0.0000000E-01    # lambda8Input\n",
    "lam9 = 0.000000E+00     # lambda9Input\n",
    "lam10 = 0.000000E+00    # lambda10Input\n",
    "lamh = 0.000000E+00     # lambdahInput\n",
    "                \n",
    "k, Mu, Muh2, Mu22, lam1, lam4, lam5, phi, ba = func(s2phi, M1, M2, MAo, Mho, MHo, v, lam2, lam3, lam6, lam7, lam8, lam9, lam10, lamh)\n",
    "\n",
    "t = T(phi, 90.0*np.pi/180.0, M1, M2, MAo, Mho, MHo, alpha_em = 1./128., v=246.0, Mz=91.1876, Mw=80.385 )\n",
    "s = S(phi, 90.0*np.pi/180.0, M1, M2, MAo, Mho, MHo, v=246.0, Mz=91.1876, Mw=80.385)\n",
    "u = U(phi, 90.0*np.pi/180.0, M1, M2, MAo, Mho, MHo, v=246.0, Mz=91.1876, Mw=80.385)\n",
    "\n",
    "print 'T = ',t\n",
    "print 'S = ',s\n",
    "print 'U = ',u"
   ]
  },
  {
   "cell_type": "code",
   "execution_count": null,
   "metadata": {
    "collapsed": true
   },
   "outputs": [],
   "source": []
  }
 ],
 "metadata": {
  "kernelspec": {
   "display_name": "Python 2",
   "language": "python",
   "name": "python2"
  },
  "language_info": {
   "codemirror_mode": {
    "name": "ipython",
    "version": 2
   },
   "file_extension": ".py",
   "mimetype": "text/x-python",
   "name": "python",
   "nbconvert_exporter": "python",
   "pygments_lexer": "ipython2",
   "version": "2.7.12"
  }
 },
 "nbformat": 4,
 "nbformat_minor": 1
}
