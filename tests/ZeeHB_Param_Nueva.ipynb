{
 "cells": [
  {
   "cell_type": "markdown",
   "metadata": {},
   "source": [
    "#  Modelo de ZeeHB"
   ]
  },
  {
   "cell_type": "markdown",
   "metadata": {},
   "source": [
    "Sample of notebook for specific model"
   ]
  },
  {
   "cell_type": "code",
   "execution_count": 1,
   "metadata": {
    "collapsed": false
   },
   "outputs": [
    {
     "name": "stdout",
     "output_type": "stream",
     "text": [
      "Populating the interactive namespace from numpy and matplotlib\n"
     ]
    }
   ],
   "source": [
    "%pylab inline"
   ]
  },
  {
   "cell_type": "code",
   "execution_count": 2,
   "metadata": {
    "collapsed": false
   },
   "outputs": [],
   "source": [
    "import pandas as pd\n",
    "import numpy as np\n",
    "import os, sys, inspect\n",
    "import commands\n",
    "import hep as hp"
   ]
  },
  {
   "cell_type": "code",
   "execution_count": 3,
   "metadata": {
    "collapsed": true
   },
   "outputs": [],
   "source": [
    "import numpy.lib.scimath as sc"
   ]
  },
  {
   "cell_type": "code",
   "execution_count": 4,
   "metadata": {
    "collapsed": true
   },
   "outputs": [],
   "source": [
    "def func(s2phi, M1, M2, MAo, Mho, MHo, v, lam2, lam6, lam7, lam9, lam10, lamh, Muh, Mu2):\n",
    "    M12 = M1*M1; M22 = M2*M2; MAo2 = MAo*MAo; Mho2 = Mho*Mho; MHo2 = MHo*MHo; Mu22 = Mu2*Mu2; Muh2 = Muh*Muh     \n",
    "    k = s2phi*np.log(M22/M12)/(4.*np.pi)**2\n",
    "    phi = 0.5*np.arcsin(s2phi)\n",
    "    Mu  = (M22-M12)*s2phi/(np.sqrt(2.0)*v)\n",
    "    MH2 = M12*(np.sin(phi))**2+M22*(np.cos(phi))**2\n",
    "    M332 = M12*(np.cos(phi))**2+M22*(np.sin(phi))**2\n",
    "    lam1 = 0.5*(MHo2+Mho2-np.sqrt((MHo2-Mho2)**2-4.0*v**4*lam6**2))/(v**2)\n",
    "    lam3 = 2.0*(MH2-Mu22)/(v**2)\n",
    "    lam4 = 0.5*(np.sqrt((MHo2-Mho2)**2-4.0*v**4*lam6**2)+MHo2+Mho2+2.0*(MAo2-2.0*MH2))/(v**2)\n",
    "    lam5 = 0.5*(np.sqrt((MHo2-Mho2)**2-4.0*v**4*lam6**2)+MHo2+Mho2-2.0*MAo2)/(v**2)\n",
    "    lam8 = 2.0*(M332-Muh2)/(v**2)\n",
    "    return k, Mu, lam1, lam3, lam4, lam5, lam8"
   ]
  },
  {
   "cell_type": "code",
   "execution_count": 5,
   "metadata": {
    "collapsed": false
   },
   "outputs": [],
   "source": [
    "a=hp.hep(MODEL='radinuZeeHB')"
   ]
  },
  {
   "cell_type": "code",
   "execution_count": 6,
   "metadata": {
    "collapsed": false
   },
   "outputs": [
    {
     "name": "stdout",
     "output_type": "stream",
     "text": [
      "[[ 0.          0.00330763  0.00838968]\n",
      " [-0.00330763  0.          0.0157395 ]\n",
      " [-0.00838968 -0.0157395   0.        ]]\n",
      "[[  1.00000000e-05   1.00000000e-04  -1.64367000e-06]\n",
      " [ -2.92587000e-01   1.00000000e-03  -2.23729000e-05]\n",
      " [  5.00000000e-04   1.00000000e-04   1.00000000e-06]]\n"
     ]
    }
   ],
   "source": [
    "Me   = 0.5109989461e-3     #Masa Electron en GeV\n",
    "Mmu  = 0.1056583745        #Masa Muon en GeV\n",
    "Mtau = 1.77686             #Masa Tauon en GeV\n",
    "\n",
    "S2Sun = .323                                                         #S2Sun: Sino square sun angle \n",
    "S2Atm = .573                                                         #S2Atm: Sino square atmospheric angle \n",
    "S2Rea = .0229                                                        #S2Rea: Sino square reactor angle \n",
    "\n",
    "t12 = np.arcsin(np.sqrt(S2Sun))                               #ThetSun: Sun Angle theta12\n",
    "t23 = np.arcsin(np.sqrt(S2Atm))                               #ThetAtm: Atmospheric Angle theta23\n",
    "t13 = np.arcsin(np.sqrt(S2Rea))                               #ThetRea: Reactor Angle theta13\n",
    "\n",
    "t12 = 33.56*np.pi/180.0 \n",
    "t13 = 8.46*np.pi/180.0 \n",
    "t23 = 41.6*np.pi/180.0\n",
    "\n",
    "f = np.zeros((3,3))\n",
    "O = np.zeros((3,3))\n",
    "\n",
    "O[0,0] = 1.0/100000.0\n",
    "O[0,1] = 1.0/10000.0\n",
    "O[0,2] = -1.64367e-6\n",
    "O[1,0] = -0.292587\n",
    "O[1,1] = 1.0/1000.0\n",
    "O[1,2] = -0.0000223729\n",
    "O[2,0] = 1.0/2000.0\n",
    "O[2,1] = 1.0/10000.0\n",
    "O[2,2] = 1.0/1000000.0\n",
    "\n",
    "f[0,1] = 0.00330763\n",
    "f[0,2] = 0.00838968\n",
    "f[1,2] = 0.0157395\n",
    "\n",
    "f[1,0] = -f[0,1]; f[2,0] = -f[0,2]; f[2,1] = -f[1,2]\n",
    "\n",
    "ft = np.zeros((3,3))\n",
    "Ot = np.zeros((3,3))\n",
    "\n",
    "print f\n",
    "print O\n",
    "Ot = O\n",
    "ft = f\n",
    "O = np.transpose(Ot)\n",
    "f = np.transpose(ft)"
   ]
  },
  {
   "cell_type": "code",
   "execution_count": 7,
   "metadata": {
    "collapsed": false
   },
   "outputs": [
    {
     "name": "stdout",
     "output_type": "stream",
     "text": [
      "7.18938581886e-05\n"
     ]
    }
   ],
   "source": [
    "v = a.vev\n",
    "s2phi = 1.4E-02\n",
    "M1 = 200.0\n",
    "M2 = 300.0\n",
    "MAo = 90.0\n",
    "Mho = 125.0\n",
    "MHo = 700.0\n",
    "lam2 = 1.3000000E-01    # lambda2Input\n",
    "lam6 = 1.000000E-03     # lambda6Inputd \n",
    "lam7 = 0.000000E+00     # lambda7Input\n",
    "lam9 = 0.000000E+00     # lambda9Input\n",
    "lam10 = 0.000000E+00    # lambda10Input\n",
    "lamh = 0.000000E+00     # lambdahInput\n",
    "Muh = 1.000000E+02      # MhInput\n",
    "Mu2 = 2.0000000E+02     # mEt2Input\n",
    "\n",
    "k, Mu, lam1, lam3, lam4, lam5, lam8 = func(s2phi, M1, M2, MAo, Mho, MHo, v, lam2, lam6, lam7, lam9, lam10, lamh, Muh, Mu2)\n",
    "print k\n",
    "devnull=commands.getoutput('rm -f SPheno.spc.%s' %a.MODEL)\n",
    "\n",
    "a.LHA.blocks['SPHENOINPUT'].entries[55]='0               # Calculate one loop masses'\n",
    "a.LHA.blocks['MINPAR'][1]='%0.8E       #lambda1Input' %lam1\n",
    "a.LHA.blocks['MINPAR'][2]='%0.8E       #lambda2Input' %lam2\n",
    "a.LHA.blocks['MINPAR'][3]='%0.8E       #lambda3Input' %lam3\n",
    "a.LHA.blocks['MINPAR'][4]='%0.8E       #lambda4Input' %lam4\n",
    "a.LHA.blocks['MINPAR'][5]='%0.8E       #lambda5Input' %lam5\n",
    "a.LHA.blocks['MINPAR'][6]='%0.8E       #lambda6Input' %lam6\n",
    "a.LHA.blocks['MINPAR'][7]='%0.8E       #lambda7Input' %lam7\n",
    "a.LHA.blocks['MINPAR'][8]='%0.8E       #lambda8Input' %lam8\n",
    "a.LHA.blocks['MINPAR'][9]='%0.8E       #lambda9Input' %lam9\n",
    "a.LHA.blocks['MINPAR'][10]='%0.8E      #lambda10Input'%lam10\n",
    "a.LHA.blocks['MINPAR'][11]='%0.8E      #lambdahInput' %lamh\n",
    "a.LHA.blocks['MINPAR'][12]='%0.8E      #MhInput'      %(Muh*Muh)\n",
    "a.LHA.blocks['MINPAR'][13]='%0.8E      #MuInput'      %Mu\n",
    "a.LHA.blocks['MINPAR'][14]='%0.8E      #mEt2Input'    %(Mu2*Mu2)"
   ]
  },
  {
   "cell_type": "code",
   "execution_count": 8,
   "metadata": {
    "collapsed": false
   },
   "outputs": [
    {
     "data": {
      "text/plain": [
       "1     2.57733920E-01       #lambda1Input\n",
       "2     1.30000000E-01       #lambda2Input\n",
       "3     1.64941544E+00       #lambda3Input\n",
       "4     5.24712835E+00       #lambda4Input\n",
       "5     7.94892241E+00       #lambda5Input\n",
       "6     1.00000000E-03       #lambda6Input\n",
       "7     0.00000000E+00       #lambda7Input\n",
       "8     9.89778593E-01       #lambda8Input\n",
       "9     0.00000000E+00       #lambda9Input\n",
       "10    0.00000000E+00      #lambda10Input\n",
       "11     0.00000000E+00      #lambdahInput\n",
       "12          1.00000000E+04      #MhInput\n",
       "13          2.01029000E+00      #MuInput\n",
       "14        4.00000000E+04      #mEt2Input\n",
       "dtype: object"
      ]
     },
     "execution_count": 8,
     "metadata": {},
     "output_type": "execute_result"
    }
   ],
   "source": [
    "pd.Series(a.LHA.blocks['MINPAR'].entries)"
   ]
  },
  {
   "cell_type": "code",
   "execution_count": 9,
   "metadata": {
    "collapsed": false
   },
   "outputs": [],
   "source": [
    "mlep=np.diag([Me,Mmu,Mtau])\n",
    "m1= 0.0  # lightest neutrino\n",
    "Yh12 = f[0,1]     # Yh(1,2)\n",
    "Yh13 = f[0,2]     # Yh(1,3)\n",
    "Yh21 = f[1,0]     # Yh(2,1)\n",
    "Yh23 = f[1,2]     # Yh(2,3)\n",
    "Yh31 = f[2,0]     # Yh(3,1)\n",
    "Yh32 = f[2,1]     # Yh(3,2)\n",
    "\n",
    "a.LHA.blocks['YHIN'][(1,2)]='%0.8E      # Yh(1,2)'    %Yh12\n",
    "a.LHA.blocks['YHIN'][(1,3)]='%0.8E      # Yh(1,3)'    %Yh13\n",
    "a.LHA.blocks['YHIN'][(2,1)]='%0.8E      # Yh(2,1)'    %Yh21\n",
    "a.LHA.blocks['YHIN'][(2,3)]='%0.8E      # Yh(2,3)'    %Yh23\n",
    "a.LHA.blocks['YHIN'][(3,1)]='%0.8E      # Yh(3,1)'    %Yh31\n",
    "a.LHA.blocks['YHIN'][(3,2)]='%0.8E      # Yh(3,2)'    %Yh32\n",
    "\n",
    "epsE11 = O[0,0]          # epsE(1,1)\n",
    "epsE12 = O[0,1]          # epsE(1,2)\n",
    "epsE13 = O[0,2]          # epsE(1,3)\n",
    "epsE21 = O[1,0]          # epsE(2,1)\n",
    "epsE22 = O[1,1]          # epsE(2,2)\n",
    "epsE23 = O[1,2]          # epsE(2,3)\n",
    "epsE31 = O[2,0]          # epsE(3,1)\n",
    "epsE32 = O[2,1]          # epsE(3,2)\n",
    "epsE33 = O[2,2]          # epsE(3,3)\n",
    "\n",
    "a.LHA.blocks['EPSEIN'][(1,1)]='%0.8E      # epsE(1,1)'    %epsE11\n",
    "a.LHA.blocks['EPSEIN'][(1,2)]='%0.8E      # epsE(1,2)'    %epsE12\n",
    "a.LHA.blocks['EPSEIN'][(1,3)]='%0.8E      # epsE(1,3)'    %epsE13\n",
    "a.LHA.blocks['EPSEIN'][(2,1)]='%0.8E      # epsE(2,1)'    %epsE21\n",
    "a.LHA.blocks['EPSEIN'][(2,2)]='%0.8E      # epsE(2,2)'    %epsE22\n",
    "a.LHA.blocks['EPSEIN'][(2,3)]='%0.8E      # epsE(2,3)'    %epsE23\n",
    "a.LHA.blocks['EPSEIN'][(3,1)]='%0.8E      # epsE(3,1)'    %epsE31\n",
    "a.LHA.blocks['EPSEIN'][(3,2)]='%0.8E      # epsE(3,2)'    %epsE32\n",
    "a.LHA.blocks['EPSEIN'][(3,3)]='%0.8E      # epsE(3,3)'    %epsE33\n",
    "\n",
    "moc=a.runSPheno()"
   ]
  },
  {
   "cell_type": "code",
   "execution_count": 10,
   "metadata": {
    "collapsed": false
   },
   "outputs": [
    {
     "data": {
      "text/plain": [
       "_dict([(25, '1.25000000E+02  # hh_1'),\n",
       "       (35, '7.00000000E+02  # hh_2'),\n",
       "       (37, '2.00000000E+02  # Hm_2'),\n",
       "       (900037, '3.00000000E+02  # Hm_3'),\n",
       "       (36, '9.00000003E+01  # etI'),\n",
       "       (23, '9.11887000E+01  # VZ'),\n",
       "       (24, '8.03497269E+01  # VWp'),\n",
       "       (1, '5.00000000E-03  # Fd_1'),\n",
       "       (3, '9.50000000E-02  # Fd_2'),\n",
       "       (5, '4.18000000E+00  # Fd_3'),\n",
       "       (2, '2.50000000E-03  # Fu_1'),\n",
       "       (4, '1.27000000E+00  # Fu_2'),\n",
       "       (6, '1.73500000E+02  # Fu_3'),\n",
       "       (11, '5.10998930E-04  # Fe_1'),\n",
       "       (13, '1.05658372E-01  # Fe_2'),\n",
       "       (15, '1.77669000E+00  # Fe_3'),\n",
       "       (12, '1.10566570E-15  # Fv_1'),\n",
       "       (14, '8.79913008E-12  # Fv_2'),\n",
       "       (16, '-5.08788553E-11 # Fv_3')])"
      ]
     },
     "execution_count": 10,
     "metadata": {},
     "output_type": "execute_result"
    }
   ],
   "source": [
    "a.LHA_out_with_comments.blocks['MASS'].entries"
   ]
  },
  {
   "cell_type": "code",
   "execution_count": 11,
   "metadata": {
    "collapsed": false
   },
   "outputs": [
    {
     "name": "stdout",
     "output_type": "stream",
     "text": [
      "[[  1.50189445e-12  -2.15866086e-12  -8.37482222e-12]\n",
      " [ -2.15866086e-12  -1.88608035e-11  -2.74299015e-11]\n",
      " [ -8.37482222e-12  -2.74299015e-11  -2.42202582e-11]]\n"
     ]
    }
   ],
   "source": [
    "m_e=0.5109989461e-3;m_mu=0.1056583745;m_tau=1.77686\n",
    "mlep=np.diag([m_e,m_mu,m_tau])\n",
    "Mnu = k*( np.dot( np.dot(O,mlep),f.transpose() )+np.dot( np.dot(f,mlep),O.transpose()) )\n",
    "print Mnu\n",
    "Mnu_diag,U=np.linalg.eig(Mnu)\n",
    "#{-1.5019*10^-12, 2.15866*10^-12, 8.37483*10^-12}, \n",
    "#{2.15866*10^-12, 1.88608*10^-11, 2.74299*10^-11}, \n",
    "#{8.37483*10^-12, 2.74299*10^-11, 2.42203*10^-11}"
   ]
  },
  {
   "cell_type": "code",
   "execution_count": 12,
   "metadata": {
    "collapsed": false
   },
   "outputs": [],
   "source": [
    "lo=np.argsort(np.abs(Mnu_diag))\n",
    "Mnu_diag=np.array([Mnu_diag[lo[0]],Mnu_diag[lo[1]],Mnu_diag[lo[2]]])\n",
    "U=np.matrix(U)\n",
    "U=np.asarray(np.hstack((U[:,lo[0]],U[:,lo[1]],U[:,lo[2]])))"
   ]
  },
  {
   "cell_type": "code",
   "execution_count": 13,
   "metadata": {
    "collapsed": false
   },
   "outputs": [
    {
     "data": {
      "text/plain": [
       "array([  4.78775911e-18,   8.66025815e-12,  -5.02394302e-11])"
      ]
     },
     "execution_count": 13,
     "metadata": {},
     "output_type": "execute_result"
    }
   ],
   "source": [
    "Mnu_diag # m"
   ]
  },
  {
   "cell_type": "code",
   "execution_count": 14,
   "metadata": {
    "collapsed": false
   },
   "outputs": [
    {
     "data": {
      "text/plain": [
       "array([[ 0.82424074, -0.54679359,  0.1471189 ],\n",
       "       [-0.49478359, -0.56914989,  0.65670206],\n",
       "       [ 0.27534777,  0.61407261,  0.73966103]])"
      ]
     },
     "execution_count": 14,
     "metadata": {},
     "output_type": "execute_result"
    }
   ],
   "source": [
    "U"
   ]
  },
  {
   "cell_type": "code",
   "execution_count": 15,
   "metadata": {
    "collapsed": false
   },
   "outputs": [
    {
     "data": {
      "text/plain": [
       "array([[ 0.82424   ,  0.5467947 ,  0.14711891],\n",
       "       [ 0.49478442,  0.56914935,  0.65670191],\n",
       "       [ 0.27534849,  0.61407213,  0.73966116]])"
      ]
     },
     "execution_count": 15,
     "metadata": {},
     "output_type": "execute_result"
    }
   ],
   "source": [
    "mltmp,Dm21_2,Dm3l_2,theta12,theta23,theta13,delta=hp.neutrino_data(IH=False)\n",
    "#m2=np.sqrt(Dm21_2[1]+m1**2); m3=np.sqrt(Dm3l_2[1]+m1**2)\n",
    "np.abs( hp.UPMNS(theta12[1],theta13[1],theta23[1]) )"
   ]
  },
  {
   "cell_type": "code",
   "execution_count": 16,
   "metadata": {
    "collapsed": false
   },
   "outputs": [
    {
     "name": "stdout",
     "output_type": "stream",
     "text": [
      "[[  1.00000000e-05   1.00000000e-04  -1.64367000e-06]\n",
      " [ -2.92587000e-01   1.00000000e-03  -2.23729000e-05]\n",
      " [  5.00000000e-04   1.00000000e-04   1.00000000e-06]]\n",
      "[[ 0.          0.00330763  0.00838968]\n",
      " [-0.00330763  0.          0.0157395 ]\n",
      " [-0.00838968 -0.0157395   0.        ]]\n"
     ]
    }
   ],
   "source": [
    "print O\n",
    "print f"
   ]
  },
  {
   "cell_type": "markdown",
   "metadata": {},
   "source": [
    "[![Home](http://www.incredimail.com/images/nav%20bar/home-icon.png)](./) \n",
    "[Jupyter home](./draft.pdf)"
   ]
  }
 ],
 "metadata": {
  "kernelspec": {
   "display_name": "Python 2",
   "language": "python",
   "name": "python2"
  },
  "language_info": {
   "codemirror_mode": {
    "name": "ipython",
    "version": 2
   },
   "file_extension": ".py",
   "mimetype": "text/x-python",
   "name": "python",
   "nbconvert_exporter": "python",
   "pygments_lexer": "ipython2",
   "version": "2.7.12"
  }
 },
 "nbformat": 4,
 "nbformat_minor": 0
}
